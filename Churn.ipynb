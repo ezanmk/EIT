{
  "nbformat": 4,
  "nbformat_minor": 0,
  "metadata": {
    "colab": {
      "name": "Churn.ipynb",
      "provenance": []
    },
    "kernelspec": {
      "name": "python3",
      "display_name": "Python 3"
    },
    "language_info": {
      "name": "python"
    }
  },
  "cells": [
    {
      "cell_type": "markdown",
      "source": [
        "Practice using and understanding ANNs via churn"
      ],
      "metadata": {
        "id": "S-V-TcWaQjnC"
      }
    },
    {
      "cell_type": "code",
      "metadata": {
        "colab": {
          "base_uri": "https://localhost:8080/"
        },
        "id": "p48H8iCo6TpL",
        "outputId": "29b3770b-8a04-438f-a1f2-e557f2f0a839"
      },
      "source": [
        "import pandas as pd\n",
        "import matplotlib.pyplot as plt\n",
        "import numpy as np\n",
        "import seaborn as sn\n",
        "from imblearn.over_sampling import SMOTE\n",
        "from google.colab import drive\n",
        "drive.mount('/content/gdrive')\n",
        "\n",
        "np.random.seed(9001)\n",
        "#WHAT!? 9000!?!?"
      ],
      "execution_count": null,
      "outputs": [
        {
          "output_type": "stream",
          "text": [
            "Drive already mounted at /content/gdrive; to attempt to forcibly remount, call drive.mount(\"/content/gdrive\", force_remount=True).\n"
          ],
          "name": "stdout"
        },
        {
          "output_type": "stream",
          "text": [
            "/usr/local/lib/python3.7/dist-packages/sklearn/externals/six.py:31: FutureWarning: The module is deprecated in version 0.21 and will be removed in version 0.23 since we've dropped support for Python 2.7. Please rely on the official version of six (https://pypi.org/project/six/).\n",
            "  \"(https://pypi.org/project/six/).\", FutureWarning)\n",
            "/usr/local/lib/python3.7/dist-packages/sklearn/utils/deprecation.py:144: FutureWarning: The sklearn.neighbors.base module is  deprecated in version 0.22 and will be removed in version 0.24. The corresponding classes / functions should instead be imported from sklearn.neighbors. Anything that cannot be imported from sklearn.neighbors is now part of the private API.\n",
            "  warnings.warn(message, FutureWarning)\n"
          ],
          "name": "stderr"
        }
      ]
    },
    {
      "cell_type": "code",
      "metadata": {
        "id": "L97UyQgM7c0d",
        "colab": {
          "base_uri": "https://localhost:8080/"
        },
        "outputId": "f0674f67-a6a7-4eb8-ab71-1deed789aaae"
      },
      "source": [
        "df=pd.read_csv('gdrive/My Drive/Colab Notebooks/Churn/Churn_Modelling - Churn_Modelling.csv')\n",
        "nan_col=[]\n",
        "for header in df.head():\n",
        "    nan_col=[]\n",
        "for header in df.head():\n",
        "    miss=df[header].isnull().values.any()\n",
        "    if miss==True:\n",
        "            nan_col.append(header)\n",
        "    print(df[header].describe())\n",
        "print(nan_col)\n",
        "#No nans"
      ],
      "execution_count": null,
      "outputs": [
        {
          "output_type": "stream",
          "text": [
            "count    10000.00000\n",
            "mean      5000.50000\n",
            "std       2886.89568\n",
            "min          1.00000\n",
            "25%       2500.75000\n",
            "50%       5000.50000\n",
            "75%       7500.25000\n",
            "max      10000.00000\n",
            "Name: RowNumber, dtype: float64\n",
            "count    1.000000e+04\n",
            "mean     1.569094e+07\n",
            "std      7.193619e+04\n",
            "min      1.556570e+07\n",
            "25%      1.562853e+07\n",
            "50%      1.569074e+07\n",
            "75%      1.575323e+07\n",
            "max      1.581569e+07\n",
            "Name: CustomerId, dtype: float64\n",
            "count     10000\n",
            "unique     2932\n",
            "top       Smith\n",
            "freq         32\n",
            "Name: Surname, dtype: object\n",
            "count    10000.000000\n",
            "mean       650.528800\n",
            "std         96.653299\n",
            "min        350.000000\n",
            "25%        584.000000\n",
            "50%        652.000000\n",
            "75%        718.000000\n",
            "max        850.000000\n",
            "Name: CreditScore, dtype: float64\n",
            "count      10000\n",
            "unique         3\n",
            "top       France\n",
            "freq        5014\n",
            "Name: Geography, dtype: object\n",
            "count     10000\n",
            "unique        2\n",
            "top        Male\n",
            "freq       5457\n",
            "Name: Gender, dtype: object\n",
            "count    10000.000000\n",
            "mean        38.921800\n",
            "std         10.487806\n",
            "min         18.000000\n",
            "25%         32.000000\n",
            "50%         37.000000\n",
            "75%         44.000000\n",
            "max         92.000000\n",
            "Name: Age, dtype: float64\n",
            "count    10000.000000\n",
            "mean         5.012800\n",
            "std          2.892174\n",
            "min          0.000000\n",
            "25%          3.000000\n",
            "50%          5.000000\n",
            "75%          7.000000\n",
            "max         10.000000\n",
            "Name: Tenure, dtype: float64\n",
            "count     10000.000000\n",
            "mean      76485.889288\n",
            "std       62397.405202\n",
            "min           0.000000\n",
            "25%           0.000000\n",
            "50%       97198.540000\n",
            "75%      127644.240000\n",
            "max      250898.090000\n",
            "Name: Balance, dtype: float64\n",
            "count    10000.000000\n",
            "mean         1.530200\n",
            "std          0.581654\n",
            "min          1.000000\n",
            "25%          1.000000\n",
            "50%          1.000000\n",
            "75%          2.000000\n",
            "max          4.000000\n",
            "Name: NumOfProducts, dtype: float64\n",
            "count    10000.00000\n",
            "mean         0.70550\n",
            "std          0.45584\n",
            "min          0.00000\n",
            "25%          0.00000\n",
            "50%          1.00000\n",
            "75%          1.00000\n",
            "max          1.00000\n",
            "Name: HasCrCard, dtype: float64\n",
            "count    10000.000000\n",
            "mean         0.515100\n",
            "std          0.499797\n",
            "min          0.000000\n",
            "25%          0.000000\n",
            "50%          1.000000\n",
            "75%          1.000000\n",
            "max          1.000000\n",
            "Name: IsActiveMember, dtype: float64\n",
            "count     10000.000000\n",
            "mean     100090.239881\n",
            "std       57510.492818\n",
            "min          11.580000\n",
            "25%       51002.110000\n",
            "50%      100193.915000\n",
            "75%      149388.247500\n",
            "max      199992.480000\n",
            "Name: EstimatedSalary, dtype: float64\n",
            "count    10000.000000\n",
            "mean         0.203700\n",
            "std          0.402769\n",
            "min          0.000000\n",
            "25%          0.000000\n",
            "50%          0.000000\n",
            "75%          0.000000\n",
            "max          1.000000\n",
            "Name: Exited, dtype: float64\n",
            "[]\n"
          ],
          "name": "stdout"
        }
      ]
    },
    {
      "cell_type": "code",
      "metadata": {
        "colab": {
          "base_uri": "https://localhost:8080/",
          "height": 367
        },
        "id": "ZFxz-EhcUIqE",
        "outputId": "4413856e-ea7e-4907-fe39-66c788c9f8d6"
      },
      "source": [
        "plt.hist(df['Balance'])\n",
        "#print(sorted(df['Balance']))"
      ],
      "execution_count": null,
      "outputs": [
        {
          "output_type": "execute_result",
          "data": {
            "text/plain": [
              "(array([3.623e+03, 6.900e+01, 3.600e+02, 1.173e+03, 2.081e+03, 1.747e+03,\n",
              "        7.290e+02, 1.860e+02, 3.000e+01, 2.000e+00]),\n",
              " array([     0.   ,  25089.809,  50179.618,  75269.427, 100359.236,\n",
              "        125449.045, 150538.854, 175628.663, 200718.472, 225808.281,\n",
              "        250898.09 ]),\n",
              " <a list of 10 Patch objects>)"
            ]
          },
          "metadata": {
            "tags": []
          },
          "execution_count": 4
        },
        {
          "output_type": "display_data",
          "data": {
            "image/png": "[encoded data removed]",
            "text/plain": [
              "<Figure size 432x288 with 1 Axes>"
            ]
          },
          "metadata": {
            "tags": [],
            "needs_background": "light"
          }
        }
      ]
    },
    {
      "cell_type": "code",
      "metadata": {
        "id": "79EFyyXdUNfu"
      },
      "source": [
        "bal=df['Balance'].to_numpy()\n",
        "mini = np.min(bal[np.nonzero(bal)])\n",
        "maxi = np.max(bal[np.nonzero(bal)])\n",
        "norm_bal=[]\n",
        "for row in df['Balance']:\n",
        "    if row!=0:\n",
        "        norm=(row-mini)/(maxi-mini)\n",
        "        norm_bal.append(norm)\n",
        "    else:norm_bal.append(0)\n",
        "df['Balance']=norm_bal"
      ],
      "execution_count": null,
      "outputs": []
    },
    {
      "cell_type": "code",
      "metadata": {
        "colab": {
          "base_uri": "https://localhost:8080/",
          "height": 333
        },
        "id": "DYZK_abNUR_G",
        "outputId": "0136d39d-b0d8-4466-b88e-28d5ae725c0c"
      },
      "source": [
        "plt.hist(df['Balance'])"
      ],
      "execution_count": null,
      "outputs": [
        {
          "output_type": "execute_result",
          "data": {
            "text/plain": [
              "(array([3.627e+03, 8.200e+01, 4.180e+02, 1.255e+03, 2.089e+03, 1.647e+03,\n",
              "        6.790e+02, 1.730e+02, 2.800e+01, 2.000e+00]),\n",
              " array([0. , 0.1, 0.2, 0.3, 0.4, 0.5, 0.6, 0.7, 0.8, 0.9, 1. ]),\n",
              " <a list of 10 Patch objects>)"
            ]
          },
          "metadata": {
            "tags": []
          },
          "execution_count": 6
        },
        {
          "output_type": "display_data",
          "data": {
            "image/png": "[encoded data removed]",
            "text/plain": [
              "<Figure size 432x288 with 1 Axes>"
            ]
          },
          "metadata": {
            "tags": [],
            "needs_background": "light"
          }
        }
      ]
    },
    {
      "cell_type": "code",
      "metadata": {
        "id": "dV0mY2cQUWGS"
      },
      "source": [
        "#11.58\n",
        "#print(sorted(df['EstimatedSalary']))\n",
        "tooLow=df.loc[df['EstimatedSalary']==11.58]\n",
        "ind=tooLow['RowNumber']\n",
        "df=df.drop(index=ind) "
      ],
      "execution_count": null,
      "outputs": []
    },
    {
      "cell_type": "code",
      "metadata": {
        "colab": {
          "base_uri": "https://localhost:8080/"
        },
        "id": "AtQcwwz3UcQ4",
        "outputId": "c4e2523c-ea9e-485a-ce79-179ed1d3a73d"
      },
      "source": [
        "df['EstimatedSalary'].describe()"
      ],
      "execution_count": null,
      "outputs": [
        {
          "output_type": "execute_result",
          "data": {
            "text/plain": [
              "count      9999.000000\n",
              "mean     100092.497169\n",
              "std       57512.925829\n",
              "min          11.580000\n",
              "25%       50992.930000\n",
              "50%      100200.400000\n",
              "75%      149392.065000\n",
              "max      199992.480000\n",
              "Name: EstimatedSalary, dtype: float64"
            ]
          },
          "metadata": {
            "tags": []
          },
          "execution_count": 8
        }
      ]
    },
    {
      "cell_type": "code",
      "metadata": {
        "id": "qr7HsE9-UjvW"
      },
      "source": [
        "#df['EstimatedSalary']=np.log(df['EstimatedSalary'])\n",
        "maxi=np.amax(df['EstimatedSalary'].to_numpy())\n",
        "mini=np.amin(df['EstimatedSalary'].to_numpy())\n",
        "norm_sal=[]\n",
        "for row in df['EstimatedSalary']:\n",
        "    norm=(row-mini)/(maxi-mini)\n",
        "    norm_sal.append(norm)\n",
        "df['EstimatedSalary']=norm_sal"
      ],
      "execution_count": null,
      "outputs": []
    },
    {
      "cell_type": "code",
      "metadata": {
        "colab": {
          "base_uri": "https://localhost:8080/",
          "height": 333
        },
        "id": "9bUEhT9wUof3",
        "outputId": "d3adbf73-33df-4b51-cf1d-d72a0a9a9c08"
      },
      "source": [
        "plt.hist(df['EstimatedSalary'])"
      ],
      "execution_count": null,
      "outputs": [
        {
          "output_type": "execute_result",
          "data": {
            "text/plain": [
              "(array([ 987.,  968., 1006., 1026., 1002., 1027., 1007.,  982., 1009.,\n",
              "         985.]),\n",
              " array([0. , 0.1, 0.2, 0.3, 0.4, 0.5, 0.6, 0.7, 0.8, 0.9, 1. ]),\n",
              " <a list of 10 Patch objects>)"
            ]
          },
          "metadata": {
            "tags": []
          },
          "execution_count": 10
        },
        {
          "output_type": "display_data",
          "data": {
            "image/png": "[encoded data removed]",
            "text/plain": [
              "<Figure size 432x288 with 1 Axes>"
            ]
          },
          "metadata": {
            "tags": [],
            "needs_background": "light"
          }
        }
      ]
    },
    {
      "cell_type": "code",
      "metadata": {
        "colab": {
          "base_uri": "https://localhost:8080/",
          "height": 333
        },
        "id": "Cvf0C3e5UsuF",
        "outputId": "b83100fe-93b1-42b0-b32e-82e6abdbd9a7"
      },
      "source": [
        "plt.hist(df['CreditScore'])"
      ],
      "execution_count": null,
      "outputs": [
        {
          "output_type": "execute_result",
          "data": {
            "text/plain": [
              "(array([  19.,  166.,  447.,  958., 1443., 1866., 1952., 1525.,  968.,\n",
              "         655.]),\n",
              " array([350., 400., 450., 500., 550., 600., 650., 700., 750., 800., 850.]),\n",
              " <a list of 10 Patch objects>)"
            ]
          },
          "metadata": {
            "tags": []
          },
          "execution_count": 11
        },
        {
          "output_type": "display_data",
          "data": {
            "image/png": "[encoded data removed]",
            "text/plain": [
              "<Figure size 432x288 with 1 Axes>"
            ]
          },
          "metadata": {
            "tags": [],
            "needs_background": "light"
          }
        }
      ]
    },
    {
      "cell_type": "code",
      "metadata": {
        "colab": {
          "base_uri": "https://localhost:8080/"
        },
        "id": "OcUF4mJ-UwrJ",
        "outputId": "ac701477-183d-4dbe-b972-88b4b963ccbc"
      },
      "source": [
        "#print(sorted(df['CreditScore']))\n",
        "#of 10000 obs only 19 are below 400\n",
        "low=df.loc[df['CreditScore']<400]\n",
        "ind=low['RowNumber']\n",
        "for num in ind:\n",
        "    df=df.drop(index=num)\n",
        "df.shape"
      ],
      "execution_count": null,
      "outputs": [
        {
          "output_type": "execute_result",
          "data": {
            "text/plain": [
              "(9980, 14)"
            ]
          },
          "metadata": {
            "tags": []
          },
          "execution_count": 12
        }
      ]
    },
    {
      "cell_type": "code",
      "metadata": {
        "colab": {
          "base_uri": "https://localhost:8080/"
        },
        "id": "s8aoHDZLU3Cw",
        "outputId": "65e82af8-ed20-4e0b-a51d-b78a92608a96"
      },
      "source": [
        "#normalize credit score via the max (/850)\n",
        "norm_score=[]\n",
        "cred=df['CreditScore']\n",
        "for num in cred:\n",
        "    norm_score.append(num/850)\n",
        "df['CreditScore']=norm_score\n",
        "df[\"CreditScore\"].describe"
      ],
      "execution_count": null,
      "outputs": [
        {
          "output_type": "execute_result",
          "data": {
            "text/plain": [
              "<bound method NDFrame.describe of 0       0.728235\n",
              "1       0.715294\n",
              "2       0.590588\n",
              "3       0.822353\n",
              "4       1.000000\n",
              "          ...   \n",
              "9995    0.907059\n",
              "9996    0.607059\n",
              "9997    0.834118\n",
              "9998    0.908235\n",
              "9999    0.931765\n",
              "Name: CreditScore, Length: 9980, dtype: float64>"
            ]
          },
          "metadata": {
            "tags": []
          },
          "execution_count": 13
        }
      ]
    },
    {
      "cell_type": "code",
      "metadata": {
        "colab": {
          "base_uri": "https://localhost:8080/",
          "height": 367
        },
        "id": "ZX45RL9FU6r0",
        "outputId": "3df9783b-99b2-4e3e-a590-4292d46d9eee"
      },
      "source": [
        "plt.hist(df['CreditScore'])"
      ],
      "execution_count": null,
      "outputs": [
        {
          "output_type": "execute_result",
          "data": {
            "text/plain": [
              "(array([  19.,  165.,  446.,  955., 1440., 1865., 1948., 1521.,  966.,\n",
              "         655.]),\n",
              " array([0.41176471, 0.47058824, 0.52941176, 0.58823529, 0.64705882,\n",
              "        0.70588235, 0.76470588, 0.82352941, 0.88235294, 0.94117647,\n",
              "        1.        ]),\n",
              " <a list of 10 Patch objects>)"
            ]
          },
          "metadata": {
            "tags": []
          },
          "execution_count": 14
        },
        {
          "output_type": "display_data",
          "data": {
            "image/png": "[encoded data removed]",
            "text/plain": [
              "<Figure size 432x288 with 1 Axes>"
            ]
          },
          "metadata": {
            "tags": [],
            "needs_background": "light"
          }
        }
      ]
    },
    {
      "cell_type": "code",
      "metadata": {
        "colab": {
          "base_uri": "https://localhost:8080/",
          "height": 333
        },
        "id": "2HqI4NNVU9i-",
        "outputId": "f289931e-9867-4e26-eb86-491c730c8d8c"
      },
      "source": [
        "plt.hist(df['Age'])"
      ],
      "execution_count": null,
      "outputs": [
        {
          "output_type": "execute_result",
          "data": {
            "text/plain": [
              "(array([ 608., 2176., 3621., 1867.,  827.,  522.,  208.,  127.,   20.,\n",
              "           4.]),\n",
              " array([18. , 25.4, 32.8, 40.2, 47.6, 55. , 62.4, 69.8, 77.2, 84.6, 92. ]),\n",
              " <a list of 10 Patch objects>)"
            ]
          },
          "metadata": {
            "tags": []
          },
          "execution_count": 15
        },
        {
          "output_type": "display_data",
          "data": {
            "image/png": "[encoded data removed]",
            "text/plain": [
              "<Figure size 432x288 with 1 Axes>"
            ]
          },
          "metadata": {
            "tags": [],
            "needs_background": "light"
          }
        }
      ]
    },
    {
      "cell_type": "code",
      "metadata": {
        "colab": {
          "base_uri": "https://localhost:8080/"
        },
        "id": "yO1wkIykU_su",
        "outputId": "6dddad9f-d7a8-4f7d-8308-ef311c7ecf1e"
      },
      "source": [
        "#print(sorted(df['Age']))\n",
        "#Out 9999 obs only 15 are above 79\n",
        "old=df.loc[df['Age']>79]\n",
        "ind=old['RowNumber']\n",
        "for num in ind:\n",
        "    df=df.drop(index=num)\n",
        "df.shape"
      ],
      "execution_count": null,
      "outputs": [
        {
          "output_type": "execute_result",
          "data": {
            "text/plain": [
              "(9965, 14)"
            ]
          },
          "metadata": {
            "tags": []
          },
          "execution_count": 16
        }
      ]
    },
    {
      "cell_type": "code",
      "metadata": {
        "id": "eLjQtUL0VDRJ"
      },
      "source": [
        "#Normalize Age\n",
        "'''maxi=np.amax(df['Age'].to_numpy())\n",
        "mini=np.amin(df['Age'].to_numpy())\n",
        "norm_age=[]\n",
        "for row in df['Age']:\n",
        "    norm=(row-mini)/(maxi-mini)\n",
        "    norm_age.append(norm)\n",
        "df['Age']=norm_age'''\n",
        "df['Age']=np.log(df['Age'])"
      ],
      "execution_count": null,
      "outputs": []
    },
    {
      "cell_type": "code",
      "metadata": {
        "colab": {
          "base_uri": "https://localhost:8080/",
          "height": 367
        },
        "id": "A0wFL4PYVFxG",
        "outputId": "455cc920-3b0f-4b34-cc8e-6db3fc374613"
      },
      "source": [
        "plt.hist(df['Age'])"
      ],
      "execution_count": null,
      "outputs": [
        {
          "output_type": "execute_result",
          "data": {
            "text/plain": [
              "(array([ 142.,  312., 1181., 2031., 2729., 1865.,  978.,  498.,  210.,\n",
              "          19.]),\n",
              " array([2.89037176, 3.05351344, 3.21665512, 3.3797968 , 3.54293849,\n",
              "        3.70608017, 3.86922185, 4.03236353, 4.19550521, 4.3586469 ,\n",
              "        4.52178858]),\n",
              " <a list of 10 Patch objects>)"
            ]
          },
          "metadata": {
            "tags": []
          },
          "execution_count": 18
        },
        {
          "output_type": "display_data",
          "data": {
            "image/png": "[encoded data removed]",
            "text/plain": [
              "<Figure size 432x288 with 1 Axes>"
            ]
          },
          "metadata": {
            "tags": [],
            "needs_background": "light"
          }
        }
      ]
    },
    {
      "cell_type": "code",
      "metadata": {
        "colab": {
          "base_uri": "https://localhost:8080/"
        },
        "id": "p0W2byXwVIeI",
        "outputId": "a30312c0-4935-46cf-895b-8a12665b32c0"
      },
      "source": [
        "print(df['Geography'].value_counts())"
      ],
      "execution_count": null,
      "outputs": [
        {
          "output_type": "stream",
          "text": [
            "France     4998\n",
            "Germany    2498\n",
            "Spain      2469\n",
            "Name: Geography, dtype: int64\n"
          ],
          "name": "stdout"
        }
      ]
    },
    {
      "cell_type": "code",
      "metadata": {
        "id": "q4cnhAnyVLku"
      },
      "source": [
        "geo=df['Geography']\n",
        "france=[]\n",
        "germany=[]\n",
        "spain=[]\n",
        "for row in geo:\n",
        "    if 'France' in row:\n",
        "        france.append(1)\n",
        "        germany.append(0)\n",
        "        spain.append(0)\n",
        "    elif 'Germany' in row:\n",
        "        france.append(0)\n",
        "        germany.append(1)\n",
        "        spain.append(0)\n",
        "    elif 'Spain' in row:\n",
        "        france.append(0)\n",
        "        germany.append(0)\n",
        "        spain.append(1)\n",
        "df['France']=france\n",
        "df['Germany']=germany\n",
        "df['Spain']=spain\n",
        "df=df.drop(columns='Geography')"
      ],
      "execution_count": null,
      "outputs": []
    },
    {
      "cell_type": "code",
      "metadata": {
        "colab": {
          "base_uri": "https://localhost:8080/"
        },
        "id": "9pA4knWlVOPT",
        "outputId": "ded915ee-1aa4-472c-8a59-6c80b62287ed"
      },
      "source": [
        "df.shape"
      ],
      "execution_count": null,
      "outputs": [
        {
          "output_type": "execute_result",
          "data": {
            "text/plain": [
              "(9965, 16)"
            ]
          },
          "metadata": {
            "tags": []
          },
          "execution_count": 21
        }
      ]
    },
    {
      "cell_type": "code",
      "metadata": {
        "id": "xUB8LHyHVRfa"
      },
      "source": [
        "gen=df['Gender']\n",
        "male=[]\n",
        "female=[]\n",
        "for row in gen:\n",
        "    if 'Male' in row:\n",
        "        male.append(1)\n",
        "        female.append(0)\n",
        "    elif 'Female' in row:\n",
        "        male.append(0)\n",
        "        female.append(1)\n",
        "df['Male']=male\n",
        "df['Female']=female\n",
        "df=df.drop(columns='Gender')"
      ],
      "execution_count": null,
      "outputs": []
    },
    {
      "cell_type": "code",
      "metadata": {
        "colab": {
          "base_uri": "https://localhost:8080/"
        },
        "id": "rvPE7RIXVUkV",
        "outputId": "ee276211-d692-42b6-838c-183eff18279d"
      },
      "source": [
        "df.shape"
      ],
      "execution_count": null,
      "outputs": [
        {
          "output_type": "execute_result",
          "data": {
            "text/plain": [
              "(9965, 17)"
            ]
          },
          "metadata": {
            "tags": []
          },
          "execution_count": 23
        }
      ]
    },
    {
      "cell_type": "code",
      "metadata": {
        "colab": {
          "base_uri": "https://localhost:8080/",
          "height": 333
        },
        "id": "hZlqajLhVZZD",
        "outputId": "dbd2f324-30fa-4197-8281-b8d68c9d14b4"
      },
      "source": [
        "plt.hist(df['Exited'])"
      ],
      "execution_count": null,
      "outputs": [
        {
          "output_type": "execute_result",
          "data": {
            "text/plain": [
              "(array([7936.,    0.,    0.,    0.,    0.,    0.,    0.,    0.,    0.,\n",
              "        2029.]),\n",
              " array([0. , 0.1, 0.2, 0.3, 0.4, 0.5, 0.6, 0.7, 0.8, 0.9, 1. ]),\n",
              " <a list of 10 Patch objects>)"
            ]
          },
          "metadata": {
            "tags": []
          },
          "execution_count": 24
        },
        {
          "output_type": "display_data",
          "data": {
            "image/png": "[encoded data removed]",
            "text/plain": [
              "<Figure size 432x288 with 1 Axes>"
            ]
          },
          "metadata": {
            "tags": [],
            "needs_background": "light"
          }
        }
      ]
    },
    {
      "cell_type": "code",
      "metadata": {
        "id": "eUXP2IcVVbnn"
      },
      "source": [
        "df=df.drop(columns=['RowNumber','CustomerId','Surname'])"
      ],
      "execution_count": null,
      "outputs": []
    },
    {
      "cell_type": "code",
      "metadata": {
        "colab": {
          "base_uri": "https://localhost:8080/",
          "height": 358
        },
        "id": "MMR_nIDXVfRK",
        "outputId": "8f379b6c-7e62-487a-c557-332a79705957"
      },
      "source": [
        "corr=df.corr()\n",
        "sn.heatmap(corr)\n",
        "plt.figure(figsize=(10,7))\n",
        "plt.show()"
      ],
      "execution_count": null,
      "outputs": [
        {
          "output_type": "display_data",
          "data": {
            "image/png": "[encoded data removed]",
            "text/plain": [
              "<Figure size 432x288 with 2 Axes>"
            ]
          },
          "metadata": {
            "tags": [],
            "needs_background": "light"
          }
        },
        {
          "output_type": "display_data",
          "data": {
            "text/plain": [
              "<Figure size 720x504 with 0 Axes>"
            ]
          },
          "metadata": {
            "tags": []
          }
        }
      ]
    },
    {
      "cell_type": "code",
      "metadata": {
        "id": "r5LaY1JcVkeF"
      },
      "source": [
        "shuffle_ind=np.random.permutation(len(df))\n",
        "training_ind=int(len(df)*.8)\n",
        "training=shuffle_ind[:training_ind]\n",
        "val_ind=int(len(df)*.9)\n",
        "val=shuffle_ind[training_ind:val_ind]\n",
        "test=shuffle_ind[val_ind:]\n",
        "columns=df.columns\n",
        "X_labels=[]\n",
        "\n",
        "for column in columns:\n",
        "    if column!='Exited':\n",
        "        X_labels.append(column)\n",
        "#X_labels=header[3:-2]\n",
        "features=df[X_labels]\n",
        "target=df['Exited']\n",
        "train_X=features.iloc[training]\n",
        "train_y=target.iloc[training]\n",
        "val_X=features.iloc[val]\n",
        "val_y=target.iloc[val]\n",
        "test_X=features.iloc[test]\n",
        "test_y=target.iloc[test]\n",
        "#to numpy\n",
        "train_X=train_X.to_numpy()\n",
        "train_y=train_y.to_numpy()\n",
        "val_X=val_X.to_numpy()\n",
        "val_y=val_y.to_numpy()\n",
        "test_X=test_X.to_numpy()\n",
        "test_y=test_y.to_numpy()"
      ],
      "execution_count": null,
      "outputs": []
    },
    {
      "cell_type": "code",
      "metadata": {
        "colab": {
          "base_uri": "https://localhost:8080/"
        },
        "id": "yvBbje1caDFM",
        "outputId": "66df7109-b763-43f2-fdd0-66e069eccc32"
      },
      "source": [
        "np.bincount(train_y)"
      ],
      "execution_count": null,
      "outputs": [
        {
          "output_type": "execute_result",
          "data": {
            "text/plain": [
              "array([6330, 1642])"
            ]
          },
          "metadata": {
            "tags": []
          },
          "execution_count": 28
        }
      ]
    },
    {
      "cell_type": "code",
      "metadata": {
        "colab": {
          "base_uri": "https://localhost:8080/"
        },
        "id": "B3S-wuD_aEic",
        "outputId": "78ba827b-c818-4490-ac0d-40535ebeb8af"
      },
      "source": [
        "smt = SMOTE()\n",
        "train_X, train_y = smt.fit_sample(train_X, train_y)"
      ],
      "execution_count": null,
      "outputs": [
        {
          "output_type": "stream",
          "text": [
            "/usr/local/lib/python3.7/dist-packages/sklearn/utils/deprecation.py:87: FutureWarning: Function safe_indexing is deprecated; safe_indexing is deprecated in version 0.22 and will be removed in version 0.24.\n",
            "  warnings.warn(msg, category=FutureWarning)\n"
          ],
          "name": "stderr"
        }
      ]
    },
    {
      "cell_type": "code",
      "metadata": {
        "colab": {
          "base_uri": "https://localhost:8080/"
        },
        "id": "V-fXRTJacv_q",
        "outputId": "8217d846-4f06-4efd-c0f3-5eff69f93a70"
      },
      "source": [
        "np.bincount(train_y)"
      ],
      "execution_count": null,
      "outputs": [
        {
          "output_type": "execute_result",
          "data": {
            "text/plain": [
              "array([6330, 6330])"
            ]
          },
          "metadata": {
            "tags": []
          },
          "execution_count": 30
        }
      ]
    },
    {
      "cell_type": "code",
      "metadata": {
        "id": "H_wiM9aeVmN7"
      },
      "source": [
        "def linear(H):\n",
        "    return H\n",
        "  \n",
        "def ReLU(H):\n",
        "    return H*(H>0)\n",
        "\n",
        "def sigmoid(H):\n",
        "    return 1/(1+ np.exp(np.float128(-H)))\n",
        "\n",
        "def softmax(H):\n",
        "    eH=np.exp(H)\n",
        "    return eH/eH.sum(axis=1, keepdims =True)\n",
        "\n",
        "def cross_entropy(Y,P_hat):\n",
        "    return -(1/len(Y))*np.sum(Y*np.log(P_hat))\n",
        "\n",
        "def OLS(Y,Y_hat):\n",
        "    return (1/(2*len(Y)))*np.sum((Y - Y_hat)**2)\n",
        "\n",
        "def one_hot_encode(y):\n",
        "    N=len(y)\n",
        "    K = len(set(y))\n",
        "    Y=np.zeros((N,K))\n",
        "\n",
        "    for i in range(N):\n",
        "        Y[i, y[i]]=1\n",
        "\n",
        "    return Y\n",
        "\n",
        "def accuracy(y, y_hat):\n",
        "    return np.mean(y==y_hat)\n",
        "\n",
        "def R2(y,y_hat):\n",
        "    return 1- np.sum((y - y_hat)**2)/np.sum((y - y.mean())**2)\n",
        "\n",
        "def derivative(Z,a):\n",
        "    if a==linear:\n",
        "        return 1\n",
        "    elif a==sigmoid:\n",
        "        return Z*(1-Z)\n",
        "    elif a==np.tanh:\n",
        "        return 1-Z*Z\n",
        "    elif a==ReLU:\n",
        "        return(Z>0).astype(int)\n",
        "    else:\n",
        "        ValueError('Uknown Activation Function')"
      ],
      "execution_count": null,
      "outputs": []
    },
    {
      "cell_type": "code",
      "metadata": {
        "id": "rToxi9zCVx07"
      },
      "source": [
        "class ANN():\n",
        "    def __init__(self,architecture,activations=None,mode=1):\n",
        "        self.mode=mode\n",
        "        self.architecture=architecture\n",
        "        self.activations=activations\n",
        "        self.L=len(architecture)+1\n",
        "        \n",
        "    def fit(self,X,y,eta=1e-3,epochs=1e3,show_curve=False):\n",
        "        epochs=int(epochs)\n",
        "        if self.mode:\n",
        "            Y=one_hot_encode(y)\n",
        "        else:\n",
        "            Y=one_hot_encode(y)\n",
        "            \n",
        "        N,D=X.shape\n",
        "        K=Y.shape[1]\n",
        "        \n",
        "        #Initialize Weights and Biases:Stochastic Initialization\n",
        "        self.W={l:np.random.randn(M[0],M[1]) for l,M in enumerate\n",
        "                (zip(([D]+self.architecture),(self.architecture+[K])),1)}\n",
        "        self.b={l:np.random.randn(M) for l,M in enumerate(self.architecture+[K],1)}\n",
        "        \n",
        "        #Activation Function Loading\n",
        "        if self.activations is None:\n",
        "            self.a={l: ReLU for l in range(1,self.L)}\n",
        "        else:\n",
        "            self.a={l: act for l,act in enumerate(self.activations,1)}\n",
        "            \n",
        "        #Mode Set\n",
        "        if self.mode:\n",
        "            self.a[self.L]=linear\n",
        "        else:\n",
        "            self.a[self.L]=softmax\n",
        "        J=np.zeros(epochs)\n",
        "        \n",
        "        #Gradient Descent/Back Propagation\n",
        "        for epoch in range(epochs):\n",
        "            self.forward(X)\n",
        "            \n",
        "            if self.mode:\n",
        "                J[epoch]=OLS(Y,self.Z[self.L])\n",
        "            else:\n",
        "                J[epoch]=cross_entropy(Y,self.Z[self.L])\n",
        "            dH=(1/N)*(self.Z[self.L]-Y)\n",
        "            \n",
        "            for l in sorted(self.W.keys(),reverse=True):\n",
        "                dW=self.Z[l-1].T@dH\n",
        "                db=dH.sum(axis=0)\n",
        "                \n",
        "                self.W[l]-=eta*dW\n",
        "                self.b[l]-=eta*db\n",
        "                \n",
        "                if l>1:\n",
        "                    dZ=dH@self.W[l].T\n",
        "                    dH=dZ*derivative(self.Z[l-1],self.a[l-1])\n",
        "                    \n",
        "        if show_curve:\n",
        "            plt.figure()\n",
        "            plt.plot(J)\n",
        "            plt.xlabel('epochs')\n",
        "            plt.ylabel('$\\mathcal{J}$')\n",
        "            plt.title('Training Curve')\n",
        "            plt.show()\n",
        "            \n",
        "    def forward(self,X):\n",
        "        self.Z={0:X}\n",
        "        for l in sorted(self.W.keys()):\n",
        "            self.Z[l]=self.a[l](self.Z[l-1]@self.W[l]+self.b[l])\n",
        "    \n",
        "    def predict(self,X):\n",
        "        self.forward(X)\n",
        "        \n",
        "        if self.mode:\n",
        "            return self.Z[self.L]\n",
        "        else:\n",
        "            return self.Z[self.L].argmax(axis=1)"
      ],
      "execution_count": null,
      "outputs": []
    },
    {
      "cell_type": "code",
      "metadata": {
        "colab": {
          "base_uri": "https://localhost:8080/",
          "height": 295
        },
        "id": "aH6UoCxtV117",
        "outputId": "abdbdad1-9894-4855-b4ba-81deb015fef9"
      },
      "source": [
        "ann = ANN(mode=0,architecture=[32, 12, 2],activations=[ReLU,ReLU,sigmoid])\n",
        "ann.fit(train_X, train_y, eta = 1e-3, epochs = 4e3, show_curve = True)"
      ],
      "execution_count": null,
      "outputs": [
        {
          "output_type": "display_data",
          "data": {
            "image/png": "[encoded data removed]",
            "text/plain": [
              "<Figure size 432x288 with 1 Axes>"
            ]
          },
          "metadata": {
            "tags": [],
            "needs_background": "light"
          }
        }
      ]
    },
    {
      "cell_type": "code",
      "metadata": {
        "colab": {
          "base_uri": "https://localhost:8080/"
        },
        "id": "2CrZ5XA8V4_L",
        "outputId": "1f5e5dfb-d4bb-44fb-a891-d2352a9c6353"
      },
      "source": [
        " y_hat = ann.predict(test_X)\n",
        " y_hat = pd.DataFrame(y_hat)\n",
        " print(y_hat)\n",
        " def filter_func(x):\n",
        "   if x > 0.2:\n",
        "     return 1\n",
        "   else:\n",
        "     return 0\n",
        "y_hat = y_hat.iloc[:, 0].apply(filter_func)\n",
        "print(f\"Training Accuracy: {accuracy(test_y, y_hat):0.4f}\")"
      ],
      "execution_count": null,
      "outputs": [
        {
          "output_type": "stream",
          "text": [
            "     0\n",
            "0    0\n",
            "1    0\n",
            "2    0\n",
            "3    0\n",
            "4    0\n",
            "..  ..\n",
            "992  0\n",
            "993  0\n",
            "994  0\n",
            "995  0\n",
            "996  0\n",
            "\n",
            "[997 rows x 1 columns]\n",
            "Training Accuracy: 0.7372\n"
          ],
          "name": "stdout"
        }
      ]
    },
    {
      "cell_type": "code",
      "metadata": {
        "id": "ze_Cy8dsVpdx"
      },
      "source": [
        "\"Author: Ezra Cook\"\n",
        "def confusion_matrix(y, y_hat):\n",
        "  plt.figure(figsize=(10,7))\n",
        "  y_actu = pd.Series(y, name='Actual')\n",
        "  y_pred = pd.Series(y_hat, name='Predicted')\n",
        "  cm = pd.crosstab(y_actu, y_pred)\n",
        "  ax = sn.heatmap(cm, annot=True, fmt=\"d\")\n",
        "  plt.ylabel('True label')\n",
        "  plt.xlabel('Predicted label')\n",
        "  #plt.savefig(\"/content/drive/MyDrive/cm\")"
      ],
      "execution_count": null,
      "outputs": []
    },
    {
      "cell_type": "code",
      "metadata": {
        "colab": {
          "base_uri": "https://localhost:8080/",
          "height": 442
        },
        "id": "CBbLqTGQpJB8",
        "outputId": "95ea7b61-9bf6-4c2c-9764-f60aa0ce50fd"
      },
      "source": [
        "confusion_matrix(test_y, y_hat)"
      ],
      "execution_count": null,
      "outputs": [
        {
          "output_type": "display_data",
          "data": {
            "image/png": "[encoded data removed]",
            "text/plain": [
              "<Figure size 720x504 with 2 Axes>"
            ]
          },
          "metadata": {
            "tags": [],
            "needs_background": "light"
          }
        }
      ]
    },
    {
      "cell_type": "markdown",
      "metadata": {
        "id": "L7RqOp7mExoZ"
      },
      "source": []
    },
    {
      "cell_type": "code",
      "metadata": {
        "colab": {
          "base_uri": "https://localhost:8080/"
        },
        "id": "KirjlIfmm1kr",
        "outputId": "d6cabe66-8b93-4d71-bae5-bc552abba26d"
      },
      "source": [
        "print(y_hat)"
      ],
      "execution_count": null,
      "outputs": [
        {
          "output_type": "stream",
          "text": [
            "0      0\n",
            "1      0\n",
            "2      0\n",
            "3      0\n",
            "4      0\n",
            "      ..\n",
            "992    0\n",
            "993    0\n",
            "994    0\n",
            "995    0\n",
            "996    0\n",
            "Name: 0, Length: 997, dtype: int64\n"
          ],
          "name": "stdout"
        }
      ]
    }
  ]
}