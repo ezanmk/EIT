{
  "nbformat": 4,
  "nbformat_minor": 0,
  "metadata": {
    "colab": {
      "name": "Wally_World_Stores2_Prophet.ipynb",
      "provenance": [],
      "authorship_tag": "ABX9TyMhfOrMwnsidlBov6aXua3k"
    },
    "kernelspec": {
      "name": "python3",
      "display_name": "Python 3"
    },
    "language_info": {
      "name": "python"
    }
  },
  "cells": [
    {
      "cell_type": "markdown",
      "source": [
        "Developing Prophet model for bin 2"
      ],
      "metadata": {
        "id": "0Y6BSKaYhV4R"
      }
    },
    {
      "cell_type": "code",
      "metadata": {
        "colab": {
          "base_uri": "https://localhost:8080/"
        },
        "id": "7PfqpRVVhrsE",
        "outputId": "f4d38456-f57c-42eb-93fd-9c15f411bf6f"
      },
      "source": [
        "import numpy as np\n",
        "import pandas as pd\n",
        "import matplotlib.pyplot as plt\n",
        "import pickle\n",
        "\n",
        "from math import floor\n",
        "from fbprophet import Prophet\n",
        "\n",
        "import os \n",
        "\n",
        "from google.colab import drive\n",
        "drive.mount('/content/gdrive')\n",
        "\n",
        "np.random.seed(9001)\n",
        "#WHAT!? 9000!?!?"
      ],
      "execution_count": null,
      "outputs": [
        {
          "output_type": "stream",
          "text": [
            "Mounted at /content/gdrive\n"
          ],
          "name": "stdout"
        }
      ]
    },
    {
      "cell_type": "markdown",
      "metadata": {
        "id": "qwGWfeKwIdwE"
      },
      "source": [
        "#Load Data"
      ]
    },
    {
      "cell_type": "code",
      "metadata": {
        "colab": {
          "base_uri": "https://localhost:8080/",
          "height": 297
        },
        "id": "YTrTlg5JjtEK",
        "outputId": "ca610cdd-538b-4bc5-c591-738995423c14"
      },
      "source": [
        "df=pd.read_csv('gdrive/My Drive/Colab Notebooks/TimeSeries/Walmart_Data/W_Store_Bin2.csv')\n",
        "df=df.drop(columns=['Unnamed: 0','Weekly_Sales','Weekly_Sales_log'])\n",
        "df.describe()"
      ],
      "execution_count": null,
      "outputs": [
        {
          "output_type": "execute_result",
          "data": {
            "text/html": [
              "<div>\n",
              "<style scoped>\n",
              "    .dataframe tbody tr th:only-of-type {\n",
              "        vertical-align: middle;\n",
              "    }\n",
              "\n",
              "    .dataframe tbody tr th {\n",
              "        vertical-align: top;\n",
              "    }\n",
              "\n",
              "    .dataframe thead th {\n",
              "        text-align: right;\n",
              "    }\n",
              "</style>\n",
              "<table border=\"1\" class=\"dataframe\">\n",
              "  <thead>\n",
              "    <tr style=\"text-align: right;\">\n",
              "      <th></th>\n",
              "      <th>log_minMax</th>\n",
              "    </tr>\n",
              "  </thead>\n",
              "  <tbody>\n",
              "    <tr>\n",
              "      <th>count</th>\n",
              "      <td>143.000000</td>\n",
              "    </tr>\n",
              "    <tr>\n",
              "      <th>mean</th>\n",
              "      <td>0.457242</td>\n",
              "    </tr>\n",
              "    <tr>\n",
              "      <th>std</th>\n",
              "      <td>0.150340</td>\n",
              "    </tr>\n",
              "    <tr>\n",
              "      <th>min</th>\n",
              "      <td>0.000000</td>\n",
              "    </tr>\n",
              "    <tr>\n",
              "      <th>25%</th>\n",
              "      <td>0.390295</td>\n",
              "    </tr>\n",
              "    <tr>\n",
              "      <th>50%</th>\n",
              "      <td>0.468357</td>\n",
              "    </tr>\n",
              "    <tr>\n",
              "      <th>75%</th>\n",
              "      <td>0.532382</td>\n",
              "    </tr>\n",
              "    <tr>\n",
              "      <th>max</th>\n",
              "      <td>1.000000</td>\n",
              "    </tr>\n",
              "  </tbody>\n",
              "</table>\n",
              "</div>"
            ],
            "text/plain": [
              "       log_minMax\n",
              "count  143.000000\n",
              "mean     0.457242\n",
              "std      0.150340\n",
              "min      0.000000\n",
              "25%      0.390295\n",
              "50%      0.468357\n",
              "75%      0.532382\n",
              "max      1.000000"
            ]
          },
          "metadata": {
            "tags": []
          },
          "execution_count": 2
        }
      ]
    },
    {
      "cell_type": "code",
      "metadata": {
        "colab": {
          "base_uri": "https://localhost:8080/",
          "height": 265
        },
        "id": "7kLaTeRCmc2N",
        "outputId": "eb45fca6-8570-4397-c4b4-940d426ef428"
      },
      "source": [
        "df.plot()\n",
        "plt.show()"
      ],
      "execution_count": null,
      "outputs": [
        {
          "output_type": "display_data",
          "data": {
            "image/png": "[encoded data removed]",
            "text/plain": [
              "<Figure size 432x288 with 1 Axes>"
            ]
          },
          "metadata": {
            "tags": [],
            "needs_background": "light"
          }
        }
      ]
    },
    {
      "cell_type": "markdown",
      "metadata": {
        "id": "x-2we8Xkzcz0"
      },
      "source": [
        "#Model"
      ]
    },
    {
      "cell_type": "markdown",
      "metadata": {
        "id": "pcdbuzJVp-n2"
      },
      "source": [
        "##Model Prep"
      ]
    },
    {
      "cell_type": "code",
      "metadata": {
        "id": "iKIPVpEfOGLp"
      },
      "source": [
        "#Prophet demands columns be designated as ds and y\n",
        "df=df.rename(columns={'Date':'ds','log_minMax':'y'})"
      ],
      "execution_count": null,
      "outputs": []
    },
    {
      "cell_type": "markdown",
      "metadata": {
        "id": "LtQALJHeyeP7"
      },
      "source": [
        "###Train, Validation, And Test Split"
      ]
    },
    {
      "cell_type": "code",
      "metadata": {
        "id": "O6XdrKZnVYpa"
      },
      "source": [
        "trainInd=floor(len(df)*.8)\n",
        "valInd=floor(len(df)*.9)\n",
        "train=df.loc[:trainInd,:]\n",
        "val=df['ds'][trainInd:valInd]\n",
        "val=val.to_frame()\n",
        "test=df['ds'][valInd:]\n",
        "test=test.to_frame()"
      ],
      "execution_count": null,
      "outputs": []
    },
    {
      "cell_type": "markdown",
      "metadata": {
        "id": "7PuMyvCxYDPW"
      },
      "source": [
        "##Model Creation And Validation"
      ]
    },
    {
      "cell_type": "code",
      "metadata": {
        "id": "KcYBElQNwTgp",
        "colab": {
          "base_uri": "https://localhost:8080/"
        },
        "outputId": "be0666d6-b2a1-4e3c-be01-b305019b3eba"
      },
      "source": [
        "model = Prophet()\n",
        "model.fit(train)"
      ],
      "execution_count": null,
      "outputs": [
        {
          "output_type": "stream",
          "text": [
            "INFO:numexpr.utils:NumExpr defaulting to 2 threads.\n",
            "INFO:fbprophet:Disabling weekly seasonality. Run prophet with weekly_seasonality=True to override this.\n",
            "INFO:fbprophet:Disabling daily seasonality. Run prophet with daily_seasonality=True to override this.\n"
          ],
          "name": "stderr"
        },
        {
          "output_type": "execute_result",
          "data": {
            "text/plain": [
              "<fbprophet.forecaster.Prophet at 0x7f9a868fac50>"
            ]
          },
          "metadata": {
            "tags": []
          },
          "execution_count": 6
        }
      ]
    },
    {
      "cell_type": "code",
      "metadata": {
        "id": "z-KwrdZDX_cq"
      },
      "source": [
        "forecast=model.predict(val)"
      ],
      "execution_count": null,
      "outputs": []
    },
    {
      "cell_type": "code",
      "metadata": {
        "colab": {
          "base_uri": "https://localhost:8080/"
        },
        "id": "XrtH6-Y2N23M",
        "outputId": "d1bf6350-35c6-4717-b7ba-310a109ad562"
      },
      "source": [
        "print(forecast[['ds', 'yhat', 'yhat_lower', 'yhat_upper']].head())"
      ],
      "execution_count": null,
      "outputs": [
        {
          "output_type": "stream",
          "text": [
            "          ds      yhat  yhat_lower  yhat_upper\n",
            "0 2012-04-13  0.404879    0.308447    0.507492\n",
            "1 2012-04-20  0.384625    0.276876    0.490551\n",
            "2 2012-04-27  0.397059    0.292767    0.492773\n",
            "3 2012-05-04  0.434349    0.336784    0.534038\n",
            "4 2012-05-11  0.468925    0.372683    0.573179\n"
          ],
          "name": "stdout"
        }
      ]
    },
    {
      "cell_type": "code",
      "metadata": {
        "colab": {
          "base_uri": "https://localhost:8080/",
          "height": 441
        },
        "id": "mpVhrrJVUwmf",
        "outputId": "56adc5ce-0f62-4e75-baf0-64ed05700686"
      },
      "source": [
        "model.plot(forecast)\n",
        "plt.show()"
      ],
      "execution_count": null,
      "outputs": [
        {
          "output_type": "display_data",
          "data": {
            "image/png": "[encoded data removed]",
            "text/plain": [
              "<Figure size 720x432 with 1 Axes>"
            ]
          },
          "metadata": {
            "tags": []
          }
        }
      ]
    },
    {
      "cell_type": "code",
      "metadata": {
        "colab": {
          "base_uri": "https://localhost:8080/",
          "height": 317
        },
        "id": "NuYpHpYlbgoy",
        "outputId": "c0e400b0-6450-48bf-81c9-b736b8e99439"
      },
      "source": [
        "forecast.describe()"
      ],
      "execution_count": null,
      "outputs": [
        {
          "output_type": "execute_result",
          "data": {
            "text/html": [
              "<div>\n",
              "<style scoped>\n",
              "    .dataframe tbody tr th:only-of-type {\n",
              "        vertical-align: middle;\n",
              "    }\n",
              "\n",
              "    .dataframe tbody tr th {\n",
              "        vertical-align: top;\n",
              "    }\n",
              "\n",
              "    .dataframe thead th {\n",
              "        text-align: right;\n",
              "    }\n",
              "</style>\n",
              "<table border=\"1\" class=\"dataframe\">\n",
              "  <thead>\n",
              "    <tr style=\"text-align: right;\">\n",
              "      <th></th>\n",
              "      <th>trend</th>\n",
              "      <th>yhat_lower</th>\n",
              "      <th>yhat_upper</th>\n",
              "      <th>trend_lower</th>\n",
              "      <th>trend_upper</th>\n",
              "      <th>additive_terms</th>\n",
              "      <th>additive_terms_lower</th>\n",
              "      <th>additive_terms_upper</th>\n",
              "      <th>yearly</th>\n",
              "      <th>yearly_lower</th>\n",
              "      <th>yearly_upper</th>\n",
              "      <th>multiplicative_terms</th>\n",
              "      <th>multiplicative_terms_lower</th>\n",
              "      <th>multiplicative_terms_upper</th>\n",
              "      <th>yhat</th>\n",
              "    </tr>\n",
              "  </thead>\n",
              "  <tbody>\n",
              "    <tr>\n",
              "      <th>count</th>\n",
              "      <td>14.000000</td>\n",
              "      <td>14.000000</td>\n",
              "      <td>14.000000</td>\n",
              "      <td>14.000000</td>\n",
              "      <td>14.000000</td>\n",
              "      <td>14.000000</td>\n",
              "      <td>14.000000</td>\n",
              "      <td>14.000000</td>\n",
              "      <td>14.000000</td>\n",
              "      <td>14.000000</td>\n",
              "      <td>14.000000</td>\n",
              "      <td>14.0</td>\n",
              "      <td>14.0</td>\n",
              "      <td>14.0</td>\n",
              "      <td>14.000000</td>\n",
              "    </tr>\n",
              "    <tr>\n",
              "      <th>mean</th>\n",
              "      <td>0.444019</td>\n",
              "      <td>0.352101</td>\n",
              "      <td>0.552930</td>\n",
              "      <td>0.443971</td>\n",
              "      <td>0.444063</td>\n",
              "      <td>0.008616</td>\n",
              "      <td>0.008616</td>\n",
              "      <td>0.008616</td>\n",
              "      <td>0.008616</td>\n",
              "      <td>0.008616</td>\n",
              "      <td>0.008616</td>\n",
              "      <td>0.0</td>\n",
              "      <td>0.0</td>\n",
              "      <td>0.0</td>\n",
              "      <td>0.452636</td>\n",
              "    </tr>\n",
              "    <tr>\n",
              "      <th>std</th>\n",
              "      <td>0.000717</td>\n",
              "      <td>0.036858</td>\n",
              "      <td>0.035710</td>\n",
              "      <td>0.000758</td>\n",
              "      <td>0.000677</td>\n",
              "      <td>0.036420</td>\n",
              "      <td>0.036420</td>\n",
              "      <td>0.036420</td>\n",
              "      <td>0.036420</td>\n",
              "      <td>0.036420</td>\n",
              "      <td>0.036420</td>\n",
              "      <td>0.0</td>\n",
              "      <td>0.0</td>\n",
              "      <td>0.0</td>\n",
              "      <td>0.035836</td>\n",
              "    </tr>\n",
              "    <tr>\n",
              "      <th>min</th>\n",
              "      <td>0.442906</td>\n",
              "      <td>0.276876</td>\n",
              "      <td>0.490551</td>\n",
              "      <td>0.442786</td>\n",
              "      <td>0.443026</td>\n",
              "      <td>-0.060337</td>\n",
              "      <td>-0.060337</td>\n",
              "      <td>-0.060337</td>\n",
              "      <td>-0.060337</td>\n",
              "      <td>-0.060337</td>\n",
              "      <td>-0.060337</td>\n",
              "      <td>0.0</td>\n",
              "      <td>0.0</td>\n",
              "      <td>0.0</td>\n",
              "      <td>0.384625</td>\n",
              "    </tr>\n",
              "    <tr>\n",
              "      <th>25%</th>\n",
              "      <td>0.443463</td>\n",
              "      <td>0.338167</td>\n",
              "      <td>0.534988</td>\n",
              "      <td>0.443383</td>\n",
              "      <td>0.443534</td>\n",
              "      <td>-0.008256</td>\n",
              "      <td>-0.008256</td>\n",
              "      <td>-0.008256</td>\n",
              "      <td>-0.008256</td>\n",
              "      <td>-0.008256</td>\n",
              "      <td>-0.008256</td>\n",
              "      <td>0.0</td>\n",
              "      <td>0.0</td>\n",
              "      <td>0.0</td>\n",
              "      <td>0.436192</td>\n",
              "    </tr>\n",
              "    <tr>\n",
              "      <th>50%</th>\n",
              "      <td>0.444019</td>\n",
              "      <td>0.364781</td>\n",
              "      <td>0.563219</td>\n",
              "      <td>0.443978</td>\n",
              "      <td>0.444052</td>\n",
              "      <td>0.019217</td>\n",
              "      <td>0.019217</td>\n",
              "      <td>0.019217</td>\n",
              "      <td>0.019217</td>\n",
              "      <td>0.019217</td>\n",
              "      <td>0.019217</td>\n",
              "      <td>0.0</td>\n",
              "      <td>0.0</td>\n",
              "      <td>0.0</td>\n",
              "      <td>0.463494</td>\n",
              "    </tr>\n",
              "    <tr>\n",
              "      <th>75%</th>\n",
              "      <td>0.444576</td>\n",
              "      <td>0.375316</td>\n",
              "      <td>0.579739</td>\n",
              "      <td>0.444565</td>\n",
              "      <td>0.444585</td>\n",
              "      <td>0.033801</td>\n",
              "      <td>0.033801</td>\n",
              "      <td>0.033801</td>\n",
              "      <td>0.033801</td>\n",
              "      <td>0.033801</td>\n",
              "      <td>0.033801</td>\n",
              "      <td>0.0</td>\n",
              "      <td>0.0</td>\n",
              "      <td>0.0</td>\n",
              "      <td>0.477049</td>\n",
              "    </tr>\n",
              "    <tr>\n",
              "      <th>max</th>\n",
              "      <td>0.445133</td>\n",
              "      <td>0.394759</td>\n",
              "      <td>0.598355</td>\n",
              "      <td>0.445133</td>\n",
              "      <td>0.445133</td>\n",
              "      <td>0.056207</td>\n",
              "      <td>0.056207</td>\n",
              "      <td>0.056207</td>\n",
              "      <td>0.056207</td>\n",
              "      <td>0.056207</td>\n",
              "      <td>0.056207</td>\n",
              "      <td>0.0</td>\n",
              "      <td>0.0</td>\n",
              "      <td>0.0</td>\n",
              "      <td>0.499627</td>\n",
              "    </tr>\n",
              "  </tbody>\n",
              "</table>\n",
              "</div>"
            ],
            "text/plain": [
              "           trend  yhat_lower  ...  multiplicative_terms_upper       yhat\n",
              "count  14.000000   14.000000  ...                        14.0  14.000000\n",
              "mean    0.444019    0.352101  ...                         0.0   0.452636\n",
              "std     0.000717    0.036858  ...                         0.0   0.035836\n",
              "min     0.442906    0.276876  ...                         0.0   0.384625\n",
              "25%     0.443463    0.338167  ...                         0.0   0.436192\n",
              "50%     0.444019    0.364781  ...                         0.0   0.463494\n",
              "75%     0.444576    0.375316  ...                         0.0   0.477049\n",
              "max     0.445133    0.394759  ...                         0.0   0.499627\n",
              "\n",
              "[8 rows x 15 columns]"
            ]
          },
          "metadata": {
            "tags": []
          },
          "execution_count": 10
        }
      ]
    },
    {
      "cell_type": "code",
      "metadata": {
        "id": "LSECa6e8fk5i"
      },
      "source": [
        "val_y=df['y'][trainInd:valInd]\n",
        "y_hat=forecast.yhat"
      ],
      "execution_count": null,
      "outputs": []
    },
    {
      "cell_type": "code",
      "metadata": {
        "id": "MsdfKxwyhwUg"
      },
      "source": [
        "val_y=val_y.to_numpy()\n",
        "y_hat=y_hat.to_numpy()"
      ],
      "execution_count": null,
      "outputs": []
    },
    {
      "cell_type": "code",
      "metadata": {
        "colab": {
          "base_uri": "https://localhost:8080/"
        },
        "id": "O9t4s0fShAzv",
        "outputId": "8eb4df10-2901-45f3-8943-00c161745f0d"
      },
      "source": [
        "rss=((val_y-y_hat)**2).sum()\n",
        "mse=np.mean((val_y-y_hat)**2)\n",
        "print(\"Final rmse value is =\",np.sqrt(np.mean((val_y-y_hat)**2)))"
      ],
      "execution_count": null,
      "outputs": [
        {
          "output_type": "stream",
          "text": [
            "Final rmse value is = 0.049124542561033345\n"
          ],
          "name": "stdout"
        }
      ]
    },
    {
      "cell_type": "markdown",
      "metadata": {
        "id": "7u3pgeTviVIY"
      },
      "source": [
        "##Run Model Against Test Set"
      ]
    },
    {
      "cell_type": "code",
      "metadata": {
        "id": "84c6VMYGhDNn"
      },
      "source": [
        "forecast=model.predict(test)"
      ],
      "execution_count": null,
      "outputs": []
    },
    {
      "cell_type": "code",
      "metadata": {
        "colab": {
          "base_uri": "https://localhost:8080/"
        },
        "id": "phd4IiJci6aa",
        "outputId": "0bfd8957-c3bc-4dcb-d31f-d3186a7059b5"
      },
      "source": [
        "print(forecast[['ds', 'yhat', 'yhat_lower', 'yhat_upper']].head())"
      ],
      "execution_count": null,
      "outputs": [
        {
          "output_type": "stream",
          "text": [
            "          ds      yhat  yhat_lower  yhat_upper\n",
            "0 2012-07-20  0.516102    0.409956    0.613818\n",
            "1 2012-07-27  0.556645    0.454671    0.648633\n",
            "2 2012-08-03  0.561917    0.460887    0.666878\n",
            "3 2012-08-10  0.530193    0.430265    0.621205\n",
            "4 2012-08-17  0.493026    0.387088    0.597217\n"
          ],
          "name": "stdout"
        }
      ]
    },
    {
      "cell_type": "code",
      "metadata": {
        "colab": {
          "base_uri": "https://localhost:8080/",
          "height": 441
        },
        "id": "wMQhjS1ci7S-",
        "outputId": "05c9b2a1-c286-42c1-f7e6-ab3ad8686c99"
      },
      "source": [
        "model.plot(forecast)\n",
        "plt.show()"
      ],
      "execution_count": null,
      "outputs": [
        {
          "output_type": "display_data",
          "data": {
            "image/png": "[encoded data removed]",
            "text/plain": [
              "<Figure size 720x432 with 1 Axes>"
            ]
          },
          "metadata": {
            "tags": []
          }
        }
      ]
    },
    {
      "cell_type": "code",
      "metadata": {
        "colab": {
          "base_uri": "https://localhost:8080/",
          "height": 317
        },
        "id": "AAi5KZ5ti-6X",
        "outputId": "e7b8832e-250d-4d3f-9ca7-c0ec3a470115"
      },
      "source": [
        "forecast.describe()"
      ],
      "execution_count": null,
      "outputs": [
        {
          "output_type": "execute_result",
          "data": {
            "text/html": [
              "<div>\n",
              "<style scoped>\n",
              "    .dataframe tbody tr th:only-of-type {\n",
              "        vertical-align: middle;\n",
              "    }\n",
              "\n",
              "    .dataframe tbody tr th {\n",
              "        vertical-align: top;\n",
              "    }\n",
              "\n",
              "    .dataframe thead th {\n",
              "        text-align: right;\n",
              "    }\n",
              "</style>\n",
              "<table border=\"1\" class=\"dataframe\">\n",
              "  <thead>\n",
              "    <tr style=\"text-align: right;\">\n",
              "      <th></th>\n",
              "      <th>trend</th>\n",
              "      <th>yhat_lower</th>\n",
              "      <th>yhat_upper</th>\n",
              "      <th>trend_lower</th>\n",
              "      <th>trend_upper</th>\n",
              "      <th>additive_terms</th>\n",
              "      <th>additive_terms_lower</th>\n",
              "      <th>additive_terms_upper</th>\n",
              "      <th>yearly</th>\n",
              "      <th>yearly_lower</th>\n",
              "      <th>yearly_upper</th>\n",
              "      <th>multiplicative_terms</th>\n",
              "      <th>multiplicative_terms_lower</th>\n",
              "      <th>multiplicative_terms_upper</th>\n",
              "      <th>yhat</th>\n",
              "    </tr>\n",
              "  </thead>\n",
              "  <tbody>\n",
              "    <tr>\n",
              "      <th>count</th>\n",
              "      <td>15.000000</td>\n",
              "      <td>15.000000</td>\n",
              "      <td>15.000000</td>\n",
              "      <td>15.000000</td>\n",
              "      <td>15.000000</td>\n",
              "      <td>15.000000</td>\n",
              "      <td>15.000000</td>\n",
              "      <td>15.000000</td>\n",
              "      <td>15.000000</td>\n",
              "      <td>15.000000</td>\n",
              "      <td>15.000000</td>\n",
              "      <td>15.0</td>\n",
              "      <td>15.0</td>\n",
              "      <td>15.0</td>\n",
              "      <td>15.000000</td>\n",
              "    </tr>\n",
              "    <tr>\n",
              "      <th>mean</th>\n",
              "      <td>0.441536</td>\n",
              "      <td>0.320423</td>\n",
              "      <td>0.522430</td>\n",
              "      <td>0.441306</td>\n",
              "      <td>0.441810</td>\n",
              "      <td>-0.019751</td>\n",
              "      <td>-0.019751</td>\n",
              "      <td>-0.019751</td>\n",
              "      <td>-0.019751</td>\n",
              "      <td>-0.019751</td>\n",
              "      <td>-0.019751</td>\n",
              "      <td>0.0</td>\n",
              "      <td>0.0</td>\n",
              "      <td>0.0</td>\n",
              "      <td>0.421785</td>\n",
              "    </tr>\n",
              "    <tr>\n",
              "      <th>std</th>\n",
              "      <td>0.000766</td>\n",
              "      <td>0.099216</td>\n",
              "      <td>0.098039</td>\n",
              "      <td>0.000846</td>\n",
              "      <td>0.000672</td>\n",
              "      <td>0.099588</td>\n",
              "      <td>0.099588</td>\n",
              "      <td>0.099588</td>\n",
              "      <td>0.099588</td>\n",
              "      <td>0.099588</td>\n",
              "      <td>0.099588</td>\n",
              "      <td>0.0</td>\n",
              "      <td>0.0</td>\n",
              "      <td>0.0</td>\n",
              "      <td>0.100172</td>\n",
              "    </tr>\n",
              "    <tr>\n",
              "      <th>min</th>\n",
              "      <td>0.440337</td>\n",
              "      <td>0.163799</td>\n",
              "      <td>0.364143</td>\n",
              "      <td>0.439974</td>\n",
              "      <td>0.440768</td>\n",
              "      <td>-0.176785</td>\n",
              "      <td>-0.176785</td>\n",
              "      <td>-0.176785</td>\n",
              "      <td>-0.176785</td>\n",
              "      <td>-0.176785</td>\n",
              "      <td>-0.176785</td>\n",
              "      <td>0.0</td>\n",
              "      <td>0.0</td>\n",
              "      <td>0.0</td>\n",
              "      <td>0.264408</td>\n",
              "    </tr>\n",
              "    <tr>\n",
              "      <th>25%</th>\n",
              "      <td>0.440936</td>\n",
              "      <td>0.244257</td>\n",
              "      <td>0.448186</td>\n",
              "      <td>0.440646</td>\n",
              "      <td>0.441284</td>\n",
              "      <td>-0.092781</td>\n",
              "      <td>-0.092781</td>\n",
              "      <td>-0.092781</td>\n",
              "      <td>-0.092781</td>\n",
              "      <td>-0.092781</td>\n",
              "      <td>-0.092781</td>\n",
              "      <td>0.0</td>\n",
              "      <td>0.0</td>\n",
              "      <td>0.0</td>\n",
              "      <td>0.348241</td>\n",
              "    </tr>\n",
              "    <tr>\n",
              "      <th>50%</th>\n",
              "      <td>0.441536</td>\n",
              "      <td>0.308523</td>\n",
              "      <td>0.510815</td>\n",
              "      <td>0.441309</td>\n",
              "      <td>0.441802</td>\n",
              "      <td>-0.037130</td>\n",
              "      <td>-0.037130</td>\n",
              "      <td>-0.037130</td>\n",
              "      <td>-0.037130</td>\n",
              "      <td>-0.037130</td>\n",
              "      <td>-0.037130</td>\n",
              "      <td>0.0</td>\n",
              "      <td>0.0</td>\n",
              "      <td>0.0</td>\n",
              "      <td>0.403207</td>\n",
              "    </tr>\n",
              "    <tr>\n",
              "      <th>75%</th>\n",
              "      <td>0.442135</td>\n",
              "      <td>0.398522</td>\n",
              "      <td>0.605517</td>\n",
              "      <td>0.441972</td>\n",
              "      <td>0.442335</td>\n",
              "      <td>0.062172</td>\n",
              "      <td>0.062172</td>\n",
              "      <td>0.062172</td>\n",
              "      <td>0.062172</td>\n",
              "      <td>0.062172</td>\n",
              "      <td>0.062172</td>\n",
              "      <td>0.0</td>\n",
              "      <td>0.0</td>\n",
              "      <td>0.0</td>\n",
              "      <td>0.504564</td>\n",
              "    </tr>\n",
              "    <tr>\n",
              "      <th>max</th>\n",
              "      <td>0.442735</td>\n",
              "      <td>0.460887</td>\n",
              "      <td>0.666878</td>\n",
              "      <td>0.442623</td>\n",
              "      <td>0.442873</td>\n",
              "      <td>0.119525</td>\n",
              "      <td>0.119525</td>\n",
              "      <td>0.119525</td>\n",
              "      <td>0.119525</td>\n",
              "      <td>0.119525</td>\n",
              "      <td>0.119525</td>\n",
              "      <td>0.0</td>\n",
              "      <td>0.0</td>\n",
              "      <td>0.0</td>\n",
              "      <td>0.561917</td>\n",
              "    </tr>\n",
              "  </tbody>\n",
              "</table>\n",
              "</div>"
            ],
            "text/plain": [
              "           trend  yhat_lower  ...  multiplicative_terms_upper       yhat\n",
              "count  15.000000   15.000000  ...                        15.0  15.000000\n",
              "mean    0.441536    0.320423  ...                         0.0   0.421785\n",
              "std     0.000766    0.099216  ...                         0.0   0.100172\n",
              "min     0.440337    0.163799  ...                         0.0   0.264408\n",
              "25%     0.440936    0.244257  ...                         0.0   0.348241\n",
              "50%     0.441536    0.308523  ...                         0.0   0.403207\n",
              "75%     0.442135    0.398522  ...                         0.0   0.504564\n",
              "max     0.442735    0.460887  ...                         0.0   0.561917\n",
              "\n",
              "[8 rows x 15 columns]"
            ]
          },
          "metadata": {
            "tags": []
          },
          "execution_count": 17
        }
      ]
    },
    {
      "cell_type": "code",
      "metadata": {
        "id": "BpfGcGwXkkTC"
      },
      "source": [
        "test_y=df['y'][valInd:]\n",
        "y_hat=forecast.yhat"
      ],
      "execution_count": null,
      "outputs": []
    },
    {
      "cell_type": "code",
      "metadata": {
        "id": "HgkFhU8glwqA"
      },
      "source": [
        "test_y=test_y.to_numpy()\n",
        "y_hat=y_hat.to_numpy()"
      ],
      "execution_count": null,
      "outputs": []
    },
    {
      "cell_type": "code",
      "metadata": {
        "colab": {
          "base_uri": "https://localhost:8080/"
        },
        "id": "aFKc8vz9lzYS",
        "outputId": "be75d5d2-8820-4817-ce9a-462b1e0cc139"
      },
      "source": [
        "rss=((test_y-y_hat)**2).sum()\n",
        "mse=np.mean((test_y-y_hat)**2)\n",
        "print(\"Final rmse value is =\",np.sqrt(np.mean((test_y-y_hat)**2)))"
      ],
      "execution_count": null,
      "outputs": [
        {
          "output_type": "stream",
          "text": [
            "Final rmse value is = 0.06466637520707792\n"
          ],
          "name": "stdout"
        }
      ]
    },
    {
      "cell_type": "markdown",
      "metadata": {
        "id": "PrQSJE856jxw"
      },
      "source": [
        "#Pickeling the model"
      ]
    },
    {
      "cell_type": "code",
      "metadata": {
        "id": "td7DAlHm7Geo"
      },
      "source": [
        "pickle.dump(model,open(r'gdrive/My Drive/Colab Notebooks/TimeSeries/Walmart_Notebooks/W_Stores2_Prophet.sav','wb'))"
      ],
      "execution_count": null,
      "outputs": []
    }
  ]
}