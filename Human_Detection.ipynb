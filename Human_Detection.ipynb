{
  "nbformat": 4,
  "nbformat_minor": 0,
  "metadata": {
    "colab": {
      "provenance": []
    },
    "kernelspec": {
      "name": "python3",
      "display_name": "Python 3"
    },
    "language_info": {
      "name": "python"
    }
  },
  "cells": [
    {
      "cell_type": "code",
      "metadata": {
        "id": "x_PgNNHevipW",
        "colab": {
          "base_uri": "https://localhost:8080/"
        },
        "outputId": "5ff94beb-5542-4df6-e754-0e4959fe7d2f"
      },
      "source": [
        "import numpy as np\n",
        "import pandas as pd\n",
        "import matplotlib.pyplot as plt\n",
        "import matplotlib.image as mpimg\n",
        "import tensorflow as tf\n",
        "from tensorflow.keras import layers, Model\n",
        "from tensorflow.keras.preprocessing.image import ImageDataGenerator\n",
        "from tensorflow.keras.metrics import Recall,Precision\n",
        "from tensorflow_addons.metrics import F1Score\n",
        "import tensorflow_hub as hub\n",
        "from tensorflow.keras.layers import Dense, Input, Flatten\n",
        "import os \n",
        "from os import listdir\n",
        "from PIL import Image as PImage\n",
        "\n",
        "from google.colab import drive\n",
        "drive.mount('/content/gdrive')\n",
        "\n",
        "np.random.seed(9001)\n",
        "#WHAT!? 9000!?!?"
      ],
      "execution_count": null,
      "outputs": [
        {
          "output_type": "stream",
          "text": [
            "Mounted at /content/gdrive\n"
          ],
          "name": "stdout"
        }
      ]
    },
    {
      "cell_type": "code",
      "metadata": {
        "colab": {
          "base_uri": "https://localhost:8080/"
        },
        "id": "dziI2qfBxBP1",
        "outputId": "1c965d8b-fa0e-4a6c-cdec-80a01d23da6f"
      },
      "source": [
        "pip install tensorflow_addons"
      ],
      "execution_count": null,
      "outputs": [
        {
          "output_type": "stream",
          "text": [
            "Requirement already satisfied: tensorflow_addons in /usr/local/lib/python3.7/dist-packages (0.13.0)\n",
            "Requirement already satisfied: typeguard>=2.7 in /usr/local/lib/python3.7/dist-packages (from tensorflow_addons) (2.7.1)\n"
          ],
          "name": "stdout"
        }
      ]
    },
    {
      "cell_type": "code",
      "metadata": {
        "colab": {
          "base_uri": "https://localhost:8080/",
          "height": 52
        },
        "id": "w9Q_s863wBfJ",
        "outputId": "531c62de-857f-4e51-e8bd-04dc7ad16e2d"
      },
      "source": [
        "'''#K Fold Cross Validation\n",
        "shuffle_ind=np.random.permutation(len(df))\n",
        "i=1\n",
        "while i<=k:\n",
        "  k_end=int(len(df)*(i/k))\n",
        "  k_start=int(len(df)*(i-1/k))\n",
        "  k_fold=shuffle_ind[k_start:k_end]\n",
        "  trainL=shuffle_ind[0:k_start]\n",
        "  trainR=shuffle_ind[k_end:]\n",
        "  train=np.concatenate(trainL,trainR)\n",
        "  i+=1'''"
      ],
      "execution_count": null,
      "outputs": [
        {
          "output_type": "execute_result",
          "data": {
            "application/vnd.google.colaboratory.intrinsic+json": {
              "type": "string"
            },
            "text/plain": [
              "'#K Fold Cross Validation\\nshuffle_ind=np.random.permutation(len(df))\\ni=1\\nwhile i<=k:\\n  k_end=int(len(df)*(i/k))\\n  k_start=int(len(df)*(i-1/k))\\n  k_fold=shuffle_ind[k_start:k_end]\\n  trainL=shuffle_ind[0:k_start]\\n  trainR=shuffle_ind[k_end:]\\n  train=np.concatenate(trainL,trainR)\\n  i+=1'"
            ]
          },
          "metadata": {
            "tags": []
          },
          "execution_count": 5
        }
      ]
    },
    {
      "cell_type": "code",
      "metadata": {
        "colab": {
          "base_uri": "https://localhost:8080/",
          "height": 52
        },
        "id": "RdhjiiIIVxgL",
        "outputId": "d8dcc962-32b9-4a72-d7c9-c39e74b5b6b2"
      },
      "source": [
        "'''base_dir='gdrive/My Drive/Colab Notebooks/CNN/INRIAPerson/Train\n",
        "#tensor dataframes allow for a lazy load to the images\n",
        "train_ds = tf.keras.preprocessing.image_dataset_from_directory(\n",
        "  base_dir,\n",
        "  validation_split=0.2,\n",
        "  subset=\"training\",\n",
        "  seed=9001,\n",
        "  shuffle=True,\n",
        "  #image_size=(img_height, img_width),\n",
        "  batch_size=1\n",
        ")'''"
      ],
      "execution_count": null,
      "outputs": [
        {
          "output_type": "execute_result",
          "data": {
            "application/vnd.google.colaboratory.intrinsic+json": {
              "type": "string"
            },
            "text/plain": [
              "'base_dir=\\'gdrive/My Drive/Colab Notebooks/CNN/INRIAPerson/Train\\n#tensor dataframes allow for a lazy load to the images\\ntrain_ds = tf.keras.preprocessing.image_dataset_from_directory(\\n  base_dir,\\n  validation_split=0.2,\\n  subset=\"training\",\\n  seed=9001,\\n  shuffle=True,\\n  #image_size=(img_height, img_width),\\n  batch_size=1\\n)'"
            ]
          },
          "metadata": {
            "tags": []
          },
          "execution_count": 6
        }
      ]
    },
    {
      "cell_type": "code",
      "metadata": {
        "colab": {
          "base_uri": "https://localhost:8080/",
          "height": 52
        },
        "id": "m6zBKb1lxU4L",
        "outputId": "08527f5d-9f79-40e4-9e1e-fa95b672e010"
      },
      "source": [
        "'''val_ds = tf.keras.preprocessing.image_dataset_from_directory(\n",
        "  base_dir,\n",
        "  validation_split=0.2,\n",
        "  subset=\"validation\",\n",
        "  seed=9001,\n",
        "  shuffle=True,\n",
        "  #image_size=(img_height, img_width),\n",
        "  batch_size=1\n",
        ")'''"
      ],
      "execution_count": null,
      "outputs": [
        {
          "output_type": "execute_result",
          "data": {
            "application/vnd.google.colaboratory.intrinsic+json": {
              "type": "string"
            },
            "text/plain": [
              "'val_ds = tf.keras.preprocessing.image_dataset_from_directory(\\n  base_dir,\\n  validation_split=0.2,\\n  subset=\"validation\",\\n  seed=9001,\\n  shuffle=True,\\n  #image_size=(img_height, img_width),\\n  batch_size=1\\n)'"
            ]
          },
          "metadata": {
            "tags": []
          },
          "execution_count": 7
        }
      ]
    },
    {
      "cell_type": "code",
      "metadata": {
        "colab": {
          "base_uri": "https://localhost:8080/",
          "height": 35
        },
        "id": "OmG969yEyQEU",
        "outputId": "b92e8615-a13a-44d2-b6a5-d571a549068a"
      },
      "source": [
        "'''for image_batch, labels_batch in train_ds:\n",
        "  print(image_batch.shape)\n",
        "  print(labels_batch.shape)\n",
        "  break'''"
      ],
      "execution_count": null,
      "outputs": [
        {
          "output_type": "execute_result",
          "data": {
            "application/vnd.google.colaboratory.intrinsic+json": {
              "type": "string"
            },
            "text/plain": [
              "'for image_batch, labels_batch in train_ds:\\n  print(image_batch.shape)\\n  print(labels_batch.shape)\\n  break'"
            ]
          },
          "metadata": {
            "tags": []
          },
          "execution_count": 8
        }
      ]
    },
    {
      "cell_type": "markdown",
      "metadata": {
        "id": "qMpZ9-x1vRJr"
      },
      "source": [
        "Load All positive images for augmentation:"
      ]
    },
    {
      "cell_type": "code",
      "metadata": {
        "id": "fi0MBDp4uzKf"
      },
      "source": [
        "# def loadImages(path):\n",
        "#     # return array of images\n",
        "\n",
        "#     imagesList = listdir(path)\n",
        "#     loadedImages = []\n",
        "#     for image in imagesList:\n",
        "#         img = PImage.open(path + image)\n",
        "#         loadedImages.append(img)\n",
        "\n",
        "#     return loadedImages\n",
        "# # your images in an array\n",
        "# imgs = loadImages('gdrive/My Drive/Colab Notebooks/Human_Detection/INRIAPerson/Train/pos/')"
      ],
      "execution_count": null,
      "outputs": []
    },
    {
      "cell_type": "code",
      "metadata": {
        "colab": {
          "base_uri": "https://localhost:8080/",
          "height": 69
        },
        "id": "K6zB4JhUKXvq",
        "outputId": "8f2832ad-2a4a-4ae7-a3bc-75194944f8ce"
      },
      "source": [
        "#Just Makes it lighter\n",
        "'''def noise (image):\n",
        "  noise = np.random.randint(0,150)\n",
        "  newimgdata = []\n",
        "  #hard code number of pixel values\n",
        "  for color in image.getdata():\n",
        "    newpix=[]\n",
        "    for i in range(len(color)):\n",
        "      if color[i]!=255:\n",
        "        p =color[i] + noise\n",
        "      newpix.append( p )\n",
        "    newpix=tuple(newpix)\n",
        "    newimgdata.append(newpix)\n",
        "  newimg = PImage.new(img.mode,img.size)\n",
        "  newimg.putdata(newimgdata)\n",
        "  return newimg\n",
        "noise(img)'''"
      ],
      "execution_count": null,
      "outputs": [
        {
          "output_type": "execute_result",
          "data": {
            "application/vnd.google.colaboratory.intrinsic+json": {
              "type": "string"
            },
            "text/plain": [
              "'def noise (image):\\n  noise = np.random.randint(0,150)\\n  newimgdata = []\\n  #hard code number of pixel values\\n  for color in image.getdata():\\n    newpix=[]\\n    for i in range(len(color)):\\n      if color[i]!=255:\\n        p =color[i] + noise\\n      newpix.append( p )\\n    newpix=tuple(newpix)\\n    newimgdata.append(newpix)\\n  newimg = PImage.new(img.mode,img.size)\\n  newimg.putdata(newimgdata)\\n  return newimg\\nnoise(img)'"
            ]
          },
          "metadata": {
            "tags": []
          },
          "execution_count": 10
        }
      ]
    },
    {
      "cell_type": "markdown",
      "metadata": {
        "id": "pc7vGTIpvaEu"
      },
      "source": [
        "Functon for adding noise to random pixel components throughout the image:"
      ]
    },
    {
      "cell_type": "code",
      "metadata": {
        "id": "mOvpGdv3VMPQ"
      },
      "source": [
        "# def noise (image):\n",
        "#   noise = np.random.randint(0,150)\n",
        "#   newimgdata = []\n",
        "#   for color in image.getdata():\n",
        "#     rand_ind = np.random.randint(0,len(color)-1)\n",
        "#     newpix=[]\n",
        "#     for i in range(len(color)):\n",
        "#       if i==rand_ind:\n",
        "#         if color[i]!=255:\n",
        "#           p =color[i] + noise\n",
        "#           newpix.append( p )\n",
        "#         else:\n",
        "#           newpix.append(color[i])\n",
        "#       else:\n",
        "#         newpix.append(color[i])\n",
        "#     newpix=tuple(newpix)\n",
        "#     newimgdata.append(newpix)\n",
        "#   newimg = PImage.new(img.mode,img.size)\n",
        "#   newimg.putdata(newimgdata,scale=1.0, offset=0.0)\n",
        "#   return newimg"
      ],
      "execution_count": null,
      "outputs": []
    },
    {
      "cell_type": "markdown",
      "metadata": {
        "id": "hl8HMCIpvpUg"
      },
      "source": [
        "Augment positive images (horizontal flip, vertical flip, noise, and 90 degree rotation):"
      ]
    },
    {
      "cell_type": "code",
      "metadata": {
        "id": "8pJKOH6EwQfE",
        "colab": {
          "base_uri": "https://localhost:8080/",
          "height": 69
        },
        "outputId": "3ddd9966-3442-464d-a576-a8ffd34e6002"
      },
      "source": [
        "'''aug_dir='/content/gdrive/MyDrive/Colab Notebooks/Human_Detection/INRIAPerson/TrainA/pos/'\n",
        "i = 0\n",
        "for img in imgs:\n",
        "  hoz_flip = img.transpose(PImage.FLIP_LEFT_RIGHT)\n",
        "  hoz_flip.save(aug_dir+f\"{i}\"+\"hoz.png\")\n",
        "  ver_flip = img.transpose(PImage.FLIP_TOP_BOTTOM)\n",
        "  ver_flip.save(aug_dir+f\"{i}\"+\"vert.png\")\n",
        "  noisey=noise(img)\n",
        "  noisey.save(aug_dir+f\"{i}\"+\"noisey.png\")\n",
        "  rot=img.rotate(90)\n",
        "  rot.save(aug_dir+f\"{i}\"+\"rot.png\")\n",
        "  i+=1'''"
      ],
      "execution_count": null,
      "outputs": [
        {
          "output_type": "execute_result",
          "data": {
            "application/vnd.google.colaboratory.intrinsic+json": {
              "type": "string"
            },
            "text/plain": [
              "'aug_dir=\\'/content/gdrive/MyDrive/Colab Notebooks/Human_Detection/INRIAPerson/TrainA/pos/\\'\\ni = 0\\nfor img in imgs:\\n  hoz_flip = img.transpose(PImage.FLIP_LEFT_RIGHT)\\n  hoz_flip.save(aug_dir+f\"{i}\"+\"hoz.png\")\\n  ver_flip = img.transpose(PImage.FLIP_TOP_BOTTOM)\\n  ver_flip.save(aug_dir+f\"{i}\"+\"vert.png\")\\n  noisey=noise(img)\\n  noisey.save(aug_dir+f\"{i}\"+\"noisey.png\")\\n  rot=img.rotate(90)\\n  rot.save(aug_dir+f\"{i}\"+\"rot.png\")\\n  i+=1'"
            ]
          },
          "metadata": {
            "tags": []
          },
          "execution_count": 12
        }
      ]
    },
    {
      "cell_type": "markdown",
      "metadata": {
        "id": "ANyescjsE9H2"
      },
      "source": [
        "Load negative images:"
      ]
    },
    {
      "cell_type": "code",
      "metadata": {
        "id": "PZ56v8jSsteQ"
      },
      "source": [
        "# # your images in an array\n",
        "# imgs = loadImages('gdrive/My Drive/Colab Notebooks/Human_Detection/INRIAPerson/Train/neg/')"
      ],
      "execution_count": null,
      "outputs": []
    },
    {
      "cell_type": "markdown",
      "metadata": {
        "id": "eqJhNbjGmPd1"
      },
      "source": []
    },
    {
      "cell_type": "markdown",
      "metadata": {
        "id": "kOaEEpdfx-mo"
      },
      "source": [
        "Augment negative:"
      ]
    },
    {
      "cell_type": "code",
      "metadata": {
        "id": "07Vk6hhMvMCY",
        "colab": {
          "base_uri": "https://localhost:8080/",
          "height": 69
        },
        "outputId": "685379c0-38a5-4e45-9f4b-ae5f7c83b955"
      },
      "source": [
        "'''aug_dir='/content/gdrive/MyDrive/Colab Notebooks/Human_Detection/INRIAPerson/TrainA/neg/'\n",
        "i = 0\n",
        "for img in imgs:\n",
        "  hoz_flip = img.transpose(PImage.FLIP_LEFT_RIGHT)\n",
        "  hoz_flip.save(aug_dir+f\"{i}\"+\"hoz.png\")\n",
        "  ver_flip = img.transpose(PImage.FLIP_TOP_BOTTOM)\n",
        "  ver_flip.save(aug_dir+f\"{i}\"+\"vert.png\")\n",
        "  noisey=noise(img)\n",
        "  noisey.save(aug_dir+f\"{i}\"+\"noisey.png\")\n",
        "  rot=img.rotate(90)\n",
        "  rot.save(aug_dir+f\"{i}\"+\"rot.png\")\n",
        "  i+=1'''"
      ],
      "execution_count": null,
      "outputs": [
        {
          "output_type": "execute_result",
          "data": {
            "application/vnd.google.colaboratory.intrinsic+json": {
              "type": "string"
            },
            "text/plain": [
              "'aug_dir=\\'/content/gdrive/MyDrive/Colab Notebooks/Human_Detection/INRIAPerson/TrainA/neg/\\'\\ni = 0\\nfor img in imgs:\\n  hoz_flip = img.transpose(PImage.FLIP_LEFT_RIGHT)\\n  hoz_flip.save(aug_dir+f\"{i}\"+\"hoz.png\")\\n  ver_flip = img.transpose(PImage.FLIP_TOP_BOTTOM)\\n  ver_flip.save(aug_dir+f\"{i}\"+\"vert.png\")\\n  noisey=noise(img)\\n  noisey.save(aug_dir+f\"{i}\"+\"noisey.png\")\\n  rot=img.rotate(90)\\n  rot.save(aug_dir+f\"{i}\"+\"rot.png\")\\n  i+=1'"
            ]
          },
          "metadata": {
            "tags": []
          },
          "execution_count": 14
        }
      ]
    },
    {
      "cell_type": "code",
      "metadata": {
        "id": "xc152hTJgEJz"
      },
      "source": [
        "# def combine_generator(gen1, gen2):\n",
        "#     while True:\n",
        "#         yield(next(gen1), next(gen2))"
      ],
      "execution_count": null,
      "outputs": []
    },
    {
      "cell_type": "code",
      "metadata": {
        "colab": {
          "base_uri": "https://localhost:8080/"
        },
        "id": "NLfCrDAeyD9M",
        "outputId": "76f07cb5-50ff-4968-fe89-9ad413869ec8"
      },
      "source": [
        "base_dir='gdrive/My Drive/Colab Notebooks/Human_Detection/INRIAPerson/Train'\n",
        "#Rescaling\n",
        "train_datagen=ImageDataGenerator(rescale=1./255, validation_split=.2, dtype=tf.uint8)\n",
        "val_datagen=ImageDataGenerator(rescale=1./255)\n",
        "\n",
        "train_generator=train_datagen.flow_from_directory(\n",
        "    base_dir,\n",
        "    target_size=(224,224),\n",
        "    batch_size=32,\n",
        "    shuffle=True,\n",
        "    class_mode='binary',\n",
        "    subset='training'\n",
        ")\n",
        "val_generator=train_datagen.flow_from_directory(\n",
        "    base_dir,\n",
        "    target_size=(224,224),\n",
        "    batch_size=32,\n",
        "    shuffle=True,\n",
        "    class_mode='binary',\n",
        "    subset='validation'\n",
        ")"
      ],
      "execution_count": null,
      "outputs": [
        {
          "output_type": "stream",
          "text": [
            "Found 1467 images belonging to 2 classes.\n",
            "Found 365 images belonging to 2 classes.\n"
          ],
          "name": "stdout"
        }
      ]
    },
    {
      "cell_type": "code",
      "metadata": {
        "id": "D0vLFwTSuR8e"
      },
      "source": [
        "# base_dir='gdrive/My Drive/Colab Notebooks/Human_Detection/INRIAPerson/TrainA'\n",
        "# #Rescaling\n",
        "# train_datagen=ImageDataGenerator(rescale=1./255, dtype=tf.uint8)\n",
        "# train_generator=train_datagen.flow_from_directory(\n",
        "#     base_dir,\n",
        "#     target_size=(224,224),\n",
        "#     batch_size=32,\n",
        "#     shuffle=True,\n",
        "#     class_mode='binary',\n",
        "# )"
      ],
      "execution_count": null,
      "outputs": []
    },
    {
      "cell_type": "code",
      "metadata": {
        "id": "oACQVeOyHGVP"
      },
      "source": [
        "# base_dir='gdrive/My Drive/Colab Notebooks/Human_Detection/INRIAPerson/Augmented_Train/Positive'\n",
        "# #Rescaling\n",
        "# augPos_datagen=ImageDataGenerator(rescale=1./255, dtype=tf.uint8)\n",
        "# train_generator=train_datagen.flow_from_directory(\n",
        "#     base_dir,\n",
        "#     target_size=(224,224),\n",
        "#     batch_size=32,\n",
        "#     shuffle=True,\n",
        "#     class_mode='binary',\n",
        "# )"
      ],
      "execution_count": null,
      "outputs": []
    },
    {
      "cell_type": "code",
      "metadata": {
        "id": "A0fFDWyJPRZK"
      },
      "source": [
        "# base_dir='gdrive/My Drive/Colab Notebooks/Human_Detection/INRIAPerson/Augmented_Train/Negative'\n",
        "# #Rescaling\n",
        "# augNeg_datagen=ImageDataGenerator(rescale=1./255, validation_split=.5, dtype=tf.uint8)\n",
        "# train_generator=train_datagen.flow_from_directory(\n",
        "#     base_dir,\n",
        "#     target_size=(224,224),\n",
        "#     batch_size=32,\n",
        "#     shuffle=True,\n",
        "#     class_mode='binary',\n",
        "#     subset='training'\n",
        "# )"
      ],
      "execution_count": null,
      "outputs": []
    },
    {
      "cell_type": "code",
      "metadata": {
        "colab": {
          "base_uri": "https://localhost:8080/"
        },
        "id": "dTHqEYw3ccz0",
        "outputId": "d0e88762-fcc7-4cce-a166-715310b9f3f2"
      },
      "source": [
        "base_dir='gdrive/My Drive/Colab Notebooks/Human_Detection/INRIAPerson/Test'\n",
        "#Rescaling\n",
        "test_datagen=ImageDataGenerator(rescale=1./255, dtype=tf.uint8)\n",
        "test_generator=train_datagen.flow_from_directory(\n",
        "    base_dir,\n",
        "    target_size=(224,224),\n",
        "    batch_size=741,\n",
        "    shuffle=True,\n",
        "    class_mode='binary',\n",
        ")"
      ],
      "execution_count": null,
      "outputs": [
        {
          "output_type": "stream",
          "text": [
            "Found 741 images belonging to 2 classes.\n"
          ],
          "name": "stdout"
        }
      ]
    },
    {
      "cell_type": "code",
      "metadata": {
        "id": "SYSyBaCejIjd",
        "colab": {
          "base_uri": "https://localhost:8080/"
        },
        "outputId": "7038d57c-6a0b-4ccf-ead3-6d8a2132f64b"
      },
      "source": [
        "mobilenet_v2 = tf.keras.applications.mobilenet_v2.MobileNetV2(include_top=False,\n",
        "                                                              input_shape=(224, 224, 3),\n",
        "                                                              weights=\"imagenet\",\n",
        "                                                              )"
      ],
      "execution_count": null,
      "outputs": [
        {
          "output_type": "stream",
          "text": [
            "Downloading data from https://storage.googleapis.com/tensorflow/keras-applications/mobilenet_v2/mobilenet_v2_weights_tf_dim_ordering_tf_kernels_1.0_224_no_top.h5\n",
            "9412608/9406464 [==============================] - 0s 0us/step\n"
          ],
          "name": "stdout"
        }
      ]
    },
    {
      "cell_type": "code",
      "metadata": {
        "id": "Mi8-rziXXsIo"
      },
      "source": [
        "mobilenet_v2.trainable = False"
      ],
      "execution_count": null,
      "outputs": []
    },
    {
      "cell_type": "code",
      "metadata": {
        "colab": {
          "base_uri": "https://localhost:8080/"
        },
        "id": "vtg0HInnB2pk",
        "outputId": "d939b2d7-dec9-47f6-c938-3da47a2fc2d7"
      },
      "source": [
        "model = tf.keras.Sequential([\n",
        "    Input((224, 224, 3)),\n",
        "    mobilenet_v2,\n",
        "    Flatten(),\n",
        "    Dense(128, activation=\"relu\"),\n",
        "    Dense(1, activation=\"sigmoid\")\n",
        "])"
      ],
      "execution_count": null,
      "outputs": [
        {
          "output_type": "stream",
          "text": [
            "WARNING:tensorflow:Please add `keras.layers.InputLayer` instead of `keras.Input` to Sequential model. `keras.Input` is intended to be used by Functional model.\n"
          ],
          "name": "stdout"
        }
      ]
    },
    {
      "cell_type": "code",
      "metadata": {
        "id": "T_DZRC6pGOyC"
      },
      "source": [
        "model.compile(optimizer='Adam',loss=tf.keras.losses.BinaryCrossentropy(),\n",
        "              metrics=['accuracy',F1Score(num_classes=1),Precision(),Recall()])"
      ],
      "execution_count": null,
      "outputs": []
    },
    {
      "cell_type": "code",
      "metadata": {
        "colab": {
          "base_uri": "https://localhost:8080/"
        },
        "id": "RTG7WlcDJTb1",
        "outputId": "b88c8f7d-6b60-42e6-cfa2-6795b4ab34c7"
      },
      "source": [
        "history=model.fit(train_generator, validation_data=val_generator,epochs=5)"
      ],
      "execution_count": null,
      "outputs": [
        {
          "output_type": "stream",
          "text": [
            "Epoch 1/5\n",
            "46/46 [==============================] - ETA: 0s - loss: 0.1693 - accuracy: 0.9850 - f1_score: 0.8319 - precision: 0.9757 - recall: 0.9797"
          ],
          "name": "stdout"
        },
        {
          "output_type": "stream",
          "text": [
            "/usr/local/lib/python3.7/dist-packages/tensorflow/python/keras/metrics.py:257: UserWarning: Metric F1Score implements a `reset_states()` method; rename it to `reset_state()` (without the final \"s\"). The name `reset_states()` has been deprecated to improve API consistency.\n",
            "  'consistency.' % (self.__class__.__name__,))\n"
          ],
          "name": "stderr"
        },
        {
          "output_type": "stream",
          "text": [
            "\b\b\b\b\b\b\b\b\b\b\b\b\b\b\b\b\b\b\b\b\b\b\b\b\b\b\b\b\b\b\b\b\b\b\b\b\b\b\b\b\b\b\b\b\b\b\b\b\b\b\b\b\b\b\b\b\b\b\b\b\b\b\b\b\b\b\b\b\b\b\b\b\b\b\b\b\b\b\b\b\b\b\b\b\b\b\b\b\b\b\b\b\b\b\b\b\b\b\b\b\b\b\b\b\b\b\b\b\b\b\b\b\b\b\b\b\b\b\b\b\b\b\b\b\b\b\b\b\b\b\b\b\b\b\b\b\b\b\r46/46 [==============================] - 272s 6s/step - loss: 0.1693 - accuracy: 0.9850 - f1_score: 0.8319 - precision: 0.9757 - recall: 0.9797 - val_loss: 0.1319 - val_accuracy: 0.9973 - val_f1_score: 0.9878 - val_precision: 1.0000 - val_recall: 0.9918\n",
            "Epoch 2/5\n",
            "46/46 [==============================] - 51s 1s/step - loss: 0.0974 - accuracy: 0.9864 - f1_score: 0.9101 - precision: 0.9777 - recall: 0.9817 - val_loss: 0.2488 - val_accuracy: 0.9945 - val_f1_score: 0.9959 - val_precision: 1.0000 - val_recall: 0.9836\n",
            "Epoch 3/5\n",
            "46/46 [==============================] - 51s 1s/step - loss: 0.1172 - accuracy: 0.9939 - f1_score: 0.9553 - precision: 0.9899 - recall: 0.9919 - val_loss: 0.1896 - val_accuracy: 0.9945 - val_f1_score: 0.9959 - val_precision: 1.0000 - val_recall: 0.9836\n",
            "Epoch 4/5\n",
            "46/46 [==============================] - 50s 1s/step - loss: 0.1798 - accuracy: 0.9864 - f1_score: 0.9514 - precision: 0.9797 - recall: 0.9797 - val_loss: 0.1770 - val_accuracy: 0.9973 - val_f1_score: 0.9918 - val_precision: 1.0000 - val_recall: 0.9918\n",
            "Epoch 5/5\n",
            "46/46 [==============================] - 50s 1s/step - loss: 0.0552 - accuracy: 0.9952 - f1_score: 0.9870 - precision: 0.9939 - recall: 0.9919 - val_loss: 0.2338 - val_accuracy: 0.9973 - val_f1_score: 0.9918 - val_precision: 1.0000 - val_recall: 0.9918\n"
          ],
          "name": "stdout"
        }
      ]
    },
    {
      "cell_type": "code",
      "metadata": {
        "id": "jwoOgDfcowMo",
        "colab": {
          "base_uri": "https://localhost:8080/"
        },
        "outputId": "81cbc736-aa14-413c-e7bc-87bcdc54a728"
      },
      "source": [
        "model.evaluate(test_generator)"
      ],
      "execution_count": null,
      "outputs": [
        {
          "output_type": "stream",
          "text": [
            "/usr/local/lib/python3.7/dist-packages/tensorflow/python/keras/metrics.py:257: UserWarning: Metric F1Score implements a `reset_states()` method; rename it to `reset_state()` (without the final \"s\"). The name `reset_states()` has been deprecated to improve API consistency.\n",
            "  'consistency.' % (self.__class__.__name__,))\n"
          ],
          "name": "stderr"
        },
        {
          "output_type": "stream",
          "text": [
            "1/1 [==============================] - 31s 31s/step - loss: 0.9725 - accuracy: 0.9663 - f1_score: 0.9637 - precision: 0.9925 - recall: 0.9201\n"
          ],
          "name": "stdout"
        },
        {
          "output_type": "execute_result",
          "data": {
            "text/plain": [
              "[0.9725031852722168,\n",
              " 0.9662618041038513,\n",
              " array([0.9637306], dtype=float32),\n",
              " 0.9925093650817871,\n",
              " 0.9201388955116272]"
            ]
          },
          "metadata": {
            "tags": []
          },
          "execution_count": 31
        }
      ]
    },
    {
      "cell_type": "code",
      "metadata": {
        "id": "RtvzPoGOkxw_",
        "colab": {
          "base_uri": "https://localhost:8080/",
          "height": 282
        },
        "outputId": "185fcd2c-297a-410b-a805-f905ce409579"
      },
      "source": [
        "xs = range(len(history.history[\"accuracy\"]))\n",
        "plt.plot(xs, history.history[\"accuracy\"])"
      ],
      "execution_count": null,
      "outputs": [
        {
          "output_type": "execute_result",
          "data": {
            "text/plain": [
              "[<matplotlib.lines.Line2D at 0x7f7ffc649e50>]"
            ]
          },
          "metadata": {
            "tags": []
          },
          "execution_count": 32
        },
        {
          "output_type": "display_data",
          "data": {
            "image/png": "[encoded data removed]",
            "text/plain": [
              "<Figure size 432x288 with 1 Axes>"
            ]
          },
          "metadata": {
            "tags": [],
            "needs_background": "light"
          }
        }
      ]
    },
    {
      "cell_type": "code",
      "metadata": {
        "id": "zEEpIbz4m99n"
      },
      "source": [
        "from sklearn.metrics import f1_score"
      ],
      "execution_count": null,
      "outputs": []
    },
    {
      "cell_type": "code",
      "metadata": {
        "id": "l9G5oqgO1hCo"
      },
      "source": [
        "prediction=model.predict(test_generator).flatten()\n",
        "# prediction = tf.nn.sigmoid(prediction)\n",
        "prediction.shape"
      ],
      "execution_count": null,
      "outputs": []
    },
    {
      "cell_type": "code",
      "metadata": {
        "id": "mBjrJJjS82L8"
      },
      "source": [
        "np.mean(tf.where(prediction < 0.5, 0, 1) == y)"
      ],
      "execution_count": null,
      "outputs": []
    },
    {
      "cell_type": "code",
      "metadata": {
        "id": "_-V7cpGJ74kt"
      },
      "source": [
        "preds = np.squeeze(tf.where(prediction >= 0.5, 1, 0))"
      ],
      "execution_count": null,
      "outputs": []
    },
    {
      "cell_type": "code",
      "metadata": {
        "id": "SNvK8W0W8QgX"
      },
      "source": [
        "np.mean(preds == y)"
      ],
      "execution_count": null,
      "outputs": []
    },
    {
      "cell_type": "code",
      "metadata": {
        "id": "9Fkl0toO1pTB"
      },
      "source": [
        "f1_score(test_datagen, prediction, average='macro')"
      ],
      "execution_count": null,
      "outputs": []
    },
    {
      "cell_type": "code",
      "metadata": {
        "id": "Vx7gIXdw5cJ1"
      },
      "source": [
        "imgs, labels = next(iter(test_generator))\n",
        "labels.shape"
      ],
      "execution_count": null,
      "outputs": []
    },
    {
      "cell_type": "code",
      "metadata": {
        "id": "HeaOKyPW5dS3"
      },
      "source": [
        "y.shape, prediction.shape"
      ],
      "execution_count": null,
      "outputs": []
    },
    {
      "cell_type": "code",
      "metadata": {
        "id": "ekAi6gTV6Eu8"
      },
      "source": [
        "x, y = next(test_generator)"
      ],
      "execution_count": null,
      "outputs": []
    },
    {
      "cell_type": "code",
      "metadata": {
        "id": "a8QdHEFD6M4A"
      },
      "source": [
        "y.shape"
      ],
      "execution_count": null,
      "outputs": []
    },
    {
      "cell_type": "code",
      "metadata": {
        "id": "cMXea4gI6f-f"
      },
      "source": [
        "from sklearn.metrics import f1_score"
      ],
      "execution_count": null,
      "outputs": []
    },
    {
      "cell_type": "code",
      "metadata": {
        "id": "niLZaFjM7Pkj"
      },
      "source": [
        "preds = np.argmax(prediction, axis=1)\n",
        "preds"
      ],
      "execution_count": null,
      "outputs": []
    },
    {
      "cell_type": "code",
      "metadata": {
        "id": "uyTbzJy-63Fv"
      },
      "source": [
        "#f1_score(prediction, y)"
      ],
      "execution_count": null,
      "outputs": []
    },
    {
      "cell_type": "code",
      "metadata": {
        "id": "NGv1vCkmVkkp"
      },
      "source": [
        "model.evaluate()"
      ],
      "execution_count": null,
      "outputs": []
    },
    {
      "cell_type": "code",
      "metadata": {
        "id": "2vS2POG47A-R"
      },
      "source": [
        "np.squeeze(prediction)"
      ],
      "execution_count": null,
      "outputs": []
    },
    {
      "cell_type": "code",
      "metadata": {
        "id": "9zlXlJ1k68V9"
      },
      "source": [
        "y"
      ],
      "execution_count": null,
      "outputs": []
    },
    {
      "cell_type": "code",
      "metadata": {
        "id": "mhmKJWvz6-Sp"
      },
      "source": [
        "img = PImage.open('gdrive/My Drive/Colab Notebooks/Human_Detection/image_2021_06_01T16_11_06_870Z.png')"
      ],
      "execution_count": null,
      "outputs": []
    },
    {
      "cell_type": "code",
      "metadata": {
        "id": "HG-jUoVDY976"
      },
      "source": [
        "img = np.array(img)\n",
        "img = np.resize(img, (224, 224, 3))\n",
        "img = img.reshape(1, 224, 224, 3)"
      ],
      "execution_count": null,
      "outputs": []
    },
    {
      "cell_type": "code",
      "metadata": {
        "id": "JBli2YUUW8Te"
      },
      "source": [
        "prediction=model.predict(img)"
      ],
      "execution_count": null,
      "outputs": []
    },
    {
      "cell_type": "code",
      "metadata": {
        "id": "eEtNXJwkYrgh"
      },
      "source": [
        "tf.where(prediction < 0.5, 0, 1)"
      ],
      "execution_count": null,
      "outputs": []
    }
  ]
}