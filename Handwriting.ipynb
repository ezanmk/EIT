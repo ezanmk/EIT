{
  "cells": [
    {
      "cell_type": "markdown",
      "source": [
        "Basic application of simple classification to experiement with hypertuning"
      ],
      "metadata": {
        "id": "bD_RXsilUbm-"
      }
    },
    {
      "cell_type": "code",
      "execution_count": null,
      "metadata": {
        "id": "C8AtsznGUals"
      },
      "outputs": [],
      "source": [
        "import pandas as pd\n",
        "import numpy as np\n",
        "import random\n",
        "from intro_to_Naive_Bayes import GaussBayes,GaussNB, accuracy\n",
        "from KNN_Classifier import KNNClassifier, accuracy\n",
        "\n",
        "random.seed(9001)\n",
        "#WHAT!? 9000!?!?\n",
        "train = pd.read_csv (r'C:\\Users\\Field Employee\\OneDrive\\Desktop\\Handwriting\\MNIST_train.csv')\n",
        "test = pd.read_csv (r'C:\\Users\\Field Employee\\OneDrive\\Desktop\\Handwriting\\MNIST_test.csv')\n",
        "train.head()\n",
        "train_y = train[\"labels\"]\n",
        "train_y=train_y.to_numpy()\n",
        "test_y = test[\"labels\"]\n",
        "test_y=test_y.to_numpy()\n",
        "#All rows with columns excluding labels, index, unnamed:0\n",
        "train = train.iloc[:,3:]\n",
        "test = test.iloc[:,3:]\n",
        "#Normalize\n",
        "train = train/255\n",
        "test = test/255\n",
        "train=train.to_numpy()\n",
        "test=test.to_numpy()"
      ]
    },
    {
      "cell_type": "code",
      "execution_count": null,
      "metadata": {
        "id": "7LC6qgkuUalv",
        "outputId": "49a9adf0-3631-4f1f-e89e-5efece4fbd2d"
      },
      "outputs": [
        {
          "name": "stdout",
          "output_type": "stream",
          "text": [
            "0.7746\n"
          ]
        }
      ],
      "source": [
        "#77.46% with epsilon=1e-3\n",
        "gnb=GaussNB()\n",
        "gnb.fit(train,train_y)\n",
        "y_hat=gnb.predict(test)\n",
        "print(accuracy(y_hat,test_y))"
      ]
    },
    {
      "cell_type": "code",
      "execution_count": null,
      "metadata": {
        "id": "JRn7zH93Ualw",
        "outputId": "494fe792-5083-44f1-8602-5495d0e3928d"
      },
      "outputs": [
        {
          "name": "stdout",
          "output_type": "stream",
          "text": [
            "0.9546\n"
          ]
        }
      ],
      "source": [
        "#95.46% with K=50 epsilon=1e-3\n",
        "knn=KNNClassifier()\n",
        "knn.fit(train,train_y)\n",
        "y_hat=knn.predict(test,50)\n",
        "print(accuracy(y_hat,test_y))"
      ]
    },
    {
      "cell_type": "code",
      "execution_count": null,
      "metadata": {
        "scrolled": true,
        "id": "_rL01QuaUaly",
        "outputId": "a09e4d8d-7e49-4999-8d42-780aff8a1958"
      },
      "outputs": [
        {
          "name": "stdout",
          "output_type": "stream",
          "text": [
            "0.9542\n"
          ]
        }
      ],
      "source": [
        "#95.42% with epsilon=1e-1\n",
        "gb=GaussBayes()\n",
        "gb.fit(train,train_y)\n",
        "y_hat=gb.predict(test)\n",
        "print(accuracy(y_hat,test_y))"
      ]
    }
  ],
  "metadata": {
    "kernelspec": {
      "display_name": "Python 3",
      "language": "python",
      "name": "python3"
    },
    "language_info": {
      "codemirror_mode": {
        "name": "ipython",
        "version": 3
      },
      "file_extension": ".py",
      "mimetype": "text/x-python",
      "name": "python",
      "nbconvert_exporter": "python",
      "pygments_lexer": "ipython3",
      "version": "3.8.5"
    },
    "colab": {
      "provenance": []
    }
  },
  "nbformat": 4,
  "nbformat_minor": 0
}