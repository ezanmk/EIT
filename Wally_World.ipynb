{
  "nbformat": 4,
  "nbformat_minor": 0,
  "metadata": {
    "colab": {
      "provenance": [],
      "toc_visible": true,
      "authorship_tag": "ABX9TyMG1Ph5M1fDzhPwZwP+/+00"
    },
    "kernelspec": {
      "name": "python3",
      "display_name": "Python 3"
    },
    "language_info": {
      "name": "python"
    }
  },
  "cells": [
    {
      "cell_type": "markdown",
      "source": [
        "Walmart data set manipulation"
      ],
      "metadata": {
        "id": "Q8MuaIaLc9_a"
      }
    },
    {
      "cell_type": "code",
      "metadata": {
        "colab": {
          "base_uri": "https://localhost:8080/"
        },
        "id": "oytnbi7Q5XKI",
        "outputId": "7b14f557-0bf0-46fa-a8ac-f26eb1483434"
      },
      "source": [
        "import numpy as np\n",
        "import pandas as pd\n",
        "import matplotlib.pyplot as plt\n",
        "import datetime\n",
        "import pickle\n",
        "\n",
        "from sklearn.cluster import KMeans\n",
        "from sklearn.preprocessing import PowerTransformer\n",
        "from scipy.spatial.distance import cdist\n",
        "from math import floor\n",
        "\n",
        "import os \n",
        "\n",
        "from google.colab import drive\n",
        "drive.mount('/content/gdrive')\n",
        "\n",
        "np.random.seed(9001)\n",
        "#WHAT!? 9000!?!?"
      ],
      "execution_count": null,
      "outputs": [
        {
          "output_type": "stream",
          "text": [
            "Drive already mounted at /content/gdrive; to attempt to forcibly remount, call drive.mount(\"/content/gdrive\", force_remount=True).\n"
          ],
          "name": "stdout"
        }
      ]
    },
    {
      "cell_type": "markdown",
      "metadata": {
        "id": "THbpDv124Fnk"
      },
      "source": [
        "## Load Dataset"
      ]
    },
    {
      "cell_type": "code",
      "metadata": {
        "id": "rXnvzfPS7HuZ"
      },
      "source": [
        "df=pd.read_csv('gdrive/My Drive/Colab Notebooks/TimeSeries/Walmart_Data/W_train.csv')"
      ],
      "execution_count": null,
      "outputs": []
    },
    {
      "cell_type": "code",
      "metadata": {
        "id": "Zzc9mcc7RXjj"
      },
      "source": [
        "df[\"Date\"] = pd.to_datetime(df[\"Date\"])"
      ],
      "execution_count": null,
      "outputs": []
    },
    {
      "cell_type": "code",
      "metadata": {
        "colab": {
          "base_uri": "https://localhost:8080/"
        },
        "id": "8s8ZexGvOb0T",
        "outputId": "da5f65a5-d121-4b19-ae40-45b56e7dfade"
      },
      "source": [
        "df.shape"
      ],
      "execution_count": null,
      "outputs": [
        {
          "output_type": "execute_result",
          "data": {
            "text/plain": [
              "(421570, 7)"
            ]
          },
          "metadata": {
            "tags": []
          },
          "execution_count": 5
        }
      ]
    },
    {
      "cell_type": "code",
      "metadata": {
        "colab": {
          "base_uri": "https://localhost:8080/",
          "height": 204
        },
        "id": "KMmXB8wCAD3o",
        "outputId": "af4aaeed-75ce-4aa1-cb10-879b547c8f96"
      },
      "source": [
        "df.head()"
      ],
      "execution_count": null,
      "outputs": [
        {
          "output_type": "execute_result",
          "data": {
            "text/html": [
              "<div>\n",
              "<style scoped>\n",
              "    .dataframe tbody tr th:only-of-type {\n",
              "        vertical-align: middle;\n",
              "    }\n",
              "\n",
              "    .dataframe tbody tr th {\n",
              "        vertical-align: top;\n",
              "    }\n",
              "\n",
              "    .dataframe thead th {\n",
              "        text-align: right;\n",
              "    }\n",
              "</style>\n",
              "<table border=\"1\" class=\"dataframe\">\n",
              "  <thead>\n",
              "    <tr style=\"text-align: right;\">\n",
              "      <th></th>\n",
              "      <th>Unnamed: 0</th>\n",
              "      <th>index</th>\n",
              "      <th>Store</th>\n",
              "      <th>Dept</th>\n",
              "      <th>Date</th>\n",
              "      <th>Weekly_Sales</th>\n",
              "      <th>IsHoliday</th>\n",
              "    </tr>\n",
              "  </thead>\n",
              "  <tbody>\n",
              "    <tr>\n",
              "      <th>0</th>\n",
              "      <td>0</td>\n",
              "      <td>0</td>\n",
              "      <td>1</td>\n",
              "      <td>1</td>\n",
              "      <td>2010-02-05</td>\n",
              "      <td>24924.50</td>\n",
              "      <td>0</td>\n",
              "    </tr>\n",
              "    <tr>\n",
              "      <th>1</th>\n",
              "      <td>1</td>\n",
              "      <td>1</td>\n",
              "      <td>1</td>\n",
              "      <td>1</td>\n",
              "      <td>2010-02-12</td>\n",
              "      <td>46039.49</td>\n",
              "      <td>1</td>\n",
              "    </tr>\n",
              "    <tr>\n",
              "      <th>2</th>\n",
              "      <td>2</td>\n",
              "      <td>2</td>\n",
              "      <td>1</td>\n",
              "      <td>1</td>\n",
              "      <td>2010-02-19</td>\n",
              "      <td>41595.55</td>\n",
              "      <td>0</td>\n",
              "    </tr>\n",
              "    <tr>\n",
              "      <th>3</th>\n",
              "      <td>3</td>\n",
              "      <td>3</td>\n",
              "      <td>1</td>\n",
              "      <td>1</td>\n",
              "      <td>2010-02-26</td>\n",
              "      <td>19403.54</td>\n",
              "      <td>0</td>\n",
              "    </tr>\n",
              "    <tr>\n",
              "      <th>4</th>\n",
              "      <td>4</td>\n",
              "      <td>4</td>\n",
              "      <td>1</td>\n",
              "      <td>1</td>\n",
              "      <td>2010-03-05</td>\n",
              "      <td>21827.90</td>\n",
              "      <td>0</td>\n",
              "    </tr>\n",
              "  </tbody>\n",
              "</table>\n",
              "</div>"
            ],
            "text/plain": [
              "   Unnamed: 0  index  Store  Dept       Date  Weekly_Sales  IsHoliday\n",
              "0           0      0      1     1 2010-02-05      24924.50          0\n",
              "1           1      1      1     1 2010-02-12      46039.49          1\n",
              "2           2      2      1     1 2010-02-19      41595.55          0\n",
              "3           3      3      1     1 2010-02-26      19403.54          0\n",
              "4           4      4      1     1 2010-03-05      21827.90          0"
            ]
          },
          "metadata": {
            "tags": []
          },
          "execution_count": 6
        }
      ]
    },
    {
      "cell_type": "code",
      "metadata": {
        "colab": {
          "base_uri": "https://localhost:8080/"
        },
        "id": "SPlLcZXXV-dX",
        "outputId": "bed80fcc-c685-4e2a-e760-530d7b3e9f56"
      },
      "source": [
        "df['Dept'].describe()"
      ],
      "execution_count": null,
      "outputs": [
        {
          "output_type": "execute_result",
          "data": {
            "text/plain": [
              "count    421570.000000\n",
              "mean         44.260317\n",
              "std          30.492054\n",
              "min           1.000000\n",
              "25%          18.000000\n",
              "50%          37.000000\n",
              "75%          74.000000\n",
              "max          99.000000\n",
              "Name: Dept, dtype: float64"
            ]
          },
          "metadata": {
            "tags": []
          },
          "execution_count": 7
        }
      ]
    },
    {
      "cell_type": "code",
      "metadata": {
        "colab": {
          "base_uri": "https://localhost:8080/"
        },
        "id": "jC4dCKfWtTcu",
        "outputId": "83aa194a-b409-42f7-e9fa-a5d33f5b1966"
      },
      "source": [
        "df['Store'].describe()"
      ],
      "execution_count": null,
      "outputs": [
        {
          "output_type": "execute_result",
          "data": {
            "text/plain": [
              "count    421570.000000\n",
              "mean         22.200546\n",
              "std          12.785297\n",
              "min           1.000000\n",
              "25%          11.000000\n",
              "50%          22.000000\n",
              "75%          33.000000\n",
              "max          45.000000\n",
              "Name: Store, dtype: float64"
            ]
          },
          "metadata": {
            "tags": []
          },
          "execution_count": 8
        }
      ]
    },
    {
      "cell_type": "code",
      "metadata": {
        "colab": {
          "base_uri": "https://localhost:8080/"
        },
        "id": "LYuxctO50NUC",
        "outputId": "c9180a27-77ec-4feb-a511-7f5d25b36cb4"
      },
      "source": [
        "print(df['Weekly_Sales'].describe())"
      ],
      "execution_count": null,
      "outputs": [
        {
          "output_type": "stream",
          "text": [
            "count    421570.000000\n",
            "mean      15981.258123\n",
            "std       22711.183519\n",
            "min       -4988.940000\n",
            "25%        2079.650000\n",
            "50%        7612.030000\n",
            "75%       20205.852500\n",
            "max      693099.360000\n",
            "Name: Weekly_Sales, dtype: float64\n"
          ],
          "name": "stdout"
        }
      ]
    },
    {
      "cell_type": "markdown",
      "metadata": {
        "id": "NKtKg-ElAZSK"
      },
      "source": [
        "# Dataset Manipulation"
      ]
    },
    {
      "cell_type": "markdown",
      "metadata": {
        "id": "1lnimyJERYRO"
      },
      "source": [
        "##Replace Observations With Negative Weekly Sales With The Mean\n",
        "\n"
      ]
    },
    {
      "cell_type": "code",
      "metadata": {
        "id": "7jqvCb8ZQ38S",
        "colab": {
          "base_uri": "https://localhost:8080/"
        },
        "outputId": "cabdcc95-987f-4c45-dded-fcc13d428c9f"
      },
      "source": [
        "print(df.shape)\n",
        "'''Gather negative observations'''\n",
        "neg=df.loc[df['Weekly_Sales']<0]\n",
        "i=0\n",
        "\n",
        "while(i<len(neg)):\n",
        "    row=neg.iloc[i]\n",
        "    #key 0 retrieves index value\n",
        "    ind=row.get(key=0)\n",
        "    df.at[ind,'Weekly_Sales']=df['Weekly_Sales'].mean()\n",
        "    i+=1\n",
        "print(df.iloc[846]) \n",
        "#1285 observations altered"
      ],
      "execution_count": null,
      "outputs": [
        {
          "output_type": "stream",
          "text": [
            "(421570, 7)\n",
            "Unnamed: 0                      846\n",
            "index                           846\n",
            "Store                             1\n",
            "Dept                              6\n",
            "Date            2012-08-10 00:00:00\n",
            "Weekly_Sales                15981.3\n",
            "IsHoliday                         0\n",
            "Name: 846, dtype: object\n"
          ],
          "name": "stdout"
        }
      ]
    },
    {
      "cell_type": "code",
      "metadata": {
        "colab": {
          "base_uri": "https://localhost:8080/",
          "height": 297
        },
        "id": "O9fBlmLL8bsr",
        "outputId": "e8d2c235-87b2-4e9f-8472-073baf5d1dab"
      },
      "source": [
        "neg=df.loc[df['Weekly_Sales']==0]\n",
        "neg.describe()"
      ],
      "execution_count": null,
      "outputs": [
        {
          "output_type": "execute_result",
          "data": {
            "text/html": [
              "<div>\n",
              "<style scoped>\n",
              "    .dataframe tbody tr th:only-of-type {\n",
              "        vertical-align: middle;\n",
              "    }\n",
              "\n",
              "    .dataframe tbody tr th {\n",
              "        vertical-align: top;\n",
              "    }\n",
              "\n",
              "    .dataframe thead th {\n",
              "        text-align: right;\n",
              "    }\n",
              "</style>\n",
              "<table border=\"1\" class=\"dataframe\">\n",
              "  <thead>\n",
              "    <tr style=\"text-align: right;\">\n",
              "      <th></th>\n",
              "      <th>Unnamed: 0</th>\n",
              "      <th>index</th>\n",
              "      <th>Store</th>\n",
              "      <th>Dept</th>\n",
              "      <th>Weekly_Sales</th>\n",
              "      <th>IsHoliday</th>\n",
              "    </tr>\n",
              "  </thead>\n",
              "  <tbody>\n",
              "    <tr>\n",
              "      <th>count</th>\n",
              "      <td>73.000000</td>\n",
              "      <td>73.000000</td>\n",
              "      <td>73.000000</td>\n",
              "      <td>73.000000</td>\n",
              "      <td>73.0</td>\n",
              "      <td>73.000000</td>\n",
              "    </tr>\n",
              "    <tr>\n",
              "      <th>mean</th>\n",
              "      <td>204141.287671</td>\n",
              "      <td>204141.287671</td>\n",
              "      <td>21.424658</td>\n",
              "      <td>52.657534</td>\n",
              "      <td>0.0</td>\n",
              "      <td>0.041096</td>\n",
              "    </tr>\n",
              "    <tr>\n",
              "      <th>std</th>\n",
              "      <td>119955.909859</td>\n",
              "      <td>119955.909859</td>\n",
              "      <td>12.719100</td>\n",
              "      <td>17.147416</td>\n",
              "      <td>0.0</td>\n",
              "      <td>0.199886</td>\n",
              "    </tr>\n",
              "    <tr>\n",
              "      <th>min</th>\n",
              "      <td>6055.000000</td>\n",
              "      <td>6055.000000</td>\n",
              "      <td>1.000000</td>\n",
              "      <td>18.000000</td>\n",
              "      <td>0.0</td>\n",
              "      <td>0.000000</td>\n",
              "    </tr>\n",
              "    <tr>\n",
              "      <th>25%</th>\n",
              "      <td>114125.000000</td>\n",
              "      <td>114125.000000</td>\n",
              "      <td>12.000000</td>\n",
              "      <td>47.000000</td>\n",
              "      <td>0.0</td>\n",
              "      <td>0.000000</td>\n",
              "    </tr>\n",
              "    <tr>\n",
              "      <th>50%</th>\n",
              "      <td>183622.000000</td>\n",
              "      <td>183622.000000</td>\n",
              "      <td>19.000000</td>\n",
              "      <td>49.000000</td>\n",
              "      <td>0.0</td>\n",
              "      <td>0.000000</td>\n",
              "    </tr>\n",
              "    <tr>\n",
              "      <th>75%</th>\n",
              "      <td>296103.000000</td>\n",
              "      <td>296103.000000</td>\n",
              "      <td>31.000000</td>\n",
              "      <td>54.000000</td>\n",
              "      <td>0.0</td>\n",
              "      <td>0.000000</td>\n",
              "    </tr>\n",
              "    <tr>\n",
              "      <th>max</th>\n",
              "      <td>418150.000000</td>\n",
              "      <td>418150.000000</td>\n",
              "      <td>45.000000</td>\n",
              "      <td>98.000000</td>\n",
              "      <td>0.0</td>\n",
              "      <td>1.000000</td>\n",
              "    </tr>\n",
              "  </tbody>\n",
              "</table>\n",
              "</div>"
            ],
            "text/plain": [
              "          Unnamed: 0          index  ...  Weekly_Sales  IsHoliday\n",
              "count      73.000000      73.000000  ...          73.0  73.000000\n",
              "mean   204141.287671  204141.287671  ...           0.0   0.041096\n",
              "std    119955.909859  119955.909859  ...           0.0   0.199886\n",
              "min      6055.000000    6055.000000  ...           0.0   0.000000\n",
              "25%    114125.000000  114125.000000  ...           0.0   0.000000\n",
              "50%    183622.000000  183622.000000  ...           0.0   0.000000\n",
              "75%    296103.000000  296103.000000  ...           0.0   0.000000\n",
              "max    418150.000000  418150.000000  ...           0.0   1.000000\n",
              "\n",
              "[8 rows x 6 columns]"
            ]
          },
          "metadata": {
            "tags": []
          },
          "execution_count": 11
        }
      ]
    },
    {
      "cell_type": "code",
      "metadata": {
        "colab": {
          "base_uri": "https://localhost:8080/"
        },
        "id": "Tar2URJjz0Ri",
        "outputId": "033db73a-9c2a-4e70-932d-ee12be880de5"
      },
      "source": [
        "print(df['Weekly_Sales'].describe())"
      ],
      "execution_count": null,
      "outputs": [
        {
          "output_type": "stream",
          "text": [
            "count    421570.000000\n",
            "mean      16030.254816\n",
            "std       22693.833976\n",
            "min           0.000000\n",
            "25%        2130.877500\n",
            "50%        7709.810000\n",
            "75%       20205.852500\n",
            "max      693099.360000\n",
            "Name: Weekly_Sales, dtype: float64\n"
          ],
          "name": "stdout"
        }
      ]
    },
    {
      "cell_type": "markdown",
      "metadata": {
        "id": "C52d2YsTUPvQ"
      },
      "source": [
        "##Winsorizing Weekly Sales"
      ]
    },
    {
      "cell_type": "code",
      "metadata": {
        "id": "7au88IqlW5Oq"
      },
      "source": [
        "class Winsorizer():\n",
        "  def __init__(self, df):\n",
        "    self.upper = df.quantile(0.95)\n",
        "    self.lower = df.quantile(0.05)\n",
        "    self.df = df\n",
        "  def _transformer_up(self, x):\n",
        "    if x > self.upper:\n",
        "      return self.upper\n",
        "    else:\n",
        "      return x\n",
        "  def _transformer_down(self, x):\n",
        "    if x < self.lower:\n",
        "      return self.lower\n",
        "    else:\n",
        "      return x\n",
        "  def transform(self):\n",
        "    self.df = self.df.apply(self._transformer_up)\n",
        "    self.df = self.df.apply(self._transformer_down)\n",
        "    return self.df\n"
      ],
      "execution_count": null,
      "outputs": []
    },
    {
      "cell_type": "code",
      "metadata": {
        "colab": {
          "base_uri": "https://localhost:8080/"
        },
        "id": "2QUTjxUoZ8dN",
        "outputId": "2c4d8c0e-f5de-470b-9cfc-71312b1b7384"
      },
      "source": [
        "print(df.shape)\n",
        "wind=Winsorizer(df['Weekly_Sales'])\n",
        "df['Weekly_Sales']=wind.transform()\n",
        "print(df.shape)"
      ],
      "execution_count": null,
      "outputs": [
        {
          "output_type": "stream",
          "text": [
            "(421570, 7)\n",
            "(421570, 7)\n"
          ],
          "name": "stdout"
        }
      ]
    },
    {
      "cell_type": "markdown",
      "metadata": {
        "id": "HdcoRjevx_1m"
      },
      "source": [
        "##Code To Trim The Top And Bottom 5% Of Data:\n",
        "\n",
        "---\n",
        "\n",
        "\n",
        "\n"
      ]
    },
    {
      "cell_type": "code",
      "metadata": {
        "colab": {
          "base_uri": "https://localhost:8080/",
          "height": 86
        },
        "id": "4Ct_gPFtUOp8",
        "outputId": "52c0a5a5-0b53-4d25-a08d-101c8c3efb59"
      },
      "source": [
        "'''print(df.shape)\n",
        "df[\"Weekly_Sales\"] = pd.to_numeric(df[\"Weekly_Sales\"])\n",
        "\n",
        "ws=df['Weekly_Sales']\n",
        "sort=sorted(ws)\n",
        "t5=floor(len(ws)*.95)\n",
        "b5=floor(len(ws)*.05)\n",
        "top=sort[t5:]\n",
        "bottom=sort[:b5+1]\n",
        "fat=[]\n",
        "for i in bottom:\n",
        "    fat.append(i)\n",
        "for i in top:\n",
        "    fat.append(i)\n",
        "for i in fat:\n",
        "    ind=df[df['Weekly_Sales'] == i].index.values\n",
        "    df=df.drop(ind)\n",
        "print(df.shape)'''"
      ],
      "execution_count": null,
      "outputs": [
        {
          "output_type": "execute_result",
          "data": {
            "application/vnd.google.colaboratory.intrinsic+json": {
              "type": "string"
            },
            "text/plain": [
              "'print(df.shape)\\ndf[\"Weekly_Sales\"] = pd.to_numeric(df[\"Weekly_Sales\"])\\n\\nws=df[\\'Weekly_Sales\\']\\nsort=sorted(ws)\\nt5=floor(len(ws)*.95)\\nb5=floor(len(ws)*.05)\\ntop=sort[t5:]\\nbottom=sort[:b5+1]\\nfat=[]\\nfor i in bottom:\\n    fat.append(i)\\nfor i in top:\\n    fat.append(i)\\nfor i in fat:\\n    ind=df[df[\\'Weekly_Sales\\'] == i].index.values\\n    df=df.drop(ind)\\nprint(df.shape)'"
            ]
          },
          "metadata": {
            "tags": []
          },
          "execution_count": 15
        }
      ]
    },
    {
      "cell_type": "markdown",
      "metadata": {
        "id": "I5VF97OaA2jp"
      },
      "source": [
        "##Plots"
      ]
    },
    {
      "cell_type": "code",
      "metadata": {
        "colab": {
          "base_uri": "https://localhost:8080/",
          "height": 367
        },
        "id": "hbZ0rbooR2mM",
        "outputId": "9ce10764-0e4c-4a12-fe38-702a6c8fc1e1"
      },
      "source": [
        "plt.hist(df['Weekly_Sales'])"
      ],
      "execution_count": null,
      "outputs": [
        {
          "output_type": "execute_result",
          "data": {
            "text/plain": [
              "(array([188844.,  72272.,  45203.,  28473.,  18833.,  14652.,  11167.,\n",
              "          8714.,   6764.,  26648.]),\n",
              " array([   67.5   ,  6180.9451, 12294.3902, 18407.8353, 24521.2804,\n",
              "        30634.7255, 36748.1706, 42861.6157, 48975.0608, 55088.5059,\n",
              "        61201.951 ]),\n",
              " <a list of 10 Patch objects>)"
            ]
          },
          "metadata": {
            "tags": []
          },
          "execution_count": 16
        },
        {
          "output_type": "display_data",
          "data": {
            "image/png": "[encoded data removed]",
            "text/plain": [
              "<Figure size 432x288 with 1 Axes>"
            ]
          },
          "metadata": {
            "tags": [],
            "needs_background": "light"
          }
        }
      ]
    },
    {
      "cell_type": "code",
      "metadata": {
        "colab": {
          "base_uri": "https://localhost:8080/",
          "height": 420
        },
        "id": "gh-zK_dVSwiW",
        "outputId": "cde22772-6652-4dc8-f34d-0b166c06d401"
      },
      "source": [
        "plt.figure(figsize =(15, 7))\n",
        "plt.boxplot(df['Weekly_Sales'])\n",
        "plt.show()"
      ],
      "execution_count": null,
      "outputs": [
        {
          "output_type": "display_data",
          "data": {
            "image/png": "[encoded data removed]",
            "text/plain": [
              "<Figure size 1080x504 with 1 Axes>"
            ]
          },
          "metadata": {
            "tags": [],
            "needs_background": "light"
          }
        }
      ]
    },
    {
      "cell_type": "markdown",
      "metadata": {
        "id": "1TiAYMvV_XUU"
      },
      "source": [
        "Scale Weekly in accodance to Log(1+p)"
      ]
    },
    {
      "cell_type": "code",
      "metadata": {
        "colab": {
          "base_uri": "https://localhost:8080/",
          "height": 297
        },
        "id": "DEKiZsTNTGKS",
        "outputId": "f77c2944-27bb-4beb-8c59-6f42cf0192df"
      },
      "source": [
        "df.plot.scatter(x= 'Weekly_Sales', y= 'Dept')"
      ],
      "execution_count": null,
      "outputs": [
        {
          "output_type": "execute_result",
          "data": {
            "text/plain": [
              "<matplotlib.axes._subplots.AxesSubplot at 0x7f3d2012efd0>"
            ]
          },
          "metadata": {
            "tags": []
          },
          "execution_count": 18
        },
        {
          "output_type": "display_data",
          "data": {
            "image/png": "[encoded data removed]",
            "text/plain": [
              "<Figure size 432x288 with 1 Axes>"
            ]
          },
          "metadata": {
            "tags": [],
            "needs_background": "light"
          }
        }
      ]
    },
    {
      "cell_type": "code",
      "metadata": {
        "colab": {
          "base_uri": "https://localhost:8080/",
          "height": 297
        },
        "id": "iPAslnaiT4LX",
        "outputId": "cb701312-3cb7-4312-cedf-2c95cb4a19ca"
      },
      "source": [
        "df.plot.scatter(x= 'Weekly_Sales', y= 'Store')"
      ],
      "execution_count": null,
      "outputs": [
        {
          "output_type": "execute_result",
          "data": {
            "text/plain": [
              "<matplotlib.axes._subplots.AxesSubplot at 0x7f3d200bff10>"
            ]
          },
          "metadata": {
            "tags": []
          },
          "execution_count": 19
        },
        {
          "output_type": "display_data",
          "data": {
            "image/png": "[encoded data removed]",
            "text/plain": [
              "<Figure size 432x288 with 1 Axes>"
            ]
          },
          "metadata": {
            "tags": [],
            "needs_background": "light"
          }
        }
      ]
    },
    {
      "cell_type": "markdown",
      "metadata": {
        "id": "zOjBQxmXBIa_"
      },
      "source": [
        "##Pre split data manipulaton"
      ]
    },
    {
      "cell_type": "code",
      "metadata": {
        "id": "f9X3BcC_Fsiw"
      },
      "source": [
        "#prevelance of 0s create -inf results\n",
        "df['Weekly_Sales_log']=df['Weekly_Sales'].apply(lambda x:np.log(1+x))"
      ],
      "execution_count": null,
      "outputs": []
    },
    {
      "cell_type": "code",
      "metadata": {
        "colab": {
          "base_uri": "https://localhost:8080/"
        },
        "id": "Br1-RbOaBXka",
        "outputId": "75915226-9332-4fb5-af80-0fe58f3b9351"
      },
      "source": [
        "df['Weekly_Sales_log'].describe()"
      ],
      "execution_count": null,
      "outputs": [
        {
          "output_type": "execute_result",
          "data": {
            "text/plain": [
              "count    421570.000000\n",
              "mean          8.578983\n",
              "std           1.814827\n",
              "min           4.226834\n",
              "25%           7.664758\n",
              "50%           8.950379\n",
              "75%           9.913777\n",
              "max          11.021951\n",
              "Name: Weekly_Sales_log, dtype: float64"
            ]
          },
          "metadata": {
            "tags": []
          },
          "execution_count": 21
        }
      ]
    },
    {
      "cell_type": "code",
      "metadata": {
        "colab": {
          "base_uri": "https://localhost:8080/",
          "height": 367
        },
        "id": "RAuHhS1CDGK0",
        "outputId": "09d7dcce-f1a7-4d26-e0bd-a705d8917d70"
      },
      "source": [
        "plt.hist(df['Weekly_Sales_log'])"
      ],
      "execution_count": null,
      "outputs": [
        {
          "output_type": "execute_result",
          "data": {
            "text/plain": [
              "(array([29319.,  9946., 14073., 19925., 29924., 47203., 63917., 73370.,\n",
              "        66957., 66936.]),\n",
              " array([ 4.22683375,  4.90634544,  5.58585713,  6.26536883,  6.94488052,\n",
              "         7.62439222,  8.30390391,  8.9834156 ,  9.6629273 , 10.34243899,\n",
              "        11.02195069]),\n",
              " <a list of 10 Patch objects>)"
            ]
          },
          "metadata": {
            "tags": []
          },
          "execution_count": 22
        },
        {
          "output_type": "display_data",
          "data": {
            "image/png": "[encoded data removed]",
            "text/plain": [
              "<Figure size 432x288 with 1 Axes>"
            ]
          },
          "metadata": {
            "tags": [],
            "needs_background": "light"
          }
        }
      ]
    },
    {
      "cell_type": "markdown",
      "metadata": {
        "id": "6fEcifIyDOCd"
      },
      "source": [
        "Utilize Yeo Johnson Power transformation take left skewed data and normalize it:"
      ]
    },
    {
      "cell_type": "code",
      "metadata": {
        "id": "BvcI0TtbBXSm"
      },
      "source": [
        "pt = PowerTransformer()\n",
        "ws=df['Weekly_Sales'].to_numpy()\n",
        "pt.fit(ws.reshape(-1,1))\n",
        "yj=pt.transform(ws.reshape(-1,1))\n",
        "df['Weekly_YJLogs']=yj"
      ],
      "execution_count": null,
      "outputs": []
    },
    {
      "cell_type": "code",
      "metadata": {
        "colab": {
          "base_uri": "https://localhost:8080/",
          "height": 371
        },
        "id": "iFG-btWyC7La",
        "outputId": "b8314d5a-60cc-4d8d-defe-3b4099f1d883"
      },
      "source": [
        "plt.hist(df['Weekly_YJLogs'])"
      ],
      "execution_count": null,
      "outputs": [
        {
          "output_type": "execute_result",
          "data": {
            "text/plain": [
              "(array([39121., 23704., 32102., 45120., 54860., 57229., 54004., 41611.,\n",
              "        30988., 42831.]),\n",
              " array([-1.876498  , -1.51501676, -1.15353551, -0.79205427, -0.43057303,\n",
              "        -0.06909179,  0.29238945,  0.65387069,  1.01535193,  1.37683318,\n",
              "         1.73831442]),\n",
              " <a list of 10 Patch objects>)"
            ]
          },
          "metadata": {
            "tags": []
          },
          "execution_count": 24
        },
        {
          "output_type": "display_data",
          "data": {
            "image/png": "[encoded data removed]",
            "text/plain": [
              "<Figure size 432x288 with 1 Axes>"
            ]
          },
          "metadata": {
            "tags": [],
            "needs_background": "light"
          }
        }
      ]
    },
    {
      "cell_type": "code",
      "metadata": {
        "colab": {
          "base_uri": "https://localhost:8080/"
        },
        "id": "wV_axhYZIRZ9",
        "outputId": "385cc3b7-5309-4bc8-8f96-fcd5a8909fb9"
      },
      "source": [
        "df.Weekly_Sales.describe().loc[\"mean\",]"
      ],
      "execution_count": null,
      "outputs": [
        {
          "output_type": "execute_result",
          "data": {
            "text/plain": [
              "14607.618948773026"
            ]
          },
          "metadata": {
            "tags": []
          },
          "execution_count": 25
        }
      ]
    },
    {
      "cell_type": "code",
      "metadata": {
        "id": "WZBiGM4XLaI9"
      },
      "source": [
        "def minMax(col):\n",
        "  min = df[col].min()\n",
        "  max = df[col].max()\n",
        "  return (df[col] - min) / (max - min)"
      ],
      "execution_count": null,
      "outputs": []
    },
    {
      "cell_type": "code",
      "metadata": {
        "id": "9_PCgxwdLwuo"
      },
      "source": [
        "df[\"minMax_WeeklySales\"] = minMax(\"Weekly_Sales\")"
      ],
      "execution_count": null,
      "outputs": []
    },
    {
      "cell_type": "code",
      "metadata": {
        "colab": {
          "base_uri": "https://localhost:8080/"
        },
        "id": "SfNr89sjL5_U",
        "outputId": "7a1482f3-f710-4020-b26e-669e65ef30b2"
      },
      "source": [
        "df['minMax_WeeklySales'].describe()"
      ],
      "execution_count": null,
      "outputs": [
        {
          "output_type": "execute_result",
          "data": {
            "text/plain": [
              "count    421570.000000\n",
              "mean          0.237838\n",
              "std           0.280189\n",
              "min           0.000000\n",
              "25%           0.033751\n",
              "50%           0.125008\n",
              "75%           0.329411\n",
              "max           1.000000\n",
              "Name: minMax_WeeklySales, dtype: float64"
            ]
          },
          "metadata": {
            "tags": []
          },
          "execution_count": 28
        }
      ]
    },
    {
      "cell_type": "code",
      "metadata": {
        "colab": {
          "base_uri": "https://localhost:8080/",
          "height": 333
        },
        "id": "YTS2E7rKL60T",
        "outputId": "642e50ba-aa98-474d-95ec-dd04f1aae9d2"
      },
      "source": [
        "plt.hist(df['minMax_WeeklySales'])"
      ],
      "execution_count": null,
      "outputs": [
        {
          "output_type": "execute_result",
          "data": {
            "text/plain": [
              "(array([188844.,  72272.,  45203.,  28473.,  18833.,  14652.,  11167.,\n",
              "          8714.,   6764.,  26648.]),\n",
              " array([0. , 0.1, 0.2, 0.3, 0.4, 0.5, 0.6, 0.7, 0.8, 0.9, 1. ]),\n",
              " <a list of 10 Patch objects>)"
            ]
          },
          "metadata": {
            "tags": []
          },
          "execution_count": 29
        },
        {
          "output_type": "display_data",
          "data": {
            "image/png": "[encoded data removed]",
            "text/plain": [
              "<Figure size 432x288 with 1 Axes>"
            ]
          },
          "metadata": {
            "tags": [],
            "needs_background": "light"
          }
        }
      ]
    },
    {
      "cell_type": "code",
      "metadata": {
        "colab": {
          "base_uri": "https://localhost:8080/",
          "height": 317
        },
        "id": "HTJeesWheYAw",
        "outputId": "8fafed68-3110-4a4e-b383-7919ab9ba835"
      },
      "source": [
        "df.describe()"
      ],
      "execution_count": null,
      "outputs": [
        {
          "output_type": "execute_result",
          "data": {
            "text/html": [
              "<div>\n",
              "<style scoped>\n",
              "    .dataframe tbody tr th:only-of-type {\n",
              "        vertical-align: middle;\n",
              "    }\n",
              "\n",
              "    .dataframe tbody tr th {\n",
              "        vertical-align: top;\n",
              "    }\n",
              "\n",
              "    .dataframe thead th {\n",
              "        text-align: right;\n",
              "    }\n",
              "</style>\n",
              "<table border=\"1\" class=\"dataframe\">\n",
              "  <thead>\n",
              "    <tr style=\"text-align: right;\">\n",
              "      <th></th>\n",
              "      <th>Unnamed: 0</th>\n",
              "      <th>index</th>\n",
              "      <th>Store</th>\n",
              "      <th>Dept</th>\n",
              "      <th>Weekly_Sales</th>\n",
              "      <th>IsHoliday</th>\n",
              "      <th>Weekly_Sales_log</th>\n",
              "      <th>Weekly_YJLogs</th>\n",
              "      <th>minMax_WeeklySales</th>\n",
              "    </tr>\n",
              "  </thead>\n",
              "  <tbody>\n",
              "    <tr>\n",
              "      <th>count</th>\n",
              "      <td>421570.000000</td>\n",
              "      <td>421570.000000</td>\n",
              "      <td>421570.000000</td>\n",
              "      <td>421570.000000</td>\n",
              "      <td>421570.000000</td>\n",
              "      <td>421570.000000</td>\n",
              "      <td>421570.000000</td>\n",
              "      <td>4.215700e+05</td>\n",
              "      <td>421570.000000</td>\n",
              "    </tr>\n",
              "    <tr>\n",
              "      <th>mean</th>\n",
              "      <td>210784.500000</td>\n",
              "      <td>210784.500000</td>\n",
              "      <td>22.200546</td>\n",
              "      <td>44.260317</td>\n",
              "      <td>14607.618949</td>\n",
              "      <td>0.070358</td>\n",
              "      <td>8.578983</td>\n",
              "      <td>-1.069627e-14</td>\n",
              "      <td>0.237838</td>\n",
              "    </tr>\n",
              "    <tr>\n",
              "      <th>std</th>\n",
              "      <td>121696.920828</td>\n",
              "      <td>121696.920828</td>\n",
              "      <td>12.785297</td>\n",
              "      <td>30.492054</td>\n",
              "      <td>17129.216850</td>\n",
              "      <td>0.255750</td>\n",
              "      <td>1.814827</td>\n",
              "      <td>1.000001e+00</td>\n",
              "      <td>0.280189</td>\n",
              "    </tr>\n",
              "    <tr>\n",
              "      <th>min</th>\n",
              "      <td>0.000000</td>\n",
              "      <td>0.000000</td>\n",
              "      <td>1.000000</td>\n",
              "      <td>1.000000</td>\n",
              "      <td>67.500000</td>\n",
              "      <td>0.000000</td>\n",
              "      <td>4.226834</td>\n",
              "      <td>-1.876498e+00</td>\n",
              "      <td>0.000000</td>\n",
              "    </tr>\n",
              "    <tr>\n",
              "      <th>25%</th>\n",
              "      <td>105392.250000</td>\n",
              "      <td>105392.250000</td>\n",
              "      <td>11.000000</td>\n",
              "      <td>18.000000</td>\n",
              "      <td>2130.877500</td>\n",
              "      <td>0.000000</td>\n",
              "      <td>7.664758</td>\n",
              "      <td>-6.961848e-01</td>\n",
              "      <td>0.033751</td>\n",
              "    </tr>\n",
              "    <tr>\n",
              "      <th>50%</th>\n",
              "      <td>210784.500000</td>\n",
              "      <td>210784.500000</td>\n",
              "      <td>22.000000</td>\n",
              "      <td>37.000000</td>\n",
              "      <td>7709.810000</td>\n",
              "      <td>0.000000</td>\n",
              "      <td>8.950379</td>\n",
              "      <td>3.158053e-02</td>\n",
              "      <td>0.125008</td>\n",
              "    </tr>\n",
              "    <tr>\n",
              "      <th>75%</th>\n",
              "      <td>316176.750000</td>\n",
              "      <td>316176.750000</td>\n",
              "      <td>33.000000</td>\n",
              "      <td>74.000000</td>\n",
              "      <td>20205.852500</td>\n",
              "      <td>0.000000</td>\n",
              "      <td>9.913777</td>\n",
              "      <td>7.293067e-01</td>\n",
              "      <td>0.329411</td>\n",
              "    </tr>\n",
              "    <tr>\n",
              "      <th>max</th>\n",
              "      <td>421569.000000</td>\n",
              "      <td>421569.000000</td>\n",
              "      <td>45.000000</td>\n",
              "      <td>99.000000</td>\n",
              "      <td>61201.951000</td>\n",
              "      <td>1.000000</td>\n",
              "      <td>11.021951</td>\n",
              "      <td>1.738314e+00</td>\n",
              "      <td>1.000000</td>\n",
              "    </tr>\n",
              "  </tbody>\n",
              "</table>\n",
              "</div>"
            ],
            "text/plain": [
              "          Unnamed: 0          index  ...  Weekly_YJLogs  minMax_WeeklySales\n",
              "count  421570.000000  421570.000000  ...   4.215700e+05       421570.000000\n",
              "mean   210784.500000  210784.500000  ...  -1.069627e-14            0.237838\n",
              "std    121696.920828  121696.920828  ...   1.000001e+00            0.280189\n",
              "min         0.000000       0.000000  ...  -1.876498e+00            0.000000\n",
              "25%    105392.250000  105392.250000  ...  -6.961848e-01            0.033751\n",
              "50%    210784.500000  210784.500000  ...   3.158053e-02            0.125008\n",
              "75%    316176.750000  316176.750000  ...   7.293067e-01            0.329411\n",
              "max    421569.000000  421569.000000  ...   1.738314e+00            1.000000\n",
              "\n",
              "[8 rows x 9 columns]"
            ]
          },
          "metadata": {
            "tags": []
          },
          "execution_count": 30
        }
      ]
    },
    {
      "cell_type": "code",
      "metadata": {
        "colab": {
          "base_uri": "https://localhost:8080/"
        },
        "id": "AImksQ2Cl2ay",
        "outputId": "adff8f53-e112-4c76-bb0a-378c52966aeb"
      },
      "source": [
        "df['Date']"
      ],
      "execution_count": null,
      "outputs": [
        {
          "output_type": "execute_result",
          "data": {
            "text/plain": [
              "0        2010-02-05\n",
              "1        2010-02-12\n",
              "2        2010-02-19\n",
              "3        2010-02-26\n",
              "4        2010-03-05\n",
              "            ...    \n",
              "421565   2012-09-28\n",
              "421566   2012-10-05\n",
              "421567   2012-10-12\n",
              "421568   2012-10-19\n",
              "421569   2012-10-26\n",
              "Name: Date, Length: 421570, dtype: datetime64[ns]"
            ]
          },
          "metadata": {
            "tags": []
          },
          "execution_count": 31
        }
      ]
    },
    {
      "cell_type": "markdown",
      "metadata": {
        "id": "thbjS-i030p1"
      },
      "source": [
        "# Begin creation of Corporate CSV"
      ]
    },
    {
      "cell_type": "code",
      "metadata": {
        "colab": {
          "base_uri": "https://localhost:8080/",
          "height": 297
        },
        "id": "pXCX2Vr_jWrU",
        "outputId": "a28034a5-830d-46e5-e4f0-b6f61134775e"
      },
      "source": [
        "dfCorp=df.drop(columns=['Unnamed: 0','index','Weekly_YJLogs','Weekly_Sales_log','minMax_WeeklySales','Store','Dept','IsHoliday'])\n",
        "dfCorp.describe()"
      ],
      "execution_count": null,
      "outputs": [
        {
          "output_type": "execute_result",
          "data": {
            "text/html": [
              "<div>\n",
              "<style scoped>\n",
              "    .dataframe tbody tr th:only-of-type {\n",
              "        vertical-align: middle;\n",
              "    }\n",
              "\n",
              "    .dataframe tbody tr th {\n",
              "        vertical-align: top;\n",
              "    }\n",
              "\n",
              "    .dataframe thead th {\n",
              "        text-align: right;\n",
              "    }\n",
              "</style>\n",
              "<table border=\"1\" class=\"dataframe\">\n",
              "  <thead>\n",
              "    <tr style=\"text-align: right;\">\n",
              "      <th></th>\n",
              "      <th>Weekly_Sales</th>\n",
              "    </tr>\n",
              "  </thead>\n",
              "  <tbody>\n",
              "    <tr>\n",
              "      <th>count</th>\n",
              "      <td>421570.000000</td>\n",
              "    </tr>\n",
              "    <tr>\n",
              "      <th>mean</th>\n",
              "      <td>14607.618949</td>\n",
              "    </tr>\n",
              "    <tr>\n",
              "      <th>std</th>\n",
              "      <td>17129.216850</td>\n",
              "    </tr>\n",
              "    <tr>\n",
              "      <th>min</th>\n",
              "      <td>67.500000</td>\n",
              "    </tr>\n",
              "    <tr>\n",
              "      <th>25%</th>\n",
              "      <td>2130.877500</td>\n",
              "    </tr>\n",
              "    <tr>\n",
              "      <th>50%</th>\n",
              "      <td>7709.810000</td>\n",
              "    </tr>\n",
              "    <tr>\n",
              "      <th>75%</th>\n",
              "      <td>20205.852500</td>\n",
              "    </tr>\n",
              "    <tr>\n",
              "      <th>max</th>\n",
              "      <td>61201.951000</td>\n",
              "    </tr>\n",
              "  </tbody>\n",
              "</table>\n",
              "</div>"
            ],
            "text/plain": [
              "        Weekly_Sales\n",
              "count  421570.000000\n",
              "mean    14607.618949\n",
              "std     17129.216850\n",
              "min        67.500000\n",
              "25%      2130.877500\n",
              "50%      7709.810000\n",
              "75%     20205.852500\n",
              "max     61201.951000"
            ]
          },
          "metadata": {
            "tags": []
          },
          "execution_count": 32
        }
      ]
    },
    {
      "cell_type": "code",
      "metadata": {
        "colab": {
          "base_uri": "https://localhost:8080/"
        },
        "id": "FGZzcjrsxo2V",
        "outputId": "dd61530c-2519-4c03-e0ea-c15b53a7d13f"
      },
      "source": [
        "dates=set(df['Date'])\n",
        "dates=sorted(dates)\n",
        "print(dates[0],dates[-1])\n",
        "#142 weeks between the two dates with 143 unique values"
      ],
      "execution_count": null,
      "outputs": [
        {
          "output_type": "stream",
          "text": [
            "2010-02-05 00:00:00 2012-10-26 00:00:00\n"
          ],
          "name": "stdout"
        }
      ]
    },
    {
      "cell_type": "code",
      "metadata": {
        "id": "EIUd07-SyTiJ"
      },
      "source": [
        "d = {'Date':dates, 'Weekly_Sales':np.empty([len(dates)])}\n",
        "dfCorp = pd.DataFrame(data=d)"
      ],
      "execution_count": null,
      "outputs": []
    },
    {
      "cell_type": "markdown",
      "metadata": {
        "id": "rW9HBGuI2Ug2"
      },
      "source": [
        "Aggregate all sales of all dates "
      ]
    },
    {
      "cell_type": "code",
      "metadata": {
        "id": "Xp0Vx5lGycPv"
      },
      "source": [
        "sales=[]\n",
        "for date in dates:\n",
        "  '''Gather the weekly reportings of a given a week'''\n",
        "  week=df.loc[df['Date']==date]\n",
        "  i=0\n",
        "  sale=0\n",
        "  while(i<len(week)):\n",
        "    row=week.iloc[i]\n",
        "    #key 5 retrieves Weekly Sales value\n",
        "    sale+=row.get(key=5)\n",
        "    i+=1\n",
        "  sales.append(sale)"
      ],
      "execution_count": null,
      "outputs": []
    },
    {
      "cell_type": "markdown",
      "metadata": {
        "id": "JxUWhfRU3SbH"
      },
      "source": [
        "Populate Corporate dataframe:"
      ]
    },
    {
      "cell_type": "code",
      "metadata": {
        "id": "kDDkYz2H0zvd"
      },
      "source": [
        "i=0\n",
        "for sale in sales:\n",
        "  dfCorp.at[i,'Weekly_Sales']=sale\n",
        "  i+=1"
      ],
      "execution_count": null,
      "outputs": []
    },
    {
      "cell_type": "code",
      "metadata": {
        "colab": {
          "base_uri": "https://localhost:8080/",
          "height": 297
        },
        "id": "i0vr08S416Zu",
        "outputId": "94dc87e7-6473-4e8e-e98a-07307f1e9f75"
      },
      "source": [
        "dfCorp.describe()"
      ],
      "execution_count": null,
      "outputs": [
        {
          "output_type": "execute_result",
          "data": {
            "text/html": [
              "<div>\n",
              "<style scoped>\n",
              "    .dataframe tbody tr th:only-of-type {\n",
              "        vertical-align: middle;\n",
              "    }\n",
              "\n",
              "    .dataframe tbody tr th {\n",
              "        vertical-align: top;\n",
              "    }\n",
              "\n",
              "    .dataframe thead th {\n",
              "        text-align: right;\n",
              "    }\n",
              "</style>\n",
              "<table border=\"1\" class=\"dataframe\">\n",
              "  <thead>\n",
              "    <tr style=\"text-align: right;\">\n",
              "      <th></th>\n",
              "      <th>Weekly_Sales</th>\n",
              "    </tr>\n",
              "  </thead>\n",
              "  <tbody>\n",
              "    <tr>\n",
              "      <th>count</th>\n",
              "      <td>1.430000e+02</td>\n",
              "    </tr>\n",
              "    <tr>\n",
              "      <th>mean</th>\n",
              "      <td>4.306387e+07</td>\n",
              "    </tr>\n",
              "    <tr>\n",
              "      <th>std</th>\n",
              "      <td>3.532692e+06</td>\n",
              "    </tr>\n",
              "    <tr>\n",
              "      <th>min</th>\n",
              "      <td>3.684533e+07</td>\n",
              "    </tr>\n",
              "    <tr>\n",
              "      <th>25%</th>\n",
              "      <td>4.155836e+07</td>\n",
              "    </tr>\n",
              "    <tr>\n",
              "      <th>50%</th>\n",
              "      <td>4.255290e+07</td>\n",
              "    </tr>\n",
              "    <tr>\n",
              "      <th>75%</th>\n",
              "      <td>4.395299e+07</td>\n",
              "    </tr>\n",
              "    <tr>\n",
              "      <th>max</th>\n",
              "      <td>6.329779e+07</td>\n",
              "    </tr>\n",
              "  </tbody>\n",
              "</table>\n",
              "</div>"
            ],
            "text/plain": [
              "       Weekly_Sales\n",
              "count  1.430000e+02\n",
              "mean   4.306387e+07\n",
              "std    3.532692e+06\n",
              "min    3.684533e+07\n",
              "25%    4.155836e+07\n",
              "50%    4.255290e+07\n",
              "75%    4.395299e+07\n",
              "max    6.329779e+07"
            ]
          },
          "metadata": {
            "tags": []
          },
          "execution_count": 37
        }
      ]
    },
    {
      "cell_type": "code",
      "metadata": {
        "colab": {
          "base_uri": "https://localhost:8080/",
          "height": 380
        },
        "id": "T0ki6eEO6DNb",
        "outputId": "eb9a7071-116b-4bc1-9689-f1ef6fda10da"
      },
      "source": [
        "plt.hist(dfCorp['Weekly_Sales'])"
      ],
      "execution_count": null,
      "outputs": [
        {
          "output_type": "execute_result",
          "data": {
            "text/plain": [
              "(array([11., 47., 66., 10.,  3.,  2.,  2.,  0.,  0.,  2.]),\n",
              " array([36845327.06604905, 39490573.33323463, 42135819.60042021,\n",
              "        44781065.86760579, 47426312.13479137, 50071558.40197694,\n",
              "        52716804.66916253, 55362050.9363481 , 58007297.20353368,\n",
              "        60652543.47071926, 63297789.73790484]),\n",
              " <a list of 10 Patch objects>)"
            ]
          },
          "metadata": {
            "tags": []
          },
          "execution_count": 38
        },
        {
          "output_type": "display_data",
          "data": {
            "image/png": "[encoded data removed]",
            "text/plain": [
              "<Figure size 432x288 with 1 Axes>"
            ]
          },
          "metadata": {
            "tags": [],
            "needs_background": "light"
          }
        }
      ]
    },
    {
      "cell_type": "code",
      "metadata": {
        "colab": {
          "base_uri": "https://localhost:8080/",
          "height": 80
        },
        "id": "jSvx5MjO6bjt",
        "outputId": "d5b3d94f-73d2-46dd-888b-7662d23bff36"
      },
      "source": [
        "dfCorp.loc[dfCorp['Weekly_Sales']==63297789.73790484]"
      ],
      "execution_count": null,
      "outputs": [
        {
          "output_type": "execute_result",
          "data": {
            "text/html": [
              "<div>\n",
              "<style scoped>\n",
              "    .dataframe tbody tr th:only-of-type {\n",
              "        vertical-align: middle;\n",
              "    }\n",
              "\n",
              "    .dataframe tbody tr th {\n",
              "        vertical-align: top;\n",
              "    }\n",
              "\n",
              "    .dataframe thead th {\n",
              "        text-align: right;\n",
              "    }\n",
              "</style>\n",
              "<table border=\"1\" class=\"dataframe\">\n",
              "  <thead>\n",
              "    <tr style=\"text-align: right;\">\n",
              "      <th></th>\n",
              "      <th>Date</th>\n",
              "      <th>Weekly_Sales</th>\n",
              "    </tr>\n",
              "  </thead>\n",
              "  <tbody>\n",
              "    <tr>\n",
              "      <th>46</th>\n",
              "      <td>2010-12-24</td>\n",
              "      <td>6.329779e+07</td>\n",
              "    </tr>\n",
              "  </tbody>\n",
              "</table>\n",
              "</div>"
            ],
            "text/plain": [
              "         Date  Weekly_Sales\n",
              "46 2010-12-24  6.329779e+07"
            ]
          },
          "metadata": {
            "tags": []
          },
          "execution_count": 39
        }
      ]
    },
    {
      "cell_type": "markdown",
      "metadata": {
        "id": "-ldp6cs8_Ti4"
      },
      "source": [
        "##Aggregate Data Manipulation"
      ]
    },
    {
      "cell_type": "markdown",
      "metadata": {
        "id": "CKjro58C_Hy5"
      },
      "source": [
        "##Log Manipulation:"
      ]
    },
    {
      "cell_type": "code",
      "metadata": {
        "id": "bbjGf48F60i4"
      },
      "source": [
        "dfCorp['Weekly_Sales_log']=dfCorp['Weekly_Sales'].apply(lambda x:np.log(x))"
      ],
      "execution_count": null,
      "outputs": []
    },
    {
      "cell_type": "code",
      "metadata": {
        "colab": {
          "base_uri": "https://localhost:8080/",
          "height": 351
        },
        "id": "Dc8mkRiH799f",
        "outputId": "0ebdbd91-ae7b-482c-eac2-1e7d7457a553"
      },
      "source": [
        "plt.hist(dfCorp['Weekly_Sales_log'])"
      ],
      "execution_count": null,
      "outputs": [
        {
          "output_type": "execute_result",
          "data": {
            "text/plain": [
              "(array([ 8., 24., 58., 41.,  4.,  2.,  4.,  0.,  0.,  2.]),\n",
              " array([17.42223936, 17.47635152, 17.53046368, 17.58457584, 17.638688  ,\n",
              "        17.69280016, 17.74691233, 17.80102449, 17.85513665, 17.90924881,\n",
              "        17.96336097]),\n",
              " <a list of 10 Patch objects>)"
            ]
          },
          "metadata": {
            "tags": []
          },
          "execution_count": 41
        },
        {
          "output_type": "display_data",
          "data": {
            "image/png": "[encoded data removed]",
            "text/plain": [
              "<Figure size 432x288 with 1 Axes>"
            ]
          },
          "metadata": {
            "tags": [],
            "needs_background": "light"
          }
        }
      ]
    },
    {
      "cell_type": "code",
      "metadata": {
        "id": "tmYRKKwm8eHK"
      },
      "source": [
        "def minMax(col):\n",
        "  min = dfCorp[col].min()\n",
        "  max = dfCorp[col].max()\n",
        "  return (dfCorp[col] - min) / (max - min)"
      ],
      "execution_count": null,
      "outputs": []
    },
    {
      "cell_type": "code",
      "metadata": {
        "id": "Cuu_HDDsBsA_",
        "colab": {
          "base_uri": "https://localhost:8080/"
        },
        "outputId": "0df0ff73-b2e7-4dae-8820-168ed9ce3edf"
      },
      "source": [
        "dfCorp[\"log_minMax\"] = minMax(\"Weekly_Sales_log\")"
      ],
      "execution_count": null,
      "outputs": [
        {
          "output_type": "stream",
          "text": [
            "17.42223935895342 17.963360969252093\n"
          ],
          "name": "stdout"
        }
      ]
    },
    {
      "cell_type": "code",
      "metadata": {
        "colab": {
          "base_uri": "https://localhost:8080/",
          "height": 317
        },
        "id": "YcklHjt1B7gQ",
        "outputId": "d8202809-5b68-47e4-ee34-568b7a6fb3ec"
      },
      "source": [
        "plt.hist(dfCorp['log_minMax'])"
      ],
      "execution_count": null,
      "outputs": [
        {
          "output_type": "execute_result",
          "data": {
            "text/plain": [
              "(array([ 8., 24., 58., 41.,  4.,  2.,  4.,  0.,  0.,  2.]),\n",
              " array([0. , 0.1, 0.2, 0.3, 0.4, 0.5, 0.6, 0.7, 0.8, 0.9, 1. ]),\n",
              " <a list of 10 Patch objects>)"
            ]
          },
          "metadata": {
            "tags": []
          },
          "execution_count": 50
        },
        {
          "output_type": "display_data",
          "data": {
            "image/png": "[encoded data removed]",
            "text/plain": [
              "<Figure size 432x288 with 1 Axes>"
            ]
          },
          "metadata": {
            "tags": [],
            "needs_background": "light"
          }
        }
      ]
    },
    {
      "cell_type": "markdown",
      "metadata": {
        "id": "wZJalXfB-_1e"
      },
      "source": [
        "##Min Max Manipulation"
      ]
    },
    {
      "cell_type": "code",
      "metadata": {
        "id": "bBKb-bFO8BQS"
      },
      "source": [
        "dfCorp[\"minMax_WeeklySales\"] = minMax(\"Weekly_Sales\")"
      ],
      "execution_count": null,
      "outputs": []
    },
    {
      "cell_type": "code",
      "metadata": {
        "colab": {
          "base_uri": "https://localhost:8080/",
          "height": 316
        },
        "id": "MJvGhgP38lDl",
        "outputId": "1033469a-8e71-433f-c48f-2d7fff28f71f"
      },
      "source": [
        "plt.hist(dfCorp['minMax_WeeklySales'])"
      ],
      "execution_count": null,
      "outputs": [
        {
          "output_type": "execute_result",
          "data": {
            "text/plain": [
              "(array([11., 47., 66., 10.,  3.,  2.,  2.,  0.,  0.,  2.]),\n",
              " array([0. , 0.1, 0.2, 0.3, 0.4, 0.5, 0.6, 0.7, 0.8, 0.9, 1. ]),\n",
              " <a list of 10 Patch objects>)"
            ]
          },
          "metadata": {
            "tags": []
          },
          "execution_count": 52
        },
        {
          "output_type": "display_data",
          "data": {
            "image/png": "[encoded data removed]",
            "text/plain": [
              "<Figure size 432x288 with 1 Axes>"
            ]
          },
          "metadata": {
            "tags": [],
            "needs_background": "light"
          }
        }
      ]
    },
    {
      "cell_type": "code",
      "metadata": {
        "id": "8uZqdNzB8pXl"
      },
      "source": [
        "dfCorp['minMax_log']=dfCorp['minMax_WeeklySales'].apply(lambda x:np.log(1+x))"
      ],
      "execution_count": null,
      "outputs": []
    },
    {
      "cell_type": "code",
      "metadata": {
        "colab": {
          "base_uri": "https://localhost:8080/",
          "height": 350
        },
        "id": "hq3DNf2a85S1",
        "outputId": "2daf82ec-ccf3-4b55-e2e8-2741ad3990f9"
      },
      "source": [
        "plt.hist(dfCorp['minMax_log'])"
      ],
      "execution_count": null,
      "outputs": [
        {
          "output_type": "execute_result",
          "data": {
            "text/plain": [
              "(array([ 7., 18., 55., 49.,  5.,  3.,  4.,  0.,  0.,  2.]),\n",
              " array([0.        , 0.06931472, 0.13862944, 0.20794415, 0.27725887,\n",
              "        0.34657359, 0.41588831, 0.48520303, 0.55451774, 0.62383246,\n",
              "        0.69314718]),\n",
              " <a list of 10 Patch objects>)"
            ]
          },
          "metadata": {
            "tags": []
          },
          "execution_count": 54
        },
        {
          "output_type": "display_data",
          "data": {
            "image/png": "[encoded data removed]",
            "text/plain": [
              "<Figure size 432x288 with 1 Axes>"
            ]
          },
          "metadata": {
            "tags": [],
            "needs_background": "light"
          }
        }
      ]
    },
    {
      "cell_type": "code",
      "metadata": {
        "colab": {
          "base_uri": "https://localhost:8080/",
          "height": 297
        },
        "id": "mEsyHuIE88bM",
        "outputId": "e10ef85f-ce39-445c-a3c2-4fcb16211ac1"
      },
      "source": [
        "dfCorp.describe()"
      ],
      "execution_count": null,
      "outputs": [
        {
          "output_type": "execute_result",
          "data": {
            "text/html": [
              "<div>\n",
              "<style scoped>\n",
              "    .dataframe tbody tr th:only-of-type {\n",
              "        vertical-align: middle;\n",
              "    }\n",
              "\n",
              "    .dataframe tbody tr th {\n",
              "        vertical-align: top;\n",
              "    }\n",
              "\n",
              "    .dataframe thead th {\n",
              "        text-align: right;\n",
              "    }\n",
              "</style>\n",
              "<table border=\"1\" class=\"dataframe\">\n",
              "  <thead>\n",
              "    <tr style=\"text-align: right;\">\n",
              "      <th></th>\n",
              "      <th>Weekly_Sales</th>\n",
              "      <th>Weekly_Sales_log</th>\n",
              "      <th>log_minMax</th>\n",
              "      <th>minMax_WeeklySales</th>\n",
              "      <th>minMax_log</th>\n",
              "    </tr>\n",
              "  </thead>\n",
              "  <tbody>\n",
              "    <tr>\n",
              "      <th>count</th>\n",
              "      <td>1.430000e+02</td>\n",
              "      <td>143.000000</td>\n",
              "      <td>143.000000</td>\n",
              "      <td>143.000000</td>\n",
              "      <td>143.000000</td>\n",
              "    </tr>\n",
              "    <tr>\n",
              "      <th>mean</th>\n",
              "      <td>4.306387e+07</td>\n",
              "      <td>17.575234</td>\n",
              "      <td>0.282736</td>\n",
              "      <td>0.235084</td>\n",
              "      <td>0.206136</td>\n",
              "    </tr>\n",
              "    <tr>\n",
              "      <th>std</th>\n",
              "      <td>3.532692e+06</td>\n",
              "      <td>0.075126</td>\n",
              "      <td>0.138834</td>\n",
              "      <td>0.133549</td>\n",
              "      <td>0.097126</td>\n",
              "    </tr>\n",
              "    <tr>\n",
              "      <th>min</th>\n",
              "      <td>3.684533e+07</td>\n",
              "      <td>17.422239</td>\n",
              "      <td>0.000000</td>\n",
              "      <td>0.000000</td>\n",
              "      <td>0.000000</td>\n",
              "    </tr>\n",
              "    <tr>\n",
              "      <th>25%</th>\n",
              "      <td>4.155836e+07</td>\n",
              "      <td>17.542609</td>\n",
              "      <td>0.222445</td>\n",
              "      <td>0.178170</td>\n",
              "      <td>0.163962</td>\n",
              "    </tr>\n",
              "    <tr>\n",
              "      <th>50%</th>\n",
              "      <td>4.255290e+07</td>\n",
              "      <td>17.566259</td>\n",
              "      <td>0.266150</td>\n",
              "      <td>0.215767</td>\n",
              "      <td>0.195375</td>\n",
              "    </tr>\n",
              "    <tr>\n",
              "      <th>75%</th>\n",
              "      <td>4.395299e+07</td>\n",
              "      <td>17.598631</td>\n",
              "      <td>0.325974</td>\n",
              "      <td>0.268696</td>\n",
              "      <td>0.237989</td>\n",
              "    </tr>\n",
              "    <tr>\n",
              "      <th>max</th>\n",
              "      <td>6.329779e+07</td>\n",
              "      <td>17.963361</td>\n",
              "      <td>1.000000</td>\n",
              "      <td>1.000000</td>\n",
              "      <td>0.693147</td>\n",
              "    </tr>\n",
              "  </tbody>\n",
              "</table>\n",
              "</div>"
            ],
            "text/plain": [
              "       Weekly_Sales  Weekly_Sales_log  ...  minMax_WeeklySales  minMax_log\n",
              "count  1.430000e+02        143.000000  ...          143.000000  143.000000\n",
              "mean   4.306387e+07         17.575234  ...            0.235084    0.206136\n",
              "std    3.532692e+06          0.075126  ...            0.133549    0.097126\n",
              "min    3.684533e+07         17.422239  ...            0.000000    0.000000\n",
              "25%    4.155836e+07         17.542609  ...            0.178170    0.163962\n",
              "50%    4.255290e+07         17.566259  ...            0.215767    0.195375\n",
              "75%    4.395299e+07         17.598631  ...            0.268696    0.237989\n",
              "max    6.329779e+07         17.963361  ...            1.000000    0.693147\n",
              "\n",
              "[8 rows x 5 columns]"
            ]
          },
          "metadata": {
            "tags": []
          },
          "execution_count": 55
        }
      ]
    },
    {
      "cell_type": "code",
      "metadata": {
        "id": "O3QmCN9ueZ6N"
      },
      "source": [
        "#dfCorp.to_csv('gdrive/My Drive/Colab Notebooks/TimeSeries/Walmart_Data/W_Corporate.csv')"
      ],
      "execution_count": null,
      "outputs": []
    },
    {
      "cell_type": "markdown",
      "metadata": {
        "id": "eexFtJWrNOIs"
      },
      "source": [
        "#Clustering Stores"
      ]
    },
    {
      "cell_type": "markdown",
      "metadata": {
        "id": "dBD9Y9UPNdID"
      },
      "source": [
        "##Establlishing Elbow Curve"
      ]
    },
    {
      "cell_type": "code",
      "metadata": {
        "id": "2Gj8HHdTNjV6"
      },
      "source": [
        "stores=df[['Store','Weekly_Sales']]\n",
        "stores=stores.to_numpy()\n",
        "distortions = []\n",
        "inertias = []\n",
        "mapping1 = {}\n",
        "mapping2 = {}\n",
        "K = range(1, 20)\n",
        "\n",
        "for k in K:\n",
        "\t# Building and fitting the model\n",
        "\tkmeanModel = KMeans(n_clusters=k).fit(stores)\n",
        "\n",
        "\tdistortions.append(sum(np.min(cdist(stores, kmeanModel.cluster_centers_,\n",
        "\t\t\t\t\t\t\t\t\t\t'euclidean'), axis=1)) / stores.shape[0])\n",
        "\tinertias.append(kmeanModel.inertia_)\n",
        "\n",
        "\tmapping1[k] = sum(np.min(cdist(stores, kmeanModel.cluster_centers_,\n",
        "\t\t\t\t\t\t\t\t'euclidean'), axis=1)) / stores.shape[0]\n",
        "\tmapping2[k] = kmeanModel.inertia_\n"
      ],
      "execution_count": null,
      "outputs": []
    },
    {
      "cell_type": "code",
      "metadata": {
        "colab": {
          "base_uri": "https://localhost:8080/",
          "height": 295
        },
        "id": "chfAb8vrSB13",
        "outputId": "e3399e53-9b24-480e-a415-9fd8b1d67341"
      },
      "source": [
        "plt.plot(K, distortions, 'bx-')\n",
        "plt.xlabel('Values of K')\n",
        "plt.ylabel('Distortion')\n",
        "plt.title('The Elbow Method using Distortion')\n",
        "plt.show()"
      ],
      "execution_count": null,
      "outputs": [
        {
          "output_type": "display_data",
          "data": {
            "image/png": "[encoded data removed]",
            "text/plain": [
              "<Figure size 432x288 with 1 Axes>"
            ]
          },
          "metadata": {
            "tags": [],
            "needs_background": "light"
          }
        }
      ]
    },
    {
      "cell_type": "code",
      "metadata": {
        "colab": {
          "base_uri": "https://localhost:8080/",
          "height": 295
        },
        "id": "zxbnG04JSK0m",
        "outputId": "0e34ded7-76fa-4d95-b47b-f1c746bfaba5"
      },
      "source": [
        "plt.plot(K, inertias, 'bx-')\n",
        "plt.xlabel('Values of K')\n",
        "plt.ylabel('Inertia')\n",
        "plt.title('The Elbow Method using Inertia')\n",
        "plt.show()"
      ],
      "execution_count": null,
      "outputs": [
        {
          "output_type": "display_data",
          "data": {
            "image/png": "[encoded data removed]",
            "text/plain": [
              "<Figure size 432x288 with 1 Axes>"
            ]
          },
          "metadata": {
            "tags": [],
            "needs_background": "light"
          }
        }
      ]
    },
    {
      "cell_type": "code",
      "metadata": {
        "id": "cV_eFjn4k1V8"
      },
      "source": [
        "kmeanModel = KMeans(n_clusters=3).fit(stores)\n",
        "clusters=kmeanModel.predict(stores)"
      ],
      "execution_count": null,
      "outputs": []
    },
    {
      "cell_type": "code",
      "metadata": {
        "id": "NOO7fl2MPMNF"
      },
      "source": [
        "#pickle.dump(kmeanModel,open(r'gdrive/My Drive/Colab Notebooks/TimeSeries/Walmart_Notebooks/Walmart_Store_Kluster.sav','wb'))"
      ],
      "execution_count": null,
      "outputs": []
    },
    {
      "cell_type": "markdown",
      "metadata": {
        "id": "ODASLuROMOUw"
      },
      "source": [
        "##Building Store Dataframe"
      ]
    },
    {
      "cell_type": "markdown",
      "metadata": {
        "id": "XvHjZnbiZ1qe"
      },
      "source": [
        "#Bin0"
      ]
    },
    {
      "cell_type": "code",
      "metadata": {
        "id": "r83tSTR6H8QU"
      },
      "source": [
        "df['Store_Bins']=clusters"
      ],
      "execution_count": null,
      "outputs": []
    },
    {
      "cell_type": "code",
      "metadata": {
        "id": "FWnGv4oJJ0Un"
      },
      "source": [
        "bins=df.loc[df['Store_Bins']==0] "
      ],
      "execution_count": null,
      "outputs": []
    },
    {
      "cell_type": "code",
      "metadata": {
        "id": "1oaLrzYdUubR"
      },
      "source": [
        "dates=set(bins['Date'])\n",
        "dates=sorted(dates)"
      ],
      "execution_count": null,
      "outputs": []
    },
    {
      "cell_type": "code",
      "metadata": {
        "id": "lY3j0jSsUx0L"
      },
      "source": [
        "d = {'Date':dates, 'Weekly_Sales':np.empty([len(dates)])}\n",
        "bin0 = pd.DataFrame(data=d)"
      ],
      "execution_count": null,
      "outputs": []
    },
    {
      "cell_type": "code",
      "metadata": {
        "id": "k_NpItalVGNj"
      },
      "source": [
        "sales=[]\n",
        "for date in dates:\n",
        "  '''Gather the weekly reportings of a given a week'''\n",
        "  week=bins.loc[bins['Date']==date]\n",
        "  i=0\n",
        "  sale=0\n",
        "  while(i<len(week)):\n",
        "    row=week.iloc[i]\n",
        "    #key 5 retrieves Weekly Sales value\n",
        "    sale+=row.get(key=5)\n",
        "    i+=1\n",
        "  sales.append(sale)"
      ],
      "execution_count": null,
      "outputs": []
    },
    {
      "cell_type": "code",
      "metadata": {
        "id": "rnpJnF3RWja-"
      },
      "source": [
        "i=0\n",
        "for sale in sales:\n",
        "  bin0.at[i,'Weekly_Sales']=sale\n",
        "  i+=1"
      ],
      "execution_count": null,
      "outputs": []
    },
    {
      "cell_type": "code",
      "metadata": {
        "id": "NVSfCgxoPNdO"
      },
      "source": [
        "def minMax(df,col):\n",
        "  min = df[col].min()\n",
        "  max = df[col].max()\n",
        "  return (df[col] - min) / (max - min)"
      ],
      "execution_count": null,
      "outputs": []
    },
    {
      "cell_type": "code",
      "metadata": {
        "id": "e53iSBS5PT6M"
      },
      "source": [
        "bin0['Weekly_Sales_log']=bin0['Weekly_Sales'].apply(lambda x:np.log(x))"
      ],
      "execution_count": null,
      "outputs": []
    },
    {
      "cell_type": "code",
      "metadata": {
        "id": "zwfnSiE_N_IZ"
      },
      "source": [
        "bin0[\"log_minMax\"] = minMax(df=bin0,col=\"Weekly_Sales_log\")"
      ],
      "execution_count": null,
      "outputs": []
    },
    {
      "cell_type": "code",
      "metadata": {
        "colab": {
          "base_uri": "https://localhost:8080/"
        },
        "id": "PB-xH2FdP2lq",
        "outputId": "f2ff38af-1958-4094-e736-98c9ada6abcd"
      },
      "source": [
        "bin0['log_minMax']"
      ],
      "execution_count": null,
      "outputs": [
        {
          "output_type": "execute_result",
          "data": {
            "text/plain": [
              "0      0.838670\n",
              "1      0.773612\n",
              "2      0.855139\n",
              "3      0.880376\n",
              "4      0.871977\n",
              "         ...   \n",
              "138    0.927942\n",
              "139    0.813311\n",
              "140    0.816071\n",
              "141    0.878203\n",
              "142    0.814263\n",
              "Name: log_minMax, Length: 143, dtype: float64"
            ]
          },
          "metadata": {
            "tags": []
          },
          "execution_count": 71
        }
      ]
    },
    {
      "cell_type": "code",
      "metadata": {
        "id": "rKFLC6IPQG4Q"
      },
      "source": [
        "#bin0.to_csv('gdrive/My Drive/Colab Notebooks/TimeSeries/Walmart_Data/W_Store_Bin0.csv')"
      ],
      "execution_count": null,
      "outputs": []
    },
    {
      "cell_type": "markdown",
      "metadata": {
        "id": "it97hzV9aSZC"
      },
      "source": [
        "#Bin1"
      ]
    },
    {
      "cell_type": "code",
      "metadata": {
        "id": "5ziLuKaRabPZ"
      },
      "source": [
        "bins=df.loc[df['Store_Bins']==1] "
      ],
      "execution_count": null,
      "outputs": []
    },
    {
      "cell_type": "code",
      "metadata": {
        "id": "Pq7eH-RwaBAs"
      },
      "source": [
        "bin1 = pd.DataFrame(data=d)"
      ],
      "execution_count": null,
      "outputs": []
    },
    {
      "cell_type": "code",
      "metadata": {
        "id": "DZMej7Sca4Gi"
      },
      "source": [
        "sales=[]\n",
        "for date in dates:\n",
        "  '''Gather the weekly reportings of a given a week'''\n",
        "  week=bins.loc[bins['Date']==date]\n",
        "  i=0\n",
        "  sale=0\n",
        "  while(i<len(week)):\n",
        "    row=week.iloc[i]\n",
        "    #key 5 retrieves Weekly Sales value\n",
        "    sale+=row.get(key=5)\n",
        "    i+=1\n",
        "  sales.append(sale)"
      ],
      "execution_count": null,
      "outputs": []
    },
    {
      "cell_type": "code",
      "metadata": {
        "id": "EQHJKFNUa-BH"
      },
      "source": [
        "i=0\n",
        "for sale in sales:\n",
        "  bin1.at[i,'Weekly_Sales']=sale\n",
        "  i+=1"
      ],
      "execution_count": null,
      "outputs": []
    },
    {
      "cell_type": "code",
      "metadata": {
        "id": "jtstLWoMbB6U"
      },
      "source": [
        "bin1['Weekly_Sales_log']=bin1['Weekly_Sales'].apply(lambda x:np.log(x))"
      ],
      "execution_count": null,
      "outputs": []
    },
    {
      "cell_type": "code",
      "metadata": {
        "id": "SEo1f-hEbG6D"
      },
      "source": [
        "bin1[\"log_minMax\"] = minMax(bin1,\"Weekly_Sales_log\")"
      ],
      "execution_count": null,
      "outputs": []
    },
    {
      "cell_type": "code",
      "metadata": {
        "colab": {
          "base_uri": "https://localhost:8080/"
        },
        "id": "22ntstGObQRa",
        "outputId": "bf884d61-3844-43ac-8268-7b7c39bb9002"
      },
      "source": [
        "bin1['log_minMax']"
      ],
      "execution_count": null,
      "outputs": [
        {
          "output_type": "execute_result",
          "data": {
            "text/plain": [
              "0      0.357142\n",
              "1      0.272825\n",
              "2      0.294474\n",
              "3      0.149886\n",
              "4      0.271201\n",
              "         ...   \n",
              "138    0.203389\n",
              "139    0.314711\n",
              "140    0.241241\n",
              "141    0.206275\n",
              "142    0.237161\n",
              "Name: log_minMax, Length: 143, dtype: float64"
            ]
          },
          "metadata": {
            "tags": []
          },
          "execution_count": 79
        }
      ]
    },
    {
      "cell_type": "code",
      "metadata": {
        "id": "SCEssMxGb5va"
      },
      "source": [
        "#bin1.to_csv('gdrive/My Drive/Colab Notebooks/TimeSeries/Walmart_Data/W_Store_Bin1.csv')"
      ],
      "execution_count": null,
      "outputs": []
    },
    {
      "cell_type": "markdown",
      "metadata": {
        "id": "OsDlqxFwq9rY"
      },
      "source": [
        "#Bin2"
      ]
    },
    {
      "cell_type": "code",
      "metadata": {
        "id": "op-6on22q8y2"
      },
      "source": [
        "bins=df.loc[df['Store_Bins']==2] "
      ],
      "execution_count": null,
      "outputs": []
    },
    {
      "cell_type": "code",
      "metadata": {
        "id": "9gyUZMWdrWRg"
      },
      "source": [
        "bin2 = pd.DataFrame(data=d)"
      ],
      "execution_count": null,
      "outputs": []
    },
    {
      "cell_type": "code",
      "metadata": {
        "id": "sBocabGSrfNy"
      },
      "source": [
        "sales=[]\n",
        "for date in dates:\n",
        "  '''Gather the weekly reportings of a given a week'''\n",
        "  week=bins.loc[bins['Date']==date]\n",
        "  i=0\n",
        "  sale=0\n",
        "  while(i<len(week)):\n",
        "    row=week.iloc[i]\n",
        "    #key 5 retrieves Weekly Sales value\n",
        "    sale+=row.get(key=5)\n",
        "    i+=1\n",
        "  sales.append(sale)"
      ],
      "execution_count": null,
      "outputs": []
    },
    {
      "cell_type": "code",
      "metadata": {
        "id": "t0XAJoLfrj4L"
      },
      "source": [
        "i=0\n",
        "for sale in sales:\n",
        "  bin2.at[i,'Weekly_Sales']=sale\n",
        "  i+=1"
      ],
      "execution_count": null,
      "outputs": []
    },
    {
      "cell_type": "code",
      "metadata": {
        "id": "10yATRSzrvYM"
      },
      "source": [
        "bin2['Weekly_Sales_log']=bin2['Weekly_Sales'].apply(lambda x:np.log(x))"
      ],
      "execution_count": null,
      "outputs": []
    },
    {
      "cell_type": "code",
      "metadata": {
        "id": "NU5Ej48yr4k3"
      },
      "source": [
        "bin2[\"log_minMax\"] = minMax(bin2,\"Weekly_Sales_log\")"
      ],
      "execution_count": null,
      "outputs": []
    },
    {
      "cell_type": "code",
      "metadata": {
        "colab": {
          "base_uri": "https://localhost:8080/"
        },
        "id": "18Yv4k_cr_lv",
        "outputId": "03a9e25e-159b-420a-eb49-05d00aa19f4b"
      },
      "source": [
        "bin2['log_minMax']"
      ],
      "execution_count": null,
      "outputs": [
        {
          "output_type": "execute_result",
          "data": {
            "text/plain": [
              "0      0.395512\n",
              "1      0.657567\n",
              "2      0.577380\n",
              "3      0.389714\n",
              "4      0.406890\n",
              "         ...   \n",
              "138    0.271910\n",
              "139    0.422009\n",
              "140    0.491605\n",
              "141    0.443585\n",
              "142    0.499497\n",
              "Name: log_minMax, Length: 143, dtype: float64"
            ]
          },
          "metadata": {
            "tags": []
          },
          "execution_count": 87
        }
      ]
    },
    {
      "cell_type": "code",
      "metadata": {
        "id": "TcciofZKsDzj"
      },
      "source": [
        "#bin2.to_csv('gdrive/My Drive/Colab Notebooks/TimeSeries/Walmart_Data/W_Store_Bin2.csv')"
      ],
      "execution_count": null,
      "outputs": []
    }
  ]
}