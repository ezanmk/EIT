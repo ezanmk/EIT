{
  "nbformat": 4,
  "nbformat_minor": 0,
  "metadata": {
    "colab": {
      "name": "Wally_World_Stores1_Prophet.ipynb",
      "provenance": [],
      "authorship_tag": "ABX9TyMP+uO/J96ZYXjFmSHehqXF"
    },
    "kernelspec": {
      "name": "python3",
      "display_name": "Python 3"
    },
    "language_info": {
      "name": "python"
    }
  },
  "cells": [
    {
      "cell_type": "markdown",
      "source": [
        "Developing Prophet model at level 1"
      ],
      "metadata": {
        "id": "qx-roSGugerD"
      }
    },
    {
      "cell_type": "code",
      "metadata": {
        "colab": {
          "base_uri": "https://localhost:8080/"
        },
        "id": "7PfqpRVVhrsE",
        "outputId": "2f42426a-5ce4-47d2-81bb-0579cd5970c4"
      },
      "source": [
        "import numpy as np\n",
        "import pandas as pd\n",
        "import matplotlib.pyplot as plt\n",
        "import pickle\n",
        "\n",
        "from math import floor\n",
        "from fbprophet import Prophet\n",
        "\n",
        "import os \n",
        "\n",
        "from google.colab import drive\n",
        "drive.mount('/content/gdrive')\n",
        "\n",
        "np.random.seed(9001)\n",
        "#WHAT!? 9000!?!?"
      ],
      "execution_count": null,
      "outputs": [
        {
          "output_type": "stream",
          "text": [
            "Mounted at /content/gdrive\n"
          ],
          "name": "stdout"
        }
      ]
    },
    {
      "cell_type": "markdown",
      "metadata": {
        "id": "qwGWfeKwIdwE"
      },
      "source": [
        "#Load Data"
      ]
    },
    {
      "cell_type": "code",
      "metadata": {
        "colab": {
          "base_uri": "https://localhost:8080/",
          "height": 297
        },
        "id": "YTrTlg5JjtEK",
        "outputId": "a7ced319-bfc7-4ae9-eff6-0aa920da27bf"
      },
      "source": [
        "df=pd.read_csv('gdrive/My Drive/Colab Notebooks/TimeSeries/Walmart_Data/W_Store_Bin1.csv')\n",
        "df=df.drop(columns=['Unnamed: 0','Weekly_Sales','Weekly_Sales_log'])\n",
        "df.describe()"
      ],
      "execution_count": null,
      "outputs": [
        {
          "output_type": "execute_result",
          "data": {
            "text/html": [
              "<div>\n",
              "<style scoped>\n",
              "    .dataframe tbody tr th:only-of-type {\n",
              "        vertical-align: middle;\n",
              "    }\n",
              "\n",
              "    .dataframe tbody tr th {\n",
              "        vertical-align: top;\n",
              "    }\n",
              "\n",
              "    .dataframe thead th {\n",
              "        text-align: right;\n",
              "    }\n",
              "</style>\n",
              "<table border=\"1\" class=\"dataframe\">\n",
              "  <thead>\n",
              "    <tr style=\"text-align: right;\">\n",
              "      <th></th>\n",
              "      <th>log_minMax</th>\n",
              "    </tr>\n",
              "  </thead>\n",
              "  <tbody>\n",
              "    <tr>\n",
              "      <th>count</th>\n",
              "      <td>143.000000</td>\n",
              "    </tr>\n",
              "    <tr>\n",
              "      <th>mean</th>\n",
              "      <td>0.280161</td>\n",
              "    </tr>\n",
              "    <tr>\n",
              "      <th>std</th>\n",
              "      <td>0.142156</td>\n",
              "    </tr>\n",
              "    <tr>\n",
              "      <th>min</th>\n",
              "      <td>0.000000</td>\n",
              "    </tr>\n",
              "    <tr>\n",
              "      <th>25%</th>\n",
              "      <td>0.202600</td>\n",
              "    </tr>\n",
              "    <tr>\n",
              "      <th>50%</th>\n",
              "      <td>0.255249</td>\n",
              "    </tr>\n",
              "    <tr>\n",
              "      <th>75%</th>\n",
              "      <td>0.322615</td>\n",
              "    </tr>\n",
              "    <tr>\n",
              "      <th>max</th>\n",
              "      <td>1.000000</td>\n",
              "    </tr>\n",
              "  </tbody>\n",
              "</table>\n",
              "</div>"
            ],
            "text/plain": [
              "       log_minMax\n",
              "count  143.000000\n",
              "mean     0.280161\n",
              "std      0.142156\n",
              "min      0.000000\n",
              "25%      0.202600\n",
              "50%      0.255249\n",
              "75%      0.322615\n",
              "max      1.000000"
            ]
          },
          "metadata": {
            "tags": []
          },
          "execution_count": 2
        }
      ]
    },
    {
      "cell_type": "code",
      "metadata": {
        "colab": {
          "base_uri": "https://localhost:8080/",
          "height": 265
        },
        "id": "7kLaTeRCmc2N",
        "outputId": "7852f033-0009-448c-abcc-1711fe4f4fcb"
      },
      "source": [
        "df.plot()\n",
        "plt.show()"
      ],
      "execution_count": null,
      "outputs": [
        {
          "output_type": "display_data",
          "data": {
            "image/png": "[encoded data removed]",
            "text/plain": [
              "<Figure size 432x288 with 1 Axes>"
            ]
          },
          "metadata": {
            "tags": [],
            "needs_background": "light"
          }
        }
      ]
    },
    {
      "cell_type": "markdown",
      "metadata": {
        "id": "x-2we8Xkzcz0"
      },
      "source": [
        "#Model"
      ]
    },
    {
      "cell_type": "markdown",
      "metadata": {
        "id": "pcdbuzJVp-n2"
      },
      "source": [
        "##Model Prep"
      ]
    },
    {
      "cell_type": "code",
      "metadata": {
        "id": "iKIPVpEfOGLp"
      },
      "source": [
        "#Prophet demands columns be designated as ds and y\n",
        "df=df.rename(columns={'Date':'ds','log_minMax':'y'})"
      ],
      "execution_count": null,
      "outputs": []
    },
    {
      "cell_type": "markdown",
      "metadata": {
        "id": "LtQALJHeyeP7"
      },
      "source": [
        "###Train, Validation, And Test Split"
      ]
    },
    {
      "cell_type": "code",
      "metadata": {
        "id": "O6XdrKZnVYpa"
      },
      "source": [
        "trainInd=floor(len(df)*.8)\n",
        "valInd=floor(len(df)*.9)\n",
        "train=df.loc[:trainInd,:]\n",
        "val=df['ds'][trainInd:valInd]\n",
        "val=val.to_frame()\n",
        "test=df['ds'][valInd:]\n",
        "test=test.to_frame()"
      ],
      "execution_count": null,
      "outputs": []
    },
    {
      "cell_type": "markdown",
      "metadata": {
        "id": "7PuMyvCxYDPW"
      },
      "source": [
        "##Model Creation And Validation"
      ]
    },
    {
      "cell_type": "code",
      "metadata": {
        "id": "KcYBElQNwTgp",
        "colab": {
          "base_uri": "https://localhost:8080/"
        },
        "outputId": "71d9b6a6-7a65-4736-a28b-0cf6e6a1e887"
      },
      "source": [
        "model = Prophet()\n",
        "model.fit(train)"
      ],
      "execution_count": null,
      "outputs": [
        {
          "output_type": "stream",
          "text": [
            "INFO:numexpr.utils:NumExpr defaulting to 2 threads.\n",
            "INFO:fbprophet:Disabling weekly seasonality. Run prophet with weekly_seasonality=True to override this.\n",
            "INFO:fbprophet:Disabling daily seasonality. Run prophet with daily_seasonality=True to override this.\n"
          ],
          "name": "stderr"
        },
        {
          "output_type": "execute_result",
          "data": {
            "text/plain": [
              "<fbprophet.forecaster.Prophet at 0x7fb97621bad0>"
            ]
          },
          "metadata": {
            "tags": []
          },
          "execution_count": 6
        }
      ]
    },
    {
      "cell_type": "code",
      "metadata": {
        "id": "z-KwrdZDX_cq"
      },
      "source": [
        "forecast=model.predict(val)"
      ],
      "execution_count": null,
      "outputs": []
    },
    {
      "cell_type": "code",
      "metadata": {
        "colab": {
          "base_uri": "https://localhost:8080/"
        },
        "id": "XrtH6-Y2N23M",
        "outputId": "fee0b1a0-cbd5-4414-fada-40eb7207245c"
      },
      "source": [
        "print(forecast[['ds', 'yhat', 'yhat_lower', 'yhat_upper']].head())"
      ],
      "execution_count": null,
      "outputs": [
        {
          "output_type": "stream",
          "text": [
            "          ds      yhat  yhat_lower  yhat_upper\n",
            "0 2012-04-13  0.331352    0.218489    0.451449\n",
            "1 2012-04-20  0.314244    0.188135    0.438219\n",
            "2 2012-04-27  0.268124    0.146059    0.380154\n",
            "3 2012-05-04  0.235180    0.120985    0.351855\n",
            "4 2012-05-11  0.244872    0.132232    0.366886\n"
          ],
          "name": "stdout"
        }
      ]
    },
    {
      "cell_type": "code",
      "metadata": {
        "colab": {
          "base_uri": "https://localhost:8080/",
          "height": 441
        },
        "id": "mpVhrrJVUwmf",
        "outputId": "e0b601c1-cd46-400a-e1a7-60b2acd32f05"
      },
      "source": [
        "model.plot(forecast)\n",
        "plt.show()"
      ],
      "execution_count": null,
      "outputs": [
        {
          "output_type": "display_data",
          "data": {
            "image/png": "[encoded data removed]",
            "text/plain": [
              "<Figure size 720x432 with 1 Axes>"
            ]
          },
          "metadata": {
            "tags": []
          }
        }
      ]
    },
    {
      "cell_type": "code",
      "metadata": {
        "colab": {
          "base_uri": "https://localhost:8080/",
          "height": 317
        },
        "id": "NuYpHpYlbgoy",
        "outputId": "c62e50be-9603-449f-c1c2-3bc0273fcc04"
      },
      "source": [
        "forecast.describe()"
      ],
      "execution_count": null,
      "outputs": [
        {
          "output_type": "execute_result",
          "data": {
            "text/html": [
              "<div>\n",
              "<style scoped>\n",
              "    .dataframe tbody tr th:only-of-type {\n",
              "        vertical-align: middle;\n",
              "    }\n",
              "\n",
              "    .dataframe tbody tr th {\n",
              "        vertical-align: top;\n",
              "    }\n",
              "\n",
              "    .dataframe thead th {\n",
              "        text-align: right;\n",
              "    }\n",
              "</style>\n",
              "<table border=\"1\" class=\"dataframe\">\n",
              "  <thead>\n",
              "    <tr style=\"text-align: right;\">\n",
              "      <th></th>\n",
              "      <th>trend</th>\n",
              "      <th>yhat_lower</th>\n",
              "      <th>yhat_upper</th>\n",
              "      <th>trend_lower</th>\n",
              "      <th>trend_upper</th>\n",
              "      <th>additive_terms</th>\n",
              "      <th>additive_terms_lower</th>\n",
              "      <th>additive_terms_upper</th>\n",
              "      <th>yearly</th>\n",
              "      <th>yearly_lower</th>\n",
              "      <th>yearly_upper</th>\n",
              "      <th>multiplicative_terms</th>\n",
              "      <th>multiplicative_terms_lower</th>\n",
              "      <th>multiplicative_terms_upper</th>\n",
              "      <th>yhat</th>\n",
              "    </tr>\n",
              "  </thead>\n",
              "  <tbody>\n",
              "    <tr>\n",
              "      <th>count</th>\n",
              "      <td>14.000000</td>\n",
              "      <td>14.000000</td>\n",
              "      <td>14.000000</td>\n",
              "      <td>14.000000</td>\n",
              "      <td>14.000000</td>\n",
              "      <td>14.000000</td>\n",
              "      <td>14.000000</td>\n",
              "      <td>14.000000</td>\n",
              "      <td>14.000000</td>\n",
              "      <td>14.000000</td>\n",
              "      <td>14.000000</td>\n",
              "      <td>14.0</td>\n",
              "      <td>14.0</td>\n",
              "      <td>14.0</td>\n",
              "      <td>14.000000</td>\n",
              "    </tr>\n",
              "    <tr>\n",
              "      <th>mean</th>\n",
              "      <td>0.305513</td>\n",
              "      <td>0.204811</td>\n",
              "      <td>0.439850</td>\n",
              "      <td>0.305469</td>\n",
              "      <td>0.305552</td>\n",
              "      <td>0.016960</td>\n",
              "      <td>0.016960</td>\n",
              "      <td>0.016960</td>\n",
              "      <td>0.016960</td>\n",
              "      <td>0.016960</td>\n",
              "      <td>0.016960</td>\n",
              "      <td>0.0</td>\n",
              "      <td>0.0</td>\n",
              "      <td>0.0</td>\n",
              "      <td>0.322473</td>\n",
              "    </tr>\n",
              "    <tr>\n",
              "      <th>std</th>\n",
              "      <td>0.001831</td>\n",
              "      <td>0.048034</td>\n",
              "      <td>0.047833</td>\n",
              "      <td>0.001794</td>\n",
              "      <td>0.001867</td>\n",
              "      <td>0.046789</td>\n",
              "      <td>0.046789</td>\n",
              "      <td>0.046789</td>\n",
              "      <td>0.046789</td>\n",
              "      <td>0.046789</td>\n",
              "      <td>0.046789</td>\n",
              "      <td>0.0</td>\n",
              "      <td>0.0</td>\n",
              "      <td>0.0</td>\n",
              "      <td>0.047718</td>\n",
              "    </tr>\n",
              "    <tr>\n",
              "      <th>min</th>\n",
              "      <td>0.302667</td>\n",
              "      <td>0.120985</td>\n",
              "      <td>0.351855</td>\n",
              "      <td>0.302667</td>\n",
              "      <td>0.302667</td>\n",
              "      <td>-0.068800</td>\n",
              "      <td>-0.068800</td>\n",
              "      <td>-0.068800</td>\n",
              "      <td>-0.068800</td>\n",
              "      <td>-0.068800</td>\n",
              "      <td>-0.068800</td>\n",
              "      <td>0.0</td>\n",
              "      <td>0.0</td>\n",
              "      <td>0.0</td>\n",
              "      <td>0.235180</td>\n",
              "    </tr>\n",
              "    <tr>\n",
              "      <th>25%</th>\n",
              "      <td>0.304090</td>\n",
              "      <td>0.174104</td>\n",
              "      <td>0.407918</td>\n",
              "      <td>0.304080</td>\n",
              "      <td>0.304098</td>\n",
              "      <td>-0.011606</td>\n",
              "      <td>-0.011606</td>\n",
              "      <td>-0.011606</td>\n",
              "      <td>-0.011606</td>\n",
              "      <td>-0.011606</td>\n",
              "      <td>-0.011606</td>\n",
              "      <td>0.0</td>\n",
              "      <td>0.0</td>\n",
              "      <td>0.0</td>\n",
              "      <td>0.294125</td>\n",
              "    </tr>\n",
              "    <tr>\n",
              "      <th>50%</th>\n",
              "      <td>0.305513</td>\n",
              "      <td>0.220885</td>\n",
              "      <td>0.451205</td>\n",
              "      <td>0.305475</td>\n",
              "      <td>0.305542</td>\n",
              "      <td>0.030206</td>\n",
              "      <td>0.030206</td>\n",
              "      <td>0.030206</td>\n",
              "      <td>0.030206</td>\n",
              "      <td>0.030206</td>\n",
              "      <td>0.030206</td>\n",
              "      <td>0.0</td>\n",
              "      <td>0.0</td>\n",
              "      <td>0.0</td>\n",
              "      <td>0.334187</td>\n",
              "    </tr>\n",
              "    <tr>\n",
              "      <th>75%</th>\n",
              "      <td>0.306935</td>\n",
              "      <td>0.246956</td>\n",
              "      <td>0.478003</td>\n",
              "      <td>0.306864</td>\n",
              "      <td>0.307000</td>\n",
              "      <td>0.058111</td>\n",
              "      <td>0.058111</td>\n",
              "      <td>0.058111</td>\n",
              "      <td>0.058111</td>\n",
              "      <td>0.058111</td>\n",
              "      <td>0.058111</td>\n",
              "      <td>0.0</td>\n",
              "      <td>0.0</td>\n",
              "      <td>0.0</td>\n",
              "      <td>0.364280</td>\n",
              "    </tr>\n",
              "    <tr>\n",
              "      <th>max</th>\n",
              "      <td>0.308358</td>\n",
              "      <td>0.265405</td>\n",
              "      <td>0.496111</td>\n",
              "      <td>0.308250</td>\n",
              "      <td>0.308466</td>\n",
              "      <td>0.067796</td>\n",
              "      <td>0.067796</td>\n",
              "      <td>0.067796</td>\n",
              "      <td>0.067796</td>\n",
              "      <td>0.067796</td>\n",
              "      <td>0.067796</td>\n",
              "      <td>0.0</td>\n",
              "      <td>0.0</td>\n",
              "      <td>0.0</td>\n",
              "      <td>0.374248</td>\n",
              "    </tr>\n",
              "  </tbody>\n",
              "</table>\n",
              "</div>"
            ],
            "text/plain": [
              "           trend  yhat_lower  ...  multiplicative_terms_upper       yhat\n",
              "count  14.000000   14.000000  ...                        14.0  14.000000\n",
              "mean    0.305513    0.204811  ...                         0.0   0.322473\n",
              "std     0.001831    0.048034  ...                         0.0   0.047718\n",
              "min     0.302667    0.120985  ...                         0.0   0.235180\n",
              "25%     0.304090    0.174104  ...                         0.0   0.294125\n",
              "50%     0.305513    0.220885  ...                         0.0   0.334187\n",
              "75%     0.306935    0.246956  ...                         0.0   0.364280\n",
              "max     0.308358    0.265405  ...                         0.0   0.374248\n",
              "\n",
              "[8 rows x 15 columns]"
            ]
          },
          "metadata": {
            "tags": []
          },
          "execution_count": 10
        }
      ]
    },
    {
      "cell_type": "code",
      "metadata": {
        "id": "LSECa6e8fk5i"
      },
      "source": [
        "val_y=df['y'][trainInd:valInd]\n",
        "y_hat=forecast.yhat"
      ],
      "execution_count": null,
      "outputs": []
    },
    {
      "cell_type": "code",
      "metadata": {
        "id": "MsdfKxwyhwUg"
      },
      "source": [
        "val_y=val_y.to_numpy()\n",
        "y_hat=y_hat.to_numpy()"
      ],
      "execution_count": null,
      "outputs": []
    },
    {
      "cell_type": "code",
      "metadata": {
        "colab": {
          "base_uri": "https://localhost:8080/"
        },
        "id": "O9t4s0fShAzv",
        "outputId": "1f591e86-ea79-4ddc-fb03-30138780cdd7"
      },
      "source": [
        "rss=((val_y-y_hat)**2).sum()\n",
        "mse=np.mean((val_y-y_hat)**2)\n",
        "print(\"Final rmse value is =\",np.sqrt(np.mean((val_y-y_hat)**2)))"
      ],
      "execution_count": null,
      "outputs": [
        {
          "output_type": "stream",
          "text": [
            "Final rmse value is = 0.061195345538576106\n"
          ],
          "name": "stdout"
        }
      ]
    },
    {
      "cell_type": "markdown",
      "metadata": {
        "id": "7u3pgeTviVIY"
      },
      "source": [
        "##Run Model Against Test Set"
      ]
    },
    {
      "cell_type": "code",
      "metadata": {
        "id": "84c6VMYGhDNn"
      },
      "source": [
        "forecast=model.predict(test)"
      ],
      "execution_count": null,
      "outputs": []
    },
    {
      "cell_type": "code",
      "metadata": {
        "colab": {
          "base_uri": "https://localhost:8080/"
        },
        "id": "phd4IiJci6aa",
        "outputId": "d8e54b33-2cb6-4199-aaef-92a3e349c4a7"
      },
      "source": [
        "print(forecast[['ds', 'yhat', 'yhat_lower', 'yhat_upper']].head())"
      ],
      "execution_count": null,
      "outputs": [
        {
          "output_type": "stream",
          "text": [
            "          ds      yhat  yhat_lower  yhat_upper\n",
            "0 2012-07-20  0.276421    0.152200    0.390734\n",
            "1 2012-07-27  0.254224    0.134824    0.361894\n",
            "2 2012-08-03  0.254186    0.135914    0.377042\n",
            "3 2012-08-10  0.281092    0.164151    0.387635\n",
            "4 2012-08-17  0.321720    0.197733    0.443691\n"
          ],
          "name": "stdout"
        }
      ]
    },
    {
      "cell_type": "code",
      "metadata": {
        "colab": {
          "base_uri": "https://localhost:8080/",
          "height": 441
        },
        "id": "wMQhjS1ci7S-",
        "outputId": "9e5fb2fd-a5ac-4c99-d213-a53ba3392975"
      },
      "source": [
        "model.plot(forecast)\n",
        "plt.show()"
      ],
      "execution_count": null,
      "outputs": [
        {
          "output_type": "display_data",
          "data": {
            "image/png": "[encoded data removed]",
            "text/plain": [
              "<Figure size 720x432 with 1 Axes>"
            ]
          },
          "metadata": {
            "tags": []
          }
        }
      ]
    },
    {
      "cell_type": "code",
      "metadata": {
        "colab": {
          "base_uri": "https://localhost:8080/",
          "height": 317
        },
        "id": "AAi5KZ5ti-6X",
        "outputId": "2779a3fd-237c-4f31-d2c0-05047196eeb6"
      },
      "source": [
        "forecast.describe()"
      ],
      "execution_count": null,
      "outputs": [
        {
          "output_type": "execute_result",
          "data": {
            "text/html": [
              "<div>\n",
              "<style scoped>\n",
              "    .dataframe tbody tr th:only-of-type {\n",
              "        vertical-align: middle;\n",
              "    }\n",
              "\n",
              "    .dataframe tbody tr th {\n",
              "        vertical-align: top;\n",
              "    }\n",
              "\n",
              "    .dataframe thead th {\n",
              "        text-align: right;\n",
              "    }\n",
              "</style>\n",
              "<table border=\"1\" class=\"dataframe\">\n",
              "  <thead>\n",
              "    <tr style=\"text-align: right;\">\n",
              "      <th></th>\n",
              "      <th>trend</th>\n",
              "      <th>yhat_lower</th>\n",
              "      <th>yhat_upper</th>\n",
              "      <th>trend_lower</th>\n",
              "      <th>trend_upper</th>\n",
              "      <th>additive_terms</th>\n",
              "      <th>additive_terms_lower</th>\n",
              "      <th>additive_terms_upper</th>\n",
              "      <th>yearly</th>\n",
              "      <th>yearly_lower</th>\n",
              "      <th>yearly_upper</th>\n",
              "      <th>multiplicative_terms</th>\n",
              "      <th>multiplicative_terms_lower</th>\n",
              "      <th>multiplicative_terms_upper</th>\n",
              "      <th>yhat</th>\n",
              "    </tr>\n",
              "  </thead>\n",
              "  <tbody>\n",
              "    <tr>\n",
              "      <th>count</th>\n",
              "      <td>15.000000</td>\n",
              "      <td>15.000000</td>\n",
              "      <td>15.000000</td>\n",
              "      <td>15.000000</td>\n",
              "      <td>15.000000</td>\n",
              "      <td>15.000000</td>\n",
              "      <td>15.000000</td>\n",
              "      <td>15.000000</td>\n",
              "      <td>15.000000</td>\n",
              "      <td>15.000000</td>\n",
              "      <td>15.000000</td>\n",
              "      <td>15.0</td>\n",
              "      <td>15.0</td>\n",
              "      <td>15.0</td>\n",
              "      <td>15.000000</td>\n",
              "    </tr>\n",
              "    <tr>\n",
              "      <th>mean</th>\n",
              "      <td>0.311860</td>\n",
              "      <td>0.129687</td>\n",
              "      <td>0.366117</td>\n",
              "      <td>0.311653</td>\n",
              "      <td>0.312107</td>\n",
              "      <td>-0.063534</td>\n",
              "      <td>-0.063534</td>\n",
              "      <td>-0.063534</td>\n",
              "      <td>-0.063534</td>\n",
              "      <td>-0.063534</td>\n",
              "      <td>-0.063534</td>\n",
              "      <td>0.0</td>\n",
              "      <td>0.0</td>\n",
              "      <td>0.0</td>\n",
              "      <td>0.248326</td>\n",
              "    </tr>\n",
              "    <tr>\n",
              "      <th>std</th>\n",
              "      <td>0.001958</td>\n",
              "      <td>0.053462</td>\n",
              "      <td>0.052424</td>\n",
              "      <td>0.001885</td>\n",
              "      <td>0.002042</td>\n",
              "      <td>0.055943</td>\n",
              "      <td>0.055943</td>\n",
              "      <td>0.055943</td>\n",
              "      <td>0.055943</td>\n",
              "      <td>0.055943</td>\n",
              "      <td>0.055943</td>\n",
              "      <td>0.0</td>\n",
              "      <td>0.0</td>\n",
              "      <td>0.0</td>\n",
              "      <td>0.054789</td>\n",
              "    </tr>\n",
              "    <tr>\n",
              "      <th>min</th>\n",
              "      <td>0.308796</td>\n",
              "      <td>0.055581</td>\n",
              "      <td>0.292080</td>\n",
              "      <td>0.308695</td>\n",
              "      <td>0.308920</td>\n",
              "      <td>-0.145650</td>\n",
              "      <td>-0.145650</td>\n",
              "      <td>-0.145650</td>\n",
              "      <td>-0.145650</td>\n",
              "      <td>-0.145650</td>\n",
              "      <td>-0.145650</td>\n",
              "      <td>0.0</td>\n",
              "      <td>0.0</td>\n",
              "      <td>0.0</td>\n",
              "      <td>0.167086</td>\n",
              "    </tr>\n",
              "    <tr>\n",
              "      <th>25%</th>\n",
              "      <td>0.310328</td>\n",
              "      <td>0.084462</td>\n",
              "      <td>0.326365</td>\n",
              "      <td>0.310180</td>\n",
              "      <td>0.310508</td>\n",
              "      <td>-0.107915</td>\n",
              "      <td>-0.107915</td>\n",
              "      <td>-0.107915</td>\n",
              "      <td>-0.107915</td>\n",
              "      <td>-0.107915</td>\n",
              "      <td>-0.107915</td>\n",
              "      <td>0.0</td>\n",
              "      <td>0.0</td>\n",
              "      <td>0.0</td>\n",
              "      <td>0.205915</td>\n",
              "    </tr>\n",
              "    <tr>\n",
              "      <th>50%</th>\n",
              "      <td>0.311860</td>\n",
              "      <td>0.134824</td>\n",
              "      <td>0.361894</td>\n",
              "      <td>0.311656</td>\n",
              "      <td>0.312100</td>\n",
              "      <td>-0.055486</td>\n",
              "      <td>-0.055486</td>\n",
              "      <td>-0.055486</td>\n",
              "      <td>-0.055486</td>\n",
              "      <td>-0.055486</td>\n",
              "      <td>-0.055486</td>\n",
              "      <td>0.0</td>\n",
              "      <td>0.0</td>\n",
              "      <td>0.0</td>\n",
              "      <td>0.254186</td>\n",
              "    </tr>\n",
              "    <tr>\n",
              "      <th>75%</th>\n",
              "      <td>0.313392</td>\n",
              "      <td>0.159197</td>\n",
              "      <td>0.389184</td>\n",
              "      <td>0.313131</td>\n",
              "      <td>0.313705</td>\n",
              "      <td>-0.030696</td>\n",
              "      <td>-0.030696</td>\n",
              "      <td>-0.030696</td>\n",
              "      <td>-0.030696</td>\n",
              "      <td>-0.030696</td>\n",
              "      <td>-0.030696</td>\n",
              "      <td>0.0</td>\n",
              "      <td>0.0</td>\n",
              "      <td>0.0</td>\n",
              "      <td>0.278757</td>\n",
              "    </tr>\n",
              "    <tr>\n",
              "      <th>max</th>\n",
              "      <td>0.314924</td>\n",
              "      <td>0.226559</td>\n",
              "      <td>0.453789</td>\n",
              "      <td>0.314597</td>\n",
              "      <td>0.315313</td>\n",
              "      <td>0.034345</td>\n",
              "      <td>0.034345</td>\n",
              "      <td>0.034345</td>\n",
              "      <td>0.034345</td>\n",
              "      <td>0.034345</td>\n",
              "      <td>0.034345</td>\n",
              "      <td>0.0</td>\n",
              "      <td>0.0</td>\n",
              "      <td>0.0</td>\n",
              "      <td>0.345329</td>\n",
              "    </tr>\n",
              "  </tbody>\n",
              "</table>\n",
              "</div>"
            ],
            "text/plain": [
              "           trend  yhat_lower  ...  multiplicative_terms_upper       yhat\n",
              "count  15.000000   15.000000  ...                        15.0  15.000000\n",
              "mean    0.311860    0.129687  ...                         0.0   0.248326\n",
              "std     0.001958    0.053462  ...                         0.0   0.054789\n",
              "min     0.308796    0.055581  ...                         0.0   0.167086\n",
              "25%     0.310328    0.084462  ...                         0.0   0.205915\n",
              "50%     0.311860    0.134824  ...                         0.0   0.254186\n",
              "75%     0.313392    0.159197  ...                         0.0   0.278757\n",
              "max     0.314924    0.226559  ...                         0.0   0.345329\n",
              "\n",
              "[8 rows x 15 columns]"
            ]
          },
          "metadata": {
            "tags": []
          },
          "execution_count": 17
        }
      ]
    },
    {
      "cell_type": "code",
      "metadata": {
        "id": "BpfGcGwXkkTC"
      },
      "source": [
        "test_y=df['y'][valInd:]\n",
        "y_hat=forecast.yhat"
      ],
      "execution_count": null,
      "outputs": []
    },
    {
      "cell_type": "code",
      "metadata": {
        "id": "HgkFhU8glwqA"
      },
      "source": [
        "test_y=test_y.to_numpy()\n",
        "y_hat=y_hat.to_numpy()"
      ],
      "execution_count": null,
      "outputs": []
    },
    {
      "cell_type": "code",
      "metadata": {
        "colab": {
          "base_uri": "https://localhost:8080/"
        },
        "id": "aFKc8vz9lzYS",
        "outputId": "014b82f2-b711-4934-cb9f-5af14f48e6be"
      },
      "source": [
        "rss=((test_y-y_hat)**2).sum()\n",
        "mse=np.mean((test_y-y_hat)**2)\n",
        "print(\"Final rmse value is =\",np.sqrt(np.mean((test_y-y_hat)**2)))"
      ],
      "execution_count": null,
      "outputs": [
        {
          "output_type": "stream",
          "text": [
            "Final rmse value is = 0.05142232801462495\n"
          ],
          "name": "stdout"
        }
      ]
    },
    {
      "cell_type": "markdown",
      "metadata": {
        "id": "PrQSJE856jxw"
      },
      "source": [
        "#Pickeling the model"
      ]
    },
    {
      "cell_type": "code",
      "metadata": {
        "id": "td7DAlHm7Geo"
      },
      "source": [
        "pickle.dump(model,open(r'gdrive/My Drive/Colab Notebooks/TimeSeries/Walmart_Notebooks/W_Stores1_Prophet.sav','wb'))"
      ],
      "execution_count": null,
      "outputs": []
    }
  ]
}